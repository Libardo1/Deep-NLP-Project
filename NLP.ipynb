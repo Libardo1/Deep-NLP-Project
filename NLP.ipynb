{
 "cells": [
  {
   "cell_type": "code",
   "execution_count": 2,
   "metadata": {
    "collapsed": false
   },
   "outputs": [],
   "source": [
    "import numpy as np\n",
    "import pandas as pd\n",
    "import seaborn as sns\n",
    "import matplotlib.pyplot as plt\n",
    "import matplotlib\n",
    "#sns.set_style(style='white')\n",
    "%matplotlib inline\n",
    "matplotlib.rcParams['figure.figsize'] = (8.0, 6.0)"
   ]
  },
  {
   "cell_type": "markdown",
   "metadata": {},
   "source": [
    "# JSON File Helper Function"
   ]
  },
  {
   "cell_type": "code",
   "execution_count": 7,
   "metadata": {
    "collapsed": false
   },
   "outputs": [],
   "source": [
    "import graphlab as gl\n",
    "#gl.canvas.set_target('ipynb')\n",
    "gl.canvas.set_target('browser')\n",
    "\n",
    "def load_json_from_file(filename):\n",
    "    \"\"\"\n",
    "    Load JSON from a file.\n",
    "    INPUT:  filename  Name of the file to be read.\n",
    "    RETURN: Output SFrame\n",
    "    \"\"\"\n",
    "    # Read the entire file into a SFrame with one row\n",
    "    sf = gl.SFrame.read_csv(filename, delimiter='\\n', header=False)\n",
    "    \n",
    "    # The dictionary can be unpacked to generate the individual columns.\n",
    "    sf = sf.unpack('X1', column_name_prefix='')\n",
    "    return sf"
   ]
  },
  {
   "cell_type": "markdown",
   "metadata": {},
   "source": [
    "# Import Sport Amazon Review Data"
   ]
  },
  {
   "cell_type": "code",
   "execution_count": 5,
   "metadata": {
    "collapsed": false
   },
   "outputs": [
    {
     "name": "stdout",
     "output_type": "stream",
     "text": [
      "PROGRESS: Finished parsing file /Users/marvinbertin/Desktop/data/reviews_Sports_and_Outdoors.json\n",
      "PROGRESS: Parsing completed. Parsed 100 lines in 0.852762 secs.\n",
      "------------------------------------------------------\n",
      "Inferred types from first line of file as \n",
      "column_type_hints=[dict]\n",
      "If parsing fails due to incorrect types, you can correct\n",
      "the inferred type list above and pass it to read_csv in\n",
      "the column_type_hints argument\n",
      "------------------------------------------------------\n",
      "PROGRESS: Read 87647 lines. Lines per second: 52203.5\n",
      "PROGRESS: Read 515426 lines. Lines per second: 76801\n",
      "PROGRESS: Read 943198 lines. Lines per second: 77128.5\n",
      "PROGRESS: Read 1284612 lines. Lines per second: 73999.4\n",
      "PROGRESS: Read 1627442 lines. Lines per second: 71502.3\n",
      "PROGRESS: Read 2065606 lines. Lines per second: 71409.3\n",
      "PROGRESS: Read 2424790 lines. Lines per second: 69698.2\n",
      "PROGRESS: Read 2796444 lines. Lines per second: 69670.4\n",
      "PROGRESS: Read 3073769 lines. Lines per second: 67101.7\n",
      "PROGRESS: Finished parsing file /Users/marvinbertin/Desktop/data/reviews_Sports_and_Outdoors.json\n",
      "PROGRESS: Parsing completed. Parsed 3268719 lines in 48.3336 secs.\n"
     ]
    }
   ],
   "source": [
    "# 3.3 Millions reviews!\n",
    "Sport = load_json_from_file('/Users/marvinbertin/Desktop/data/reviews_Sports_and_Outdoors.json')"
   ]
  },
  {
   "cell_type": "code",
   "execution_count": 8,
   "metadata": {
    "collapsed": false,
    "scrolled": true
   },
   "outputs": [
    {
     "name": "stdout",
     "output_type": "stream",
     "text": [
      "Canvas is accessible via web browser at the URL: http://localhost:54674/index.html\n",
      "Opening Canvas in default web browser.\n"
     ]
    }
   ],
   "source": [
    "Sport.show()"
   ]
  },
  {
   "cell_type": "markdown",
   "metadata": {},
   "source": [
    "![](images/show.png)"
   ]
  },
  {
   "cell_type": "markdown",
   "metadata": {},
   "source": [
    "## Remove Empty Reviews"
   ]
  },
  {
   "cell_type": "code",
   "execution_count": 6,
   "metadata": {
    "collapsed": true
   },
   "outputs": [],
   "source": [
    "# remove empty reviews\n",
    "Sport = Sport.filter_by(values = '',\n",
    "                        column_name = 'reviewText',\n",
    "                        exclude = True)"
   ]
  },
  {
   "cell_type": "markdown",
   "metadata": {},
   "source": [
    "# Class Imbalance!"
   ]
  },
  {
   "cell_type": "code",
   "execution_count": 7,
   "metadata": {
    "collapsed": false,
    "scrolled": true
   },
   "outputs": [
    {
     "data": {
      "image/png": "[encoded data removed]",
      "text/plain": [
       "<matplotlib.figure.Figure at 0x100737710>"
      ]
     },
     "metadata": {},
     "output_type": "display_data"
    }
   ],
   "source": [
    "sns.distplot(Sport['overall'], kde = False, color = 'red', norm_hist=False)\n",
    "plt.ylabel(\"Count\")\n",
    "plt.xlabel(\"Rating\")\n",
    "plt.title(\"\");"
   ]
  },
  {
   "cell_type": "markdown",
   "metadata": {},
   "source": [
    "**What to note:**\n",
    "* Large majority of Reviews are positive\n",
    "* A rating of 1 is more common than a rating of 2 (review tend to polarize)"
   ]
  },
  {
   "cell_type": "markdown",
   "metadata": {},
   "source": [
    "## Down sample positive reviews"
   ]
  },
  {
   "cell_type": "code",
   "execution_count": 19,
   "metadata": {
    "collapsed": false
   },
   "outputs": [
    {
     "name": "stdout",
     "output_type": "stream",
     "text": [
      "1: Count = 246841\n",
      "2: Count = 168312\n",
      "3: Count = 276978\n",
      "4: Count = 638327\n",
      "5: Count = 1918569\n"
     ]
    }
   ],
   "source": [
    "indices = []\n",
    "for rating in range(1, 6):\n",
    "    idx = Sport['overall'] == rating\n",
    "    indices.append(idx)\n",
    "    print str(rating) + ': Count = '+ str(sum(idx))\n",
    "    "
   ]
  },
  {
   "cell_type": "markdown",
   "metadata": {},
   "source": [
    "** Build a SFrame where each rating value has about 200,000 reviews** "
   ]
  },
  {
   "cell_type": "code",
   "execution_count": 23,
   "metadata": {
    "collapsed": false
   },
   "outputs": [],
   "source": [
    "# Shuffle each category to make new sample as unbaised as possible\n",
    "\n",
    "Sport_balanced = gl.toolkits.cross_validation.shuffle(Sport[indices[0]])[:200000]\n",
    "for idx in indices[1:]:\n",
    "    sf = gl.toolkits.cross_validation.shuffle(Sport[idx], random_seed=0)[:200000]\n",
    "    Sport_balanced = Sport_balanced.append(sf)"
   ]
  },
  {
   "cell_type": "code",
   "execution_count": 27,
   "metadata": {
    "collapsed": false
   },
   "outputs": [
    {
     "data": {
      "text/html": [
       "<div style=\"max-height:1000px;max-width:1500px;overflow:auto;\"><table frame=\"box\" rules=\"cols\">\n",
       "    <tr>\n",
       "        <th style=\"padding-left: 1em; padding-right: 1em; text-align: center\">asin</th>\n",
       "        <th style=\"padding-left: 1em; padding-right: 1em; text-align: center\">helpful</th>\n",
       "        <th style=\"padding-left: 1em; padding-right: 1em; text-align: center\">overall</th>\n",
       "        <th style=\"padding-left: 1em; padding-right: 1em; text-align: center\">reviewText</th>\n",
       "        <th style=\"padding-left: 1em; padding-right: 1em; text-align: center\">reviewTime</th>\n",
       "        <th style=\"padding-left: 1em; padding-right: 1em; text-align: center\">reviewerID</th>\n",
       "        <th style=\"padding-left: 1em; padding-right: 1em; text-align: center\">reviewerName</th>\n",
       "    </tr>\n",
       "    <tr>\n",
       "        <td style=\"padding-left: 1em; padding-right: 1em; text-align: center; vertical-align: top\">B0007VB4NE</td>\n",
       "        <td style=\"padding-left: 1em; padding-right: 1em; text-align: center; vertical-align: top\">[0, 0]</td>\n",
       "        <td style=\"padding-left: 1em; padding-right: 1em; text-align: center; vertical-align: top\">5.0</td>\n",
       "        <td style=\"padding-left: 1em; padding-right: 1em; text-align: center; vertical-align: top\">I love this chair for<br>using at my computer. ...</td>\n",
       "        <td style=\"padding-left: 1em; padding-right: 1em; text-align: center; vertical-align: top\">07 7, 2011</td>\n",
       "        <td style=\"padding-left: 1em; padding-right: 1em; text-align: center; vertical-align: top\">A2TWC2TMTN4MD9</td>\n",
       "        <td style=\"padding-left: 1em; padding-right: 1em; text-align: center; vertical-align: top\">Marcialyn T. Heath</td>\n",
       "    </tr>\n",
       "    <tr>\n",
       "        <td style=\"padding-left: 1em; padding-right: 1em; text-align: center; vertical-align: top\">B003HC83BG</td>\n",
       "        <td style=\"padding-left: 1em; padding-right: 1em; text-align: center; vertical-align: top\">[0, 0]</td>\n",
       "        <td style=\"padding-left: 1em; padding-right: 1em; text-align: center; vertical-align: top\">2.0</td>\n",
       "        <td style=\"padding-left: 1em; padding-right: 1em; text-align: center; vertical-align: top\">My Kindergartener uses<br>this lock to secure her ...</td>\n",
       "        <td style=\"padding-left: 1em; padding-right: 1em; text-align: center; vertical-align: top\">05 23, 2014</td>\n",
       "        <td style=\"padding-left: 1em; padding-right: 1em; text-align: center; vertical-align: top\">AP97G6W8E3FH6</td>\n",
       "        <td style=\"padding-left: 1em; padding-right: 1em; text-align: center; vertical-align: top\">Paul Rasmussen</td>\n",
       "    </tr>\n",
       "    <tr>\n",
       "        <td style=\"padding-left: 1em; padding-right: 1em; text-align: center; vertical-align: top\">B001FOQV2Q</td>\n",
       "        <td style=\"padding-left: 1em; padding-right: 1em; text-align: center; vertical-align: top\">[0, 0]</td>\n",
       "        <td style=\"padding-left: 1em; padding-right: 1em; text-align: center; vertical-align: top\">3.0</td>\n",
       "        <td style=\"padding-left: 1em; padding-right: 1em; text-align: center; vertical-align: top\">This is a nice watch. I<br>like the two tone of it. ...</td>\n",
       "        <td style=\"padding-left: 1em; padding-right: 1em; text-align: center; vertical-align: top\">08 20, 2010</td>\n",
       "        <td style=\"padding-left: 1em; padding-right: 1em; text-align: center; vertical-align: top\">A2QU7PCR9W54Y0</td>\n",
       "        <td style=\"padding-left: 1em; padding-right: 1em; text-align: center; vertical-align: top\">The Watch Geek</td>\n",
       "    </tr>\n",
       "    <tr>\n",
       "        <td style=\"padding-left: 1em; padding-right: 1em; text-align: center; vertical-align: top\">B002JPCITK</td>\n",
       "        <td style=\"padding-left: 1em; padding-right: 1em; text-align: center; vertical-align: top\">[1, 2]</td>\n",
       "        <td style=\"padding-left: 1em; padding-right: 1em; text-align: center; vertical-align: top\">2.0</td>\n",
       "        <td style=\"padding-left: 1em; padding-right: 1em; text-align: center; vertical-align: top\">Such a let down! I tried<br>to use this mat last ...</td>\n",
       "        <td style=\"padding-left: 1em; padding-right: 1em; text-align: center; vertical-align: top\">02 27, 2012</td>\n",
       "        <td style=\"padding-left: 1em; padding-right: 1em; text-align: center; vertical-align: top\">A1FX2FDTXC8A94</td>\n",
       "        <td style=\"padding-left: 1em; padding-right: 1em; text-align: center; vertical-align: top\">Amazon Customer</td>\n",
       "    </tr>\n",
       "    <tr>\n",
       "        <td style=\"padding-left: 1em; padding-right: 1em; text-align: center; vertical-align: top\">B003MUILJM</td>\n",
       "        <td style=\"padding-left: 1em; padding-right: 1em; text-align: center; vertical-align: top\">[0, 0]</td>\n",
       "        <td style=\"padding-left: 1em; padding-right: 1em; text-align: center; vertical-align: top\">2.0</td>\n",
       "        <td style=\"padding-left: 1em; padding-right: 1em; text-align: center; vertical-align: top\">I was looking forward to<br>using this. The Picture ...</td>\n",
       "        <td style=\"padding-left: 1em; padding-right: 1em; text-align: center; vertical-align: top\">01 1, 2014</td>\n",
       "        <td style=\"padding-left: 1em; padding-right: 1em; text-align: center; vertical-align: top\">ALOL4WXO3FHYG</td>\n",
       "        <td style=\"padding-left: 1em; padding-right: 1em; text-align: center; vertical-align: top\">Clyde Reynolds</td>\n",
       "    </tr>\n",
       "    <tr>\n",
       "        <td style=\"padding-left: 1em; padding-right: 1em; text-align: center; vertical-align: top\">B000GYR9G8</td>\n",
       "        <td style=\"padding-left: 1em; padding-right: 1em; text-align: center; vertical-align: top\">[0, 0]</td>\n",
       "        <td style=\"padding-left: 1em; padding-right: 1em; text-align: center; vertical-align: top\">3.0</td>\n",
       "        <td style=\"padding-left: 1em; padding-right: 1em; text-align: center; vertical-align: top\">If you're modest, you<br>might want to wear ...</td>\n",
       "        <td style=\"padding-left: 1em; padding-right: 1em; text-align: center; vertical-align: top\">07 4, 2010</td>\n",
       "        <td style=\"padding-left: 1em; padding-right: 1em; text-align: center; vertical-align: top\">A3CFLMZUR7IA44</td>\n",
       "        <td style=\"padding-left: 1em; padding-right: 1em; text-align: center; vertical-align: top\">JP \"J in the US\"</td>\n",
       "    </tr>\n",
       "    <tr>\n",
       "        <td style=\"padding-left: 1em; padding-right: 1em; text-align: center; vertical-align: top\">B0027TQMV8</td>\n",
       "        <td style=\"padding-left: 1em; padding-right: 1em; text-align: center; vertical-align: top\">[6, 6]</td>\n",
       "        <td style=\"padding-left: 1em; padding-right: 1em; text-align: center; vertical-align: top\">5.0</td>\n",
       "        <td style=\"padding-left: 1em; padding-right: 1em; text-align: center; vertical-align: top\">Purchased my first full<br>carbon bike and was told ...</td>\n",
       "        <td style=\"padding-left: 1em; padding-right: 1em; text-align: center; vertical-align: top\">03 27, 2012</td>\n",
       "        <td style=\"padding-left: 1em; padding-right: 1em; text-align: center; vertical-align: top\">A163K7LG1IOCUP</td>\n",
       "        <td style=\"padding-left: 1em; padding-right: 1em; text-align: center; vertical-align: top\">Jonny B</td>\n",
       "    </tr>\n",
       "    <tr>\n",
       "        <td style=\"padding-left: 1em; padding-right: 1em; text-align: center; vertical-align: top\">B002I0BJLE</td>\n",
       "        <td style=\"padding-left: 1em; padding-right: 1em; text-align: center; vertical-align: top\">[0, 0]</td>\n",
       "        <td style=\"padding-left: 1em; padding-right: 1em; text-align: center; vertical-align: top\">4.0</td>\n",
       "        <td style=\"padding-left: 1em; padding-right: 1em; text-align: center; vertical-align: top\">I got these for my 5 year<br>old daughter and she ...</td>\n",
       "        <td style=\"padding-left: 1em; padding-right: 1em; text-align: center; vertical-align: top\">07 8, 2013</td>\n",
       "        <td style=\"padding-left: 1em; padding-right: 1em; text-align: center; vertical-align: top\">A1KC1X38LDJS5G</td>\n",
       "        <td style=\"padding-left: 1em; padding-right: 1em; text-align: center; vertical-align: top\">jeremy p phipps</td>\n",
       "    </tr>\n",
       "    <tr>\n",
       "        <td style=\"padding-left: 1em; padding-right: 1em; text-align: center; vertical-align: top\">B008E15LE2</td>\n",
       "        <td style=\"padding-left: 1em; padding-right: 1em; text-align: center; vertical-align: top\">[1, 8]</td>\n",
       "        <td style=\"padding-left: 1em; padding-right: 1em; text-align: center; vertical-align: top\">2.0</td>\n",
       "        <td style=\"padding-left: 1em; padding-right: 1em; text-align: center; vertical-align: top\">If I receive wat I ask<br>for, I don't like it too ...</td>\n",
       "        <td style=\"padding-left: 1em; padding-right: 1em; text-align: center; vertical-align: top\">11 26, 2012</td>\n",
       "        <td style=\"padding-left: 1em; padding-right: 1em; text-align: center; vertical-align: top\">A3DYS4CZJRHY0C</td>\n",
       "        <td style=\"padding-left: 1em; padding-right: 1em; text-align: center; vertical-align: top\">Ricardo</td>\n",
       "    </tr>\n",
       "    <tr>\n",
       "        <td style=\"padding-left: 1em; padding-right: 1em; text-align: center; vertical-align: top\">B003PBHLKS</td>\n",
       "        <td style=\"padding-left: 1em; padding-right: 1em; text-align: center; vertical-align: top\">[0, 0]</td>\n",
       "        <td style=\"padding-left: 1em; padding-right: 1em; text-align: center; vertical-align: top\">5.0</td>\n",
       "        <td style=\"padding-left: 1em; padding-right: 1em; text-align: center; vertical-align: top\">quality is not very good,<br>but it's good enough for ...</td>\n",
       "        <td style=\"padding-left: 1em; padding-right: 1em; text-align: center; vertical-align: top\">01 10, 2013</td>\n",
       "        <td style=\"padding-left: 1em; padding-right: 1em; text-align: center; vertical-align: top\">A2BQT84E06XOO4</td>\n",
       "        <td style=\"padding-left: 1em; padding-right: 1em; text-align: center; vertical-align: top\">Evilsanta</td>\n",
       "    </tr>\n",
       "</table>\n",
       "<table frame=\"box\" rules=\"cols\">\n",
       "    <tr>\n",
       "        <th style=\"padding-left: 1em; padding-right: 1em; text-align: center\">summary</th>\n",
       "        <th style=\"padding-left: 1em; padding-right: 1em; text-align: center\">unixReviewTime</th>\n",
       "    </tr>\n",
       "    <tr>\n",
       "        <td style=\"padding-left: 1em; padding-right: 1em; text-align: center; vertical-align: top\">Great chair</td>\n",
       "        <td style=\"padding-left: 1em; padding-right: 1em; text-align: center; vertical-align: top\">1309996800</td>\n",
       "    </tr>\n",
       "    <tr>\n",
       "        <td style=\"padding-left: 1em; padding-right: 1em; text-align: center; vertical-align: top\">Falls apart and gets<br>stuck ...</td>\n",
       "        <td style=\"padding-left: 1em; padding-right: 1em; text-align: center; vertical-align: top\">1400803200</td>\n",
       "    </tr>\n",
       "    <tr>\n",
       "        <td style=\"padding-left: 1em; padding-right: 1em; text-align: center; vertical-align: top\">Nice Watch</td>\n",
       "        <td style=\"padding-left: 1em; padding-right: 1em; text-align: center; vertical-align: top\">1282262400</td>\n",
       "    </tr>\n",
       "    <tr>\n",
       "        <td style=\"padding-left: 1em; padding-right: 1em; text-align: center; vertical-align: top\">So slippery!</td>\n",
       "        <td style=\"padding-left: 1em; padding-right: 1em; text-align: center; vertical-align: top\">1330300800</td>\n",
       "    </tr>\n",
       "    <tr>\n",
       "        <td style=\"padding-left: 1em; padding-right: 1em; text-align: center; vertical-align: top\">Too Bad</td>\n",
       "        <td style=\"padding-left: 1em; padding-right: 1em; text-align: center; vertical-align: top\">1388534400</td>\n",
       "    </tr>\n",
       "    <tr>\n",
       "        <td style=\"padding-left: 1em; padding-right: 1em; text-align: center; vertical-align: top\">Shirt is really nice...<br>but sheer - be careful ...</td>\n",
       "        <td style=\"padding-left: 1em; padding-right: 1em; text-align: center; vertical-align: top\">1278201600</td>\n",
       "    </tr>\n",
       "    <tr>\n",
       "        <td style=\"padding-left: 1em; padding-right: 1em; text-align: center; vertical-align: top\">Great Tool</td>\n",
       "        <td style=\"padding-left: 1em; padding-right: 1em; text-align: center; vertical-align: top\">1332806400</td>\n",
       "    </tr>\n",
       "    <tr>\n",
       "        <td style=\"padding-left: 1em; padding-right: 1em; text-align: center; vertical-align: top\">Big Hit with my Daughter</td>\n",
       "        <td style=\"padding-left: 1em; padding-right: 1em; text-align: center; vertical-align: top\">1373241600</td>\n",
       "    </tr>\n",
       "    <tr>\n",
       "        <td style=\"padding-left: 1em; padding-right: 1em; text-align: center; vertical-align: top\">Wasn't wat i wan't</td>\n",
       "        <td style=\"padding-left: 1em; padding-right: 1em; text-align: center; vertical-align: top\">1353888000</td>\n",
       "    </tr>\n",
       "    <tr>\n",
       "        <td style=\"padding-left: 1em; padding-right: 1em; text-align: center; vertical-align: top\">good enough</td>\n",
       "        <td style=\"padding-left: 1em; padding-right: 1em; text-align: center; vertical-align: top\">1357776000</td>\n",
       "    </tr>\n",
       "</table>\n",
       "[968312 rows x 9 columns]<br/>Note: Only the head of the SFrame is printed.<br/>You can use print_rows(num_rows=m, num_columns=n) to print more rows and columns.\n",
       "</div>"
      ],
      "text/plain": [
       "Columns:\n",
       "\tasin\tstr\n",
       "\thelpful\tlist\n",
       "\toverall\tfloat\n",
       "\treviewText\tstr\n",
       "\treviewTime\tstr\n",
       "\treviewerID\tstr\n",
       "\treviewerName\tstr\n",
       "\tsummary\tstr\n",
       "\tunixReviewTime\tint\n",
       "\n",
       "Rows: 968312\n",
       "\n",
       "Data:\n",
       "+------------+---------+---------+-------------------------------+-------------+\n",
       "|    asin    | helpful | overall |           reviewText          |  reviewTime |\n",
       "+------------+---------+---------+-------------------------------+-------------+\n",
       "| B0007VB4NE |  [0, 0] |   5.0   | I love this chair for usin... |  07 7, 2011 |\n",
       "| B003HC83BG |  [0, 0] |   2.0   | My Kindergartener uses thi... | 05 23, 2014 |\n",
       "| B001FOQV2Q |  [0, 0] |   3.0   | This is a nice watch. I li... | 08 20, 2010 |\n",
       "| B002JPCITK |  [1, 2] |   2.0   | Such a let down! I tried t... | 02 27, 2012 |\n",
       "| B003MUILJM |  [0, 0] |   2.0   | I was looking forward to u... |  01 1, 2014 |\n",
       "| B000GYR9G8 |  [0, 0] |   3.0   | If you're modest, you migh... |  07 4, 2010 |\n",
       "| B0027TQMV8 |  [6, 6] |   5.0   | Purchased my first full ca... | 03 27, 2012 |\n",
       "| B002I0BJLE |  [0, 0] |   4.0   | I got these for my 5 year ... |  07 8, 2013 |\n",
       "| B008E15LE2 |  [1, 8] |   2.0   | If I receive wat I ask for... | 11 26, 2012 |\n",
       "| B003PBHLKS |  [0, 0] |   5.0   | quality is not very good, ... | 01 10, 2013 |\n",
       "+------------+---------+---------+-------------------------------+-------------+\n",
       "+----------------+--------------------+-------------------------------+\n",
       "|   reviewerID   |    reviewerName    |            summary            |\n",
       "+----------------+--------------------+-------------------------------+\n",
       "| A2TWC2TMTN4MD9 | Marcialyn T. Heath |          Great chair          |\n",
       "| AP97G6W8E3FH6  |   Paul Rasmussen   |   Falls apart and gets stuck  |\n",
       "| A2QU7PCR9W54Y0 |   The Watch Geek   |           Nice Watch          |\n",
       "| A1FX2FDTXC8A94 |  Amazon Customer   |          So slippery!         |\n",
       "| ALOL4WXO3FHYG  |   Clyde Reynolds   |            Too Bad            |\n",
       "| A3CFLMZUR7IA44 |  JP \"J in the US\"  | Shirt is really nice... bu... |\n",
       "| A163K7LG1IOCUP |      Jonny B       |           Great Tool          |\n",
       "| A1KC1X38LDJS5G |  jeremy p phipps   |    Big Hit with my Daughter   |\n",
       "| A3DYS4CZJRHY0C |      Ricardo       |       Wasn't wat i wan't      |\n",
       "| A2BQT84E06XOO4 |     Evilsanta      |          good enough          |\n",
       "+----------------+--------------------+-------------------------------+\n",
       "+----------------+\n",
       "| unixReviewTime |\n",
       "+----------------+\n",
       "|   1309996800   |\n",
       "|   1400803200   |\n",
       "|   1282262400   |\n",
       "|   1330300800   |\n",
       "|   1388534400   |\n",
       "|   1278201600   |\n",
       "|   1332806400   |\n",
       "|   1373241600   |\n",
       "|   1353888000   |\n",
       "|   1357776000   |\n",
       "+----------------+\n",
       "[968312 rows x 9 columns]\n",
       "Note: Only the head of the SFrame is printed.\n",
       "You can use print_rows(num_rows=m, num_columns=n) to print more rows and columns."
      ]
     },
     "execution_count": 27,
     "metadata": {},
     "output_type": "execute_result"
    }
   ],
   "source": [
    "Sport_balanced = gl.toolkits.cross_validation.shuffle(Sport_balanced)\n",
    "Sport_balanced"
   ]
  },
  {
   "cell_type": "code",
   "execution_count": 28,
   "metadata": {
    "collapsed": false
   },
   "outputs": [
    {
     "data": {
      "image/png": "[encoded data removed]",
      "text/plain": [
       "<matplotlib.figure.Figure at 0x10240b7d0>"
      ]
     },
     "metadata": {},
     "output_type": "display_data"
    }
   ],
   "source": [
    "sns.distplot(Sport_balanced['overall'], kde = False, color = 'red')\n",
    "plt.ylabel(\"Count\")\n",
    "plt.xlabel(\"Rating\")\n",
    "plt.title(\"\");"
   ]
  },
  {
   "cell_type": "markdown",
   "metadata": {},
   "source": [
    "# Export Balanced Dataset to JSON"
   ]
  },
  {
   "cell_type": "code",
   "execution_count": 29,
   "metadata": {
    "collapsed": true
   },
   "outputs": [],
   "source": [
    "Sport_balanced.export_json(filename = '/Users/marvinbertin/Desktop/data/Sport_balanced', orient = 'lines')"
   ]
  },
  {
   "cell_type": "markdown",
   "metadata": {},
   "source": [
    "# Load JSON File"
   ]
  },
  {
   "cell_type": "code",
   "execution_count": 9,
   "metadata": {
    "collapsed": false
   },
   "outputs": [
    {
     "name": "stdout",
     "output_type": "stream",
     "text": [
      "PROGRESS: Finished parsing file /Users/marvinbertin/Desktop/data/Sport_balanced\n",
      "PROGRESS: Parsing completed. Parsed 100 lines in 0.867155 secs.\n",
      "------------------------------------------------------\n",
      "Inferred types from first line of file as \n",
      "column_type_hints=[dict]\n",
      "If parsing fails due to incorrect types, you can correct\n",
      "the inferred type list above and pass it to read_csv in\n",
      "the column_type_hints argument\n",
      "------------------------------------------------------\n",
      "PROGRESS: Read 86389 lines. Lines per second: 48968.6\n",
      "PROGRESS: Read 517717 lines. Lines per second: 69470.7\n",
      "PROGRESS: Read 948845 lines. Lines per second: 74941.3\n",
      "PROGRESS: Finished parsing file /Users/marvinbertin/Desktop/data/Sport_balanced\n",
      "PROGRESS: Parsing completed. Parsed 968312 lines in 12.8217 secs.\n"
     ]
    }
   ],
   "source": [
    "Sport_balanced = load_json_from_file('/Users/marvinbertin/Desktop/data/Sport_balanced')"
   ]
  },
  {
   "cell_type": "markdown",
   "metadata": {},
   "source": [
    "# Data Exploration"
   ]
  },
  {
   "cell_type": "code",
   "execution_count": 10,
   "metadata": {
    "collapsed": false,
    "scrolled": false
   },
   "outputs": [
    {
     "name": "stdout",
     "output_type": "stream",
     "text": [
      "Canvas is updated and available in a tab in the default browser.\n"
     ]
    }
   ],
   "source": [
    "# Green: num. of review per items\n",
    "# Yellow: mean rating per items\n",
    "# Purple: Std of ratings per items\n",
    "Sport_balanced.show(view = 'Bar Chart', x = 'asin')"
   ]
  },
  {
   "cell_type": "markdown",
   "metadata": {},
   "source": [
    "![](images/P_count.png)"
   ]
  },
  {
   "cell_type": "markdown",
   "metadata": {},
   "source": [
    "![](images/P_mean.png)"
   ]
  },
  {
   "cell_type": "markdown",
   "metadata": {},
   "source": [
    "![](images/P_std.png)"
   ]
  },
  {
   "cell_type": "markdown",
   "metadata": {},
   "source": [
    "**What to note:**\n",
    "* Number of reviews per item varies wildly, from a dozen to thousands of reviews.\n",
    "* Mean rating is nicely distributed (balanced)\n",
    "* Mean rating has low variance (std ~ 1.0). Most reviewers agree with eachother"
   ]
  },
  {
   "cell_type": "code",
   "execution_count": 9,
   "metadata": {
    "collapsed": false
   },
   "outputs": [
    {
     "data": {
      "application/javascript": [
       "$(\"head\").append($(\"<link/>\").attr({\n",
       "  rel:  \"stylesheet\",\n",
       "  type: \"text/css\",\n",
       "  href: \"//cdnjs.cloudflare.com/ajax/libs/font-awesome/4.1.0/css/font-awesome.min.css\"\n",
       "}));\n",
       "$(\"head\").append($(\"<link/>\").attr({\n",
       "  rel:  \"stylesheet\",\n",
       "  type: \"text/css\",\n",
       "  href: \"//dato.com/files/canvas/1.7.1/css/canvas.css\"\n",
       "}));\n",
       "\n",
       "            (function(){\n",
       "\n",
       "                var e = null;\n",
       "                if (typeof element == 'undefined') {\n",
       "                    var scripts = document.getElementsByTagName('script');\n",
       "                    var thisScriptTag = scripts[scripts.length-1];\n",
       "                    var parentDiv = thisScriptTag.parentNode;\n",
       "                    e = document.createElement('div');\n",
       "                    parentDiv.appendChild(e);\n",
       "                } else {\n",
       "                    e = element[0];\n",
       "                }\n",
       "\n",
       "                if (typeof requirejs !== 'undefined') {\n",
       "                    // disable load timeout; ipython_app.js is large and can take a while to load.\n",
       "                    requirejs.config({waitSeconds: 0});\n",
       "                }\n",
       "\n",
       "                require(['//dato.com/files/canvas/1.7.1/js/ipython_app.js'], function(IPythonApp){\n",
       "                    var app = new IPythonApp();\n",
       "                    app.attachView('sframe','Plots', {\"selected_variable\": {\"name\": [\"Sport_balanced\"], \"descriptives\": {\"rows\": 968312, \"columns\": 9}, \"view_component\": \"Plots\", \"view_file\": \"sframe\", \"view_params\": {\"y\": \"overall\", \"x\": \"reviewerID\", \"columns\": [\"asin\", \"helpful\", \"overall\", \"reviewText\", \"reviewTime\", \"reviewerID\", \"reviewerName\", \"summary\", \"unixReviewTime\"], \"view\": \"Bar Chart\"}, \"view_components\": [\"Summary\", \"Table\", \"Bar Chart\", \"BoxWhisker Plot\", \"Line Chart\", \"Scatter Plot\", \"Heat Map\", \"Plots\"], \"type\": \"SFrame\", \"columns\": [{\"dtype\": \"str\", \"name\": \"asin\"}, {\"dtype\": \"list\", \"name\": \"helpful\"}, {\"dtype\": \"int\", \"name\": \"overall\"}, {\"dtype\": \"str\", \"name\": \"reviewText\"}, {\"dtype\": \"str\", \"name\": \"reviewTime\"}, {\"dtype\": \"str\", \"name\": \"reviewerID\"}, {\"dtype\": \"str\", \"name\": \"reviewerName\"}, {\"dtype\": \"str\", \"name\": \"summary\"}, {\"dtype\": \"int\", \"name\": \"unixReviewTime\"}], \"column_identifiers\": [\"reviewerID\", \"asin\", \"reviewerName\", \"helpful\", \"reviewText\", \"overall\", \"summary\", \"unixReviewTime\", \"reviewTime\"]}, \"complete\": 1, \"ipython\": true, \"progress\": 1.0, \"data\": {\"grouped\": {\"A3HESKHP4DIFEG\": {\"count\": 3, \"std\": 0.9428090415820634, \"min\": 2, \"max\": 4, \"sum\": 10, \"var\": 0.8888888888888888, \"mean\": 3.3333333333333335}, \"A35M3QJDHIFXJF\": {\"count\": 1, \"std\": 0.0, \"min\": 2, \"max\": 2, \"sum\": 2, \"var\": 0.0, \"mean\": 2.0}, \"A2XK8UD4VL6ESC\": {\"count\": 1, \"std\": 0.0, \"min\": 1, \"max\": 1, \"sum\": 1, \"var\": 0.0, \"mean\": 1.0}, \"ACIGTL8DMMTP0\": {\"count\": 1, \"std\": 0.0, \"min\": 1, \"max\": 1, \"sum\": 1, \"var\": 0.0, \"mean\": 1.0}, \"AOC1THISZJ47Q\": {\"count\": 1, \"std\": 0.0, \"min\": 5, \"max\": 5, \"sum\": 5, \"var\": 0.0, \"mean\": 5.0}, \"AXAJXJZUL2J5P\": {\"count\": 2, \"std\": 0.5, \"min\": 3, \"max\": 4, \"sum\": 7, \"var\": 0.25, \"mean\": 3.5}, \"A36ERMWUJXMYH\": {\"count\": 1, \"std\": 0.0, \"min\": 5, \"max\": 5, \"sum\": 5, \"var\": 0.0, \"mean\": 5.0}, \"A3NNOH78U8PY1V\": {\"count\": 1, \"std\": 0.0, \"min\": 4, \"max\": 4, \"sum\": 4, \"var\": 0.0, \"mean\": 4.0}, \"A1UUTQEGH1PEJ3\": {\"count\": 1, \"std\": 0.0, \"min\": 1, \"max\": 1, \"sum\": 1, \"var\": 0.0, \"mean\": 1.0}, \"AQXKSAIZYBLW8\": {\"count\": 1, \"std\": 0.0, \"min\": 5, \"max\": 5, \"sum\": 5, \"var\": 0.0, \"mean\": 5.0}, \"A2WONR4I0RL1RY\": {\"count\": 1, \"std\": 0.0, \"min\": 4, \"max\": 4, \"sum\": 4, \"var\": 0.0, \"mean\": 4.0}, \"A1JYHZ96GUO5X5\": {\"count\": 1, \"std\": 0.0, \"min\": 3, \"max\": 3, \"sum\": 3, \"var\": 0.0, \"mean\": 3.0}, \"A3W2CCBB22ZD15\": {\"count\": 1, \"std\": 0.0, \"min\": 5, \"max\": 5, \"sum\": 5, \"var\": 0.0, \"mean\": 5.0}, \"A1TY97ZGQT5FGF\": {\"count\": 7, \"std\": 0.6998542122237652, \"min\": 1, \"max\": 3, \"sum\": 9, \"var\": 0.489795918367347, \"mean\": 1.2857142857142858}, \"A1PKLF8I698XH7\": {\"count\": 1, \"std\": 0.0, \"min\": 5, \"max\": 5, \"sum\": 5, \"var\": 0.0, \"mean\": 5.0}, \"A3VP9XY02MQOBW\": {\"count\": 1, \"std\": 0.0, \"min\": 2, \"max\": 2, \"sum\": 2, \"var\": 0.0, \"mean\": 2.0}, \"A2OWMPI0HP00H2\": {\"count\": 1, \"std\": 0.0, \"min\": 2, \"max\": 2, \"sum\": 2, \"var\": 0.0, \"mean\": 2.0}, \"A2BT1BGZK25KNV\": {\"count\": 1, \"std\": 0.0, \"min\": 5, \"max\": 5, \"sum\": 5, \"var\": 0.0, \"mean\": 5.0}, \"AZGJAMGUTPGZ6\": {\"count\": 1, \"std\": 0.0, \"min\": 3, \"max\": 3, \"sum\": 3, \"var\": 0.0, \"mean\": 3.0}, \"A26D9DYO32BYZU\": {\"count\": 2, \"std\": 1.0, \"min\": 2, \"max\": 4, \"sum\": 6, \"var\": 1.0, \"mean\": 3.0}, \"A19X8AO1OMWH6B\": {\"count\": 1, \"std\": 0.0, \"min\": 5, \"max\": 5, \"sum\": 5, \"var\": 0.0, \"mean\": 5.0}, \"A13HOJPCKJ25VY\": {\"count\": 1, \"std\": 0.0, \"min\": 2, \"max\": 2, \"sum\": 2, \"var\": 0.0, \"mean\": 2.0}, \"A2UEB48LAWFUCW\": {\"count\": 1, \"std\": 0.0, \"min\": 2, \"max\": 2, \"sum\": 2, \"var\": 0.0, \"mean\": 2.0}, \"A17OYHJBJBA0HM\": {\"count\": 1, \"std\": 0.0, \"min\": 4, \"max\": 4, \"sum\": 4, \"var\": 0.0, \"mean\": 4.0}, \"A1FM4Y73YUV92K\": {\"count\": 2, \"std\": 1.5, \"min\": 2, \"max\": 5, \"sum\": 7, \"var\": 2.25, \"mean\": 3.5}, \"A9VYFMMMNZHIC\": {\"count\": 3, \"std\": 0.4714045207910317, \"min\": 1, \"max\": 2, \"sum\": 4, \"var\": 0.22222222222222224, \"mean\": 1.3333333333333333}, \"AKW1PYZYG538S\": {\"count\": 1, \"std\": 0.0, \"min\": 4, \"max\": 4, \"sum\": 4, \"var\": 0.0, \"mean\": 4.0}, \"A2HURVL36VZX7V\": {\"count\": 1, \"std\": 0.0, \"min\": 3, \"max\": 3, \"sum\": 3, \"var\": 0.0, \"mean\": 3.0}, \"AXYWCIX9ZFSZO\": {\"count\": 1, \"std\": 0.0, \"min\": 5, \"max\": 5, \"sum\": 5, \"var\": 0.0, \"mean\": 5.0}, \"A2LSYCASUAIWUW\": {\"count\": 1, \"std\": 0.0, \"min\": 4, \"max\": 4, \"sum\": 4, \"var\": 0.0, \"mean\": 4.0}, \"A24A467UB9W7H6\": {\"count\": 1, \"std\": 0.0, \"min\": 5, \"max\": 5, \"sum\": 5, \"var\": 0.0, \"mean\": 5.0}, \"A52NC1MF2CNTN\": {\"count\": 1, \"std\": 0.0, \"min\": 1, \"max\": 1, \"sum\": 1, \"var\": 0.0, \"mean\": 1.0}, \"ALQ23MOOSLVPQ\": {\"count\": 1, \"std\": 0.0, \"min\": 1, \"max\": 1, \"sum\": 1, \"var\": 0.0, \"mean\": 1.0}, \"AOZ64NRVM2DR8\": {\"count\": 1, \"std\": 0.0, \"min\": 1, \"max\": 1, \"sum\": 1, \"var\": 0.0, \"mean\": 1.0}, \"A2IP5YRO1LVUK8\": {\"count\": 2, \"std\": 1.0, \"min\": 3, \"max\": 5, \"sum\": 8, \"var\": 1.0, \"mean\": 4.0}, \"A1ZOQFSG8EUC9O\": {\"count\": 1, \"std\": 0.0, \"min\": 4, \"max\": 4, \"sum\": 4, \"var\": 0.0, \"mean\": 4.0}, \"A3NX10UKNNQVQ1\": {\"count\": 2, \"std\": 0.0, \"min\": 4, \"max\": 4, \"sum\": 8, \"var\": 0.0, \"mean\": 4.0}, \"A3EP6C7ZANOMT2\": {\"count\": 1, \"std\": 0.0, \"min\": 2, \"max\": 2, \"sum\": 2, \"var\": 0.0, \"mean\": 2.0}, \"A8D0PLKMLE756\": {\"count\": 1, \"std\": 0.0, \"min\": 1, \"max\": 1, \"sum\": 1, \"var\": 0.0, \"mean\": 1.0}, \"A36AQ69ZYQAKCU\": {\"count\": 3, \"std\": 1.4142135623730951, \"min\": 1, \"max\": 4, \"sum\": 6, \"var\": 2.0, \"mean\": 2.0}, \"A2HQ27AOP7LPQF\": {\"count\": 1, \"std\": 0.0, \"min\": 4, \"max\": 4, \"sum\": 4, \"var\": 0.0, \"mean\": 4.0}, \"AQWNH5UIYCSKQ\": {\"count\": 1, \"std\": 0.0, \"min\": 5, \"max\": 5, \"sum\": 5, \"var\": 0.0, \"mean\": 5.0}, \"A2CL1LI0OZGTB9\": {\"count\": 1, \"std\": 0.0, \"min\": 3, \"max\": 3, \"sum\": 3, \"var\": 0.0, \"mean\": 3.0}, \"A80EB6E9R6KJM\": {\"count\": 1, \"std\": 0.0, \"min\": 3, \"max\": 3, \"sum\": 3, \"var\": 0.0, \"mean\": 3.0}, \"A1IXEFFMW40S1G\": {\"count\": 2, \"std\": 0.0, \"min\": 4, \"max\": 4, \"sum\": 8, \"var\": 0.0, \"mean\": 4.0}, \"A1JVWJKBY8KOJW\": {\"count\": 1, \"std\": 0.0, \"min\": 1, \"max\": 1, \"sum\": 1, \"var\": 0.0, \"mean\": 1.0}, \"A2H851GWML3MKC\": {\"count\": 1, \"std\": 0.0, \"min\": 5, \"max\": 5, \"sum\": 5, \"var\": 0.0, \"mean\": 5.0}, \"A1OHJ2WWHWZ4I6\": {\"count\": 1, \"std\": 0.0, \"min\": 3, \"max\": 3, \"sum\": 3, \"var\": 0.0, \"mean\": 3.0}, \"A5IXF2JVHO7WS\": {\"count\": 1, \"std\": 0.0, \"min\": 2, \"max\": 2, \"sum\": 2, \"var\": 0.0, \"mean\": 2.0}, \"A3JTP6N0W32AAX\": {\"count\": 2, \"std\": 0.0, \"min\": 4, \"max\": 4, \"sum\": 8, \"var\": 0.0, \"mean\": 4.0}, \"A1Q0WIIXML4XRV\": {\"count\": 1, \"std\": 0.0, \"min\": 4, \"max\": 4, \"sum\": 4, \"var\": 0.0, \"mean\": 4.0}, \"A12JQSLM5CDXXE\": {\"count\": 1, \"std\": 0.0, \"min\": 4, \"max\": 4, \"sum\": 4, \"var\": 0.0, \"mean\": 4.0}, \"AOJNZHETNEGYV\": {\"count\": 1, \"std\": 0.0, \"min\": 5, \"max\": 5, \"sum\": 5, \"var\": 0.0, \"mean\": 5.0}, \"A15JF78885AECJ\": {\"count\": 1, \"std\": 0.0, \"min\": 5, \"max\": 5, \"sum\": 5, \"var\": 0.0, \"mean\": 5.0}, \"A1FX2FDTXC8A94\": {\"count\": 1, \"std\": 0.0, \"min\": 2, \"max\": 2, \"sum\": 2, \"var\": 0.0, \"mean\": 2.0}, \"A1NOM79RDZRLHM\": {\"count\": 4, \"std\": 1.0, \"min\": 2, \"max\": 4, \"sum\": 12, \"var\": 1.0, \"mean\": 3.0}, \"A2EPF9DRW2QMLF\": {\"count\": 1, \"std\": 0.0, \"min\": 1, \"max\": 1, \"sum\": 1, \"var\": 0.0, \"mean\": 1.0}, \"A3JQL2WSAHYZXD\": {\"count\": 1, \"std\": 0.0, \"min\": 1, \"max\": 1, \"sum\": 1, \"var\": 0.0, \"mean\": 1.0}, \"A4MP0S65DGYXU\": {\"count\": 1, \"std\": 0.0, \"min\": 1, \"max\": 1, \"sum\": 1, \"var\": 0.0, \"mean\": 1.0}, \"A1UNXVFA3RU00N\": {\"count\": 1, \"std\": 0.0, \"min\": 1, \"max\": 1, \"sum\": 1, \"var\": 0.0, \"mean\": 1.0}, \"AHW1S3QAFQ7Z\": {\"count\": 1, \"std\": 0.0, \"min\": 2, \"max\": 2, \"sum\": 2, \"var\": 0.0, \"mean\": 2.0}, \"A3LDTBCF601B2D\": {\"count\": 2, \"std\": 0.5, \"min\": 2, \"max\": 3, \"sum\": 5, \"var\": 0.25, \"mean\": 2.5}, \"A2ZCJ4R7C00NTU\": {\"count\": 1, \"std\": 0.0, \"min\": 2, \"max\": 2, \"sum\": 2, \"var\": 0.0, \"mean\": 2.0}, \"A1HRC1BIIBC13H\": {\"count\": 1, \"std\": 0.0, \"min\": 1, \"max\": 1, \"sum\": 1, \"var\": 0.0, \"mean\": 1.0}, \"A2LLUW6O6LSAEW\": {\"count\": 1, \"std\": 0.0, \"min\": 3, \"max\": 3, \"sum\": 3, \"var\": 0.0, \"mean\": 3.0}, \"A32KCC5DBCHHTE\": {\"count\": 1, \"std\": 0.0, \"min\": 4, \"max\": 4, \"sum\": 4, \"var\": 0.0, \"mean\": 4.0}, \"APBTAACX2NDEN\": {\"count\": 1, \"std\": 0.0, \"min\": 3, \"max\": 3, \"sum\": 3, \"var\": 0.0, \"mean\": 3.0}, \"A334L5RHMKR16B\": {\"count\": 1, \"std\": 0.0, \"min\": 4, \"max\": 4, \"sum\": 4, \"var\": 0.0, \"mean\": 4.0}, \"A3C0X78DBO6F6Q\": {\"count\": 1, \"std\": 0.0, \"min\": 3, \"max\": 3, \"sum\": 3, \"var\": 0.0, \"mean\": 3.0}, \"A19BG3Z3VXENGG\": {\"count\": 1, \"std\": 0.0, \"min\": 1, \"max\": 1, \"sum\": 1, \"var\": 0.0, \"mean\": 1.0}, \"AUQJA3YX9LR9G\": {\"count\": 1, \"std\": 0.0, \"min\": 1, \"max\": 1, \"sum\": 1, \"var\": 0.0, \"mean\": 1.0}, \"A32JDLDGE1QIDJ\": {\"count\": 1, \"std\": 0.0, \"min\": 4, \"max\": 4, \"sum\": 4, \"var\": 0.0, \"mean\": 4.0}, \"A5Y5U0A9DLGRR\": {\"count\": 1, \"std\": 0.0, \"min\": 3, \"max\": 3, \"sum\": 3, \"var\": 0.0, \"mean\": 3.0}, \"APWYZ98CDP1W2\": {\"count\": 1, \"std\": 0.0, \"min\": 3, \"max\": 3, \"sum\": 3, \"var\": 0.0, \"mean\": 3.0}, \"A1R5G663L6QFOI\": {\"count\": 1, \"std\": 0.0, \"min\": 3, \"max\": 3, \"sum\": 3, \"var\": 0.0, \"mean\": 3.0}, \"A1XB7OJ2IQ91JH\": {\"count\": 1, \"std\": 0.0, \"min\": 3, \"max\": 3, \"sum\": 3, \"var\": 0.0, \"mean\": 3.0}, \"A19RYJSYFTIZK5\": {\"count\": 1, \"std\": 0.0, \"min\": 2, \"max\": 2, \"sum\": 2, \"var\": 0.0, \"mean\": 2.0}, \"A4BM88E3OSNKP\": {\"count\": 1, \"std\": 0.0, \"min\": 4, \"max\": 4, \"sum\": 4, \"var\": 0.0, \"mean\": 4.0}, \"A30XS1YQYL2QDC\": {\"count\": 1, \"std\": 0.0, \"min\": 3, \"max\": 3, \"sum\": 3, \"var\": 0.0, \"mean\": 3.0}, \"A3F058Y04XRAAH\": {\"count\": 1, \"std\": 0.0, \"min\": 3, \"max\": 3, \"sum\": 3, \"var\": 0.0, \"mean\": 3.0}, \"A2ZN29I0TCVQE6\": {\"count\": 1, \"std\": 0.0, \"min\": 2, \"max\": 2, \"sum\": 2, \"var\": 0.0, \"mean\": 2.0}, \"A28GXB46TAQGHO\": {\"count\": 1, \"std\": 0.0, \"min\": 1, \"max\": 1, \"sum\": 1, \"var\": 0.0, \"mean\": 1.0}, \"ADPH4V52HB3XT\": {\"count\": 1, \"std\": 0.0, \"min\": 4, \"max\": 4, \"sum\": 4, \"var\": 0.0, \"mean\": 4.0}, \"A2F1QHR6HL0DCV\": {\"count\": 1, \"std\": 0.0, \"min\": 3, \"max\": 3, \"sum\": 3, \"var\": 0.0, \"mean\": 3.0}, \"A5LQQ2MFNUTSY\": {\"count\": 1, \"std\": 0.0, \"min\": 5, \"max\": 5, \"sum\": 5, \"var\": 0.0, \"mean\": 5.0}, \"A23OO5PL0D93CY\": {\"count\": 2, \"std\": 1.0, \"min\": 3, \"max\": 5, \"sum\": 8, \"var\": 1.0, \"mean\": 4.0}, \"AFO08OC3X8DGT\": {\"count\": 2, \"std\": 0.5, \"min\": 4, \"max\": 5, \"sum\": 9, \"var\": 0.25, \"mean\": 4.5}, \"A16PV1CO0RXFMX\": {\"count\": 1, \"std\": 0.0, \"min\": 5, \"max\": 5, \"sum\": 5, \"var\": 0.0, \"mean\": 5.0}, \"A2ZA5GMN5OJR8G\": {\"count\": 1, \"std\": 0.0, \"min\": 1, \"max\": 1, \"sum\": 1, \"var\": 0.0, \"mean\": 1.0}, \"A3ADIQ1BR2FN0I\": {\"count\": 1, \"std\": 0.0, \"min\": 4, \"max\": 4, \"sum\": 4, \"var\": 0.0, \"mean\": 4.0}, \"A3T3W4JTXIEONA\": {\"count\": 2, \"std\": 0.0, \"min\": 1, \"max\": 1, \"sum\": 2, \"var\": 0.0, \"mean\": 1.0}, \"A1SBPSJZUMP3DP\": {\"count\": 1, \"std\": 0.0, \"min\": 3, \"max\": 3, \"sum\": 3, \"var\": 0.0, \"mean\": 3.0}, \"A2VPM5ZWUBKPKP\": {\"count\": 1, \"std\": 0.0, \"min\": 1, \"max\": 1, \"sum\": 1, \"var\": 0.0, \"mean\": 1.0}, \"A36LX4221CNG8G\": {\"count\": 1, \"std\": 0.0, \"min\": 2, \"max\": 2, \"sum\": 2, \"var\": 0.0, \"mean\": 2.0}, \"A3J8USBGB2GH1V\": {\"count\": 1, \"std\": 0.0, \"min\": 1, \"max\": 1, \"sum\": 1, \"var\": 0.0, \"mean\": 1.0}, \"A2HD3DANPD9U5H\": {\"count\": 1, \"std\": 0.0, \"min\": 5, \"max\": 5, \"sum\": 5, \"var\": 0.0, \"mean\": 5.0}, \"A2PF4ZCHJR4S1I\": {\"count\": 1, \"std\": 0.0, \"min\": 1, \"max\": 1, \"sum\": 1, \"var\": 0.0, \"mean\": 1.0}, \"A1Q2PTQJ2Y1J07\": {\"count\": 1, \"std\": 0.0, \"min\": 4, \"max\": 4, \"sum\": 4, \"var\": 0.0, \"mean\": 4.0}, \"A3KGZ8934EOWF\": {\"count\": 1, \"std\": 0.0, \"min\": 5, \"max\": 5, \"sum\": 5, \"var\": 0.0, \"mean\": 5.0}, \"A2GBI1T3RE2LJ1\": {\"count\": 1, \"std\": 0.0, \"min\": 1, \"max\": 1, \"sum\": 1, \"var\": 0.0, \"mean\": 1.0}, \"A2EXL3YDNMS71N\": {\"count\": 3, \"std\": 1.699673171197595, \"min\": 1, \"max\": 5, \"sum\": 8, \"var\": 2.888888888888889, \"mean\": 2.6666666666666665}, \"A35FBIL3FDRURV\": {\"count\": 1, \"std\": 0.0, \"min\": 5, \"max\": 5, \"sum\": 5, \"var\": 0.0, \"mean\": 5.0}, \"A20QIKBRNI0O5G\": {\"count\": 1, \"std\": 0.0, \"min\": 1, \"max\": 1, \"sum\": 1, \"var\": 0.0, \"mean\": 1.0}, \"A3RLJKPTBM53R8\": {\"count\": 1, \"std\": 0.0, \"min\": 1, \"max\": 1, \"sum\": 1, \"var\": 0.0, \"mean\": 1.0}, \"A1S5RFYR601ZJN\": {\"count\": 1, \"std\": 0.0, \"min\": 1, \"max\": 1, \"sum\": 1, \"var\": 0.0, \"mean\": 1.0}, \"A3G815PM3VQPY\": {\"count\": 1, \"std\": 0.0, \"min\": 4, \"max\": 4, \"sum\": 4, \"var\": 0.0, \"mean\": 4.0}, \"AJ90AY35JUGNX\": {\"count\": 1, \"std\": 0.0, \"min\": 3, \"max\": 3, \"sum\": 3, \"var\": 0.0, \"mean\": 3.0}, \"A1TF1RAO0N5FCT\": {\"count\": 1, \"std\": 0.0, \"min\": 3, \"max\": 3, \"sum\": 3, \"var\": 0.0, \"mean\": 3.0}, \"AS1DPS4OF018Q\": {\"count\": 1, \"std\": 0.0, \"min\": 2, \"max\": 2, \"sum\": 2, \"var\": 0.0, \"mean\": 2.0}, \"A2T67VV9Q489Y8\": {\"count\": 1, \"std\": 0.0, \"min\": 3, \"max\": 3, \"sum\": 3, \"var\": 0.0, \"mean\": 3.0}, \"A1VPN0XX1MI94S\": {\"count\": 1, \"std\": 0.0, \"min\": 3, \"max\": 3, \"sum\": 3, \"var\": 0.0, \"mean\": 3.0}, \"A3EO9FRY962VDE\": {\"count\": 1, \"std\": 0.0, \"min\": 2, \"max\": 2, \"sum\": 2, \"var\": 0.0, \"mean\": 2.0}, \"A3O39FLC6MGGAM\": {\"count\": 1, \"std\": 0.0, \"min\": 5, \"max\": 5, \"sum\": 5, \"var\": 0.0, \"mean\": 5.0}, \"A2T006AT1GONGJ\": {\"count\": 1, \"std\": 0.0, \"min\": 3, \"max\": 3, \"sum\": 3, \"var\": 0.0, \"mean\": 3.0}, \"AHQ1QQF9DI263\": {\"count\": 1, \"std\": 0.0, \"min\": 2, \"max\": 2, \"sum\": 2, \"var\": 0.0, \"mean\": 2.0}, \"A2QXXSJQMUI8L1\": {\"count\": 1, \"std\": 0.0, \"min\": 2, \"max\": 2, \"sum\": 2, \"var\": 0.0, \"mean\": 2.0}, \"A1SFDUK4DTX6TP\": {\"count\": 1, \"std\": 0.0, \"min\": 1, \"max\": 1, \"sum\": 1, \"var\": 0.0, \"mean\": 1.0}, \"AAJ58LRDGK74N\": {\"count\": 2, \"std\": 0.5, \"min\": 3, \"max\": 4, \"sum\": 7, \"var\": 0.25, \"mean\": 3.5}, \"A27PP7VFXM7S64\": {\"count\": 1, \"std\": 0.0, \"min\": 1, \"max\": 1, \"sum\": 1, \"var\": 0.0, \"mean\": 1.0}, \"ADAAS0OGWQYQB\": {\"count\": 1, \"std\": 0.0, \"min\": 5, \"max\": 5, \"sum\": 5, \"var\": 0.0, \"mean\": 5.0}, \"AVA4TW1HH42R2\": {\"count\": 1, \"std\": 0.0, \"min\": 4, \"max\": 4, \"sum\": 4, \"var\": 0.0, \"mean\": 4.0}, \"A1O17D1HGQ7ES4\": {\"count\": 1, \"std\": 0.0, \"min\": 1, \"max\": 1, \"sum\": 1, \"var\": 0.0, \"mean\": 1.0}, \"A3J9U3UB1O8LSM\": {\"count\": 1, \"std\": 0.0, \"min\": 4, \"max\": 4, \"sum\": 4, \"var\": 0.0, \"mean\": 4.0}, \"A23XEWSTEVVVCN\": {\"count\": 1, \"std\": 0.0, \"min\": 5, \"max\": 5, \"sum\": 5, \"var\": 0.0, \"mean\": 5.0}, \"A1XXPYGPV2OARE\": {\"count\": 1, \"std\": 0.0, \"min\": 3, \"max\": 3, \"sum\": 3, \"var\": 0.0, \"mean\": 3.0}, \"A27ZEL2F3X8O4J\": {\"count\": 3, \"std\": 0.9428090415820632, \"min\": 3, \"max\": 5, \"sum\": 13, \"var\": 0.8888888888888887, \"mean\": 4.333333333333333}, \"A3GN4WEPA6WM75\": {\"count\": 1, \"std\": 0.0, \"min\": 2, \"max\": 2, \"sum\": 2, \"var\": 0.0, \"mean\": 2.0}, \"A13JLWHC014783\": {\"count\": 1, \"std\": 0.0, \"min\": 1, \"max\": 1, \"sum\": 1, \"var\": 0.0, \"mean\": 1.0}, \"AEQ4M6R6I3WH6\": {\"count\": 1, \"std\": 0.0, \"min\": 4, \"max\": 4, \"sum\": 4, \"var\": 0.0, \"mean\": 4.0}, \"AQQ7XKE2H8R44\": {\"count\": 1, \"std\": 0.0, \"min\": 1, \"max\": 1, \"sum\": 1, \"var\": 0.0, \"mean\": 1.0}, \"AY48FH0BBD7WN\": {\"count\": 1, \"std\": 0.0, \"min\": 5, \"max\": 5, \"sum\": 5, \"var\": 0.0, \"mean\": 5.0}, \"A28PUUN1TBRER7\": {\"count\": 1, \"std\": 0.0, \"min\": 4, \"max\": 4, \"sum\": 4, \"var\": 0.0, \"mean\": 4.0}, \"A34RFTDA8LUR1Y\": {\"count\": 1, \"std\": 0.0, \"min\": 2, \"max\": 2, \"sum\": 2, \"var\": 0.0, \"mean\": 2.0}, \"A2XR9IX4VUZ1DX\": {\"count\": 1, \"std\": 0.0, \"min\": 5, \"max\": 5, \"sum\": 5, \"var\": 0.0, \"mean\": 5.0}, \"AYPIHYTS1KD19\": {\"count\": 1, \"std\": 0.0, \"min\": 1, \"max\": 1, \"sum\": 1, \"var\": 0.0, \"mean\": 1.0}, \"AF8SSDR1ATO0G\": {\"count\": 1, \"std\": 0.0, \"min\": 2, \"max\": 2, \"sum\": 2, \"var\": 0.0, \"mean\": 2.0}, \"A154DE0UY7UNP5\": {\"count\": 1, \"std\": 0.0, \"min\": 4, \"max\": 4, \"sum\": 4, \"var\": 0.0, \"mean\": 4.0}, \"A8DR7GVMQQJUC\": {\"count\": 1, \"std\": 0.0, \"min\": 1, \"max\": 1, \"sum\": 1, \"var\": 0.0, \"mean\": 1.0}, \"AMAXJAC4EVJXM\": {\"count\": 1, \"std\": 0.0, \"min\": 5, \"max\": 5, \"sum\": 5, \"var\": 0.0, \"mean\": 5.0}, \"A1L6UE9Y9TWBVS\": {\"count\": 1, \"std\": 0.0, \"min\": 3, \"max\": 3, \"sum\": 3, \"var\": 0.0, \"mean\": 3.0}, \"AHQTXJQX2584I\": {\"count\": 1, \"std\": 0.0, \"min\": 5, \"max\": 5, \"sum\": 5, \"var\": 0.0, \"mean\": 5.0}, \"A1RYK21O0LC2IW\": {\"count\": 1, \"std\": 0.0, \"min\": 1, \"max\": 1, \"sum\": 1, \"var\": 0.0, \"mean\": 1.0}, \"A22LOTUUWRDE95\": {\"count\": 1, \"std\": 0.0, \"min\": 5, \"max\": 5, \"sum\": 5, \"var\": 0.0, \"mean\": 5.0}, \"A2OZ2DSRW4YIOJ\": {\"count\": 1, \"std\": 0.0, \"min\": 4, \"max\": 4, \"sum\": 4, \"var\": 0.0, \"mean\": 4.0}, \"A2MJLQGQJ6XVSP\": {\"count\": 1, \"std\": 0.0, \"min\": 5, \"max\": 5, \"sum\": 5, \"var\": 0.0, \"mean\": 5.0}, \"A3BG71UZ3UOSTD\": {\"count\": 1, \"std\": 0.0, \"min\": 1, \"max\": 1, \"sum\": 1, \"var\": 0.0, \"mean\": 1.0}, \"A2J4FUXHA5ZVE1\": {\"count\": 1, \"std\": 0.0, \"min\": 5, \"max\": 5, \"sum\": 5, \"var\": 0.0, \"mean\": 5.0}, \"A2E9DPNVI9IFEI\": {\"count\": 2, \"std\": 1.5, \"min\": 1, \"max\": 4, \"sum\": 5, \"var\": 2.25, \"mean\": 2.5}, \"A31PGL33FQ5Z2K\": {\"count\": 3, \"std\": 0.9428090415820634, \"min\": 2, \"max\": 4, \"sum\": 10, \"var\": 0.888888888888889, \"mean\": 3.3333333333333335}, \"A2R5WCD9DV28A\": {\"count\": 1, \"std\": 0.0, \"min\": 1, \"max\": 1, \"sum\": 1, \"var\": 0.0, \"mean\": 1.0}, \"A2ZY89ZY68L0YM\": {\"count\": 1, \"std\": 0.0, \"min\": 1, \"max\": 1, \"sum\": 1, \"var\": 0.0, \"mean\": 1.0}, \"AHWO6AY53WJ15\": {\"count\": 1, \"std\": 0.0, \"min\": 2, \"max\": 2, \"sum\": 2, \"var\": 0.0, \"mean\": 2.0}, \"A1873A8HC4SE5Z\": {\"count\": 1, \"std\": 0.0, \"min\": 3, \"max\": 3, \"sum\": 3, \"var\": 0.0, \"mean\": 3.0}, \"A181AJDX7SJVYC\": {\"count\": 2, \"std\": 0.0, \"min\": 3, \"max\": 3, \"sum\": 6, \"var\": 0.0, \"mean\": 3.0}, \"AYBRQ8LRT61QO\": {\"count\": 1, \"std\": 0.0, \"min\": 4, \"max\": 4, \"sum\": 4, \"var\": 0.0, \"mean\": 4.0}, \"A1BJ68KLR8M3O7\": {\"count\": 1, \"std\": 0.0, \"min\": 3, \"max\": 3, \"sum\": 3, \"var\": 0.0, \"mean\": 3.0}, \"A29EMQSXN4KYL6\": {\"count\": 1, \"std\": 0.0, \"min\": 1, \"max\": 1, \"sum\": 1, \"var\": 0.0, \"mean\": 1.0}, \"A13UWJK9NH1MQF\": {\"count\": 1, \"std\": 0.0, \"min\": 5, \"max\": 5, \"sum\": 5, \"var\": 0.0, \"mean\": 5.0}, \"A4U94ENR4DU65\": {\"count\": 2, \"std\": 0.5, \"min\": 2, \"max\": 3, \"sum\": 5, \"var\": 0.25, \"mean\": 2.5}, \"A3PFQVXE61DG3U\": {\"count\": 3, \"std\": 0.4714045207910317, \"min\": 3, \"max\": 4, \"sum\": 10, \"var\": 0.22222222222222224, \"mean\": 3.3333333333333335}, \"A3O4VSLFTUK8QV\": {\"count\": 1, \"std\": 0.0, \"min\": 4, \"max\": 4, \"sum\": 4, \"var\": 0.0, \"mean\": 4.0}, \"A1VGAGYHSTXB3D\": {\"count\": 1, \"std\": 0.0, \"min\": 2, \"max\": 2, \"sum\": 2, \"var\": 0.0, \"mean\": 2.0}, \"A5BQL96BPMISR\": {\"count\": 1, \"std\": 0.0, \"min\": 5, \"max\": 5, \"sum\": 5, \"var\": 0.0, \"mean\": 5.0}, \"ALJHNOT60RXDK\": {\"count\": 1, \"std\": 0.0, \"min\": 4, \"max\": 4, \"sum\": 4, \"var\": 0.0, \"mean\": 4.0}, \"A15T487HNTIOF7\": {\"count\": 1, \"std\": 0.0, \"min\": 4, \"max\": 4, \"sum\": 4, \"var\": 0.0, \"mean\": 4.0}, \"A10QXX4A26PIJG\": {\"count\": 1, \"std\": 0.0, \"min\": 4, \"max\": 4, \"sum\": 4, \"var\": 0.0, \"mean\": 4.0}, \"A3S0B3VH2OLM7P\": {\"count\": 1, \"std\": 0.0, \"min\": 4, \"max\": 4, \"sum\": 4, \"var\": 0.0, \"mean\": 4.0}, \"A2IJPSIB1X1KX3\": {\"count\": 4, \"std\": 0.0, \"min\": 4, \"max\": 4, \"sum\": 16, \"var\": 0.0, \"mean\": 4.0}, \"A2E9E6Q43SDTS8\": {\"count\": 1, \"std\": 0.0, \"min\": 3, \"max\": 3, \"sum\": 3, \"var\": 0.0, \"mean\": 3.0}, \"A2NXVL74VFVKXJ\": {\"count\": 1, \"std\": 0.0, \"min\": 2, \"max\": 2, \"sum\": 2, \"var\": 0.0, \"mean\": 2.0}, \"A159K0O2H60ERS\": {\"count\": 1, \"std\": 0.0, \"min\": 3, \"max\": 3, \"sum\": 3, \"var\": 0.0, \"mean\": 3.0}, \"A1ZG2Q2F1ISZ0W\": {\"count\": 1, \"std\": 0.0, \"min\": 1, \"max\": 1, \"sum\": 1, \"var\": 0.0, \"mean\": 1.0}, \"A1HDA2N0DDI21R\": {\"count\": 2, \"std\": 0.5, \"min\": 2, \"max\": 3, \"sum\": 5, \"var\": 0.25, \"mean\": 2.5}, \"AQU40BINXDZKW\": {\"count\": 1, \"std\": 0.0, \"min\": 5, \"max\": 5, \"sum\": 5, \"var\": 0.0, \"mean\": 5.0}, \"AN834PS0D9HII\": {\"count\": 1, \"std\": 0.0, \"min\": 3, \"max\": 3, \"sum\": 3, \"var\": 0.0, \"mean\": 3.0}, \"A1L9HX3ACKA0MH\": {\"count\": 1, \"std\": 0.0, \"min\": 2, \"max\": 2, \"sum\": 2, \"var\": 0.0, \"mean\": 2.0}, \"A1G9SL1EDEF8T0\": {\"count\": 1, \"std\": 0.0, \"min\": 2, \"max\": 2, \"sum\": 2, \"var\": 0.0, \"mean\": 2.0}, \"A305K6YBTWYV2V\": {\"count\": 1, \"std\": 0.0, \"min\": 4, \"max\": 4, \"sum\": 4, \"var\": 0.0, \"mean\": 4.0}, \"AZLK5LBXQ2GIB\": {\"count\": 1, \"std\": 0.0, \"min\": 2, \"max\": 2, \"sum\": 2, \"var\": 0.0, \"mean\": 2.0}, \"AMQTS09SXVI6X\": {\"count\": 2, \"std\": 0.5, \"min\": 3, \"max\": 4, \"sum\": 7, \"var\": 0.25, \"mean\": 3.5}, \"A15PZ200BH2RVX\": {\"count\": 1, \"std\": 0.0, \"min\": 4, \"max\": 4, \"sum\": 4, \"var\": 0.0, \"mean\": 4.0}, \"A1WT58X6GL6E68\": {\"count\": 1, \"std\": 0.0, \"min\": 2, \"max\": 2, \"sum\": 2, \"var\": 0.0, \"mean\": 2.0}, \"A344IH2DO98YLO\": {\"count\": 1, \"std\": 0.0, \"min\": 4, \"max\": 4, \"sum\": 4, \"var\": 0.0, \"mean\": 4.0}, \"A23GE3WVK8LJDW\": {\"count\": 1, \"std\": 0.0, \"min\": 3, \"max\": 3, \"sum\": 3, \"var\": 0.0, \"mean\": 3.0}, \"A2CG2QHIPO52C8\": {\"count\": 1, \"std\": 0.0, \"min\": 2, \"max\": 2, \"sum\": 2, \"var\": 0.0, \"mean\": 2.0}, \"A9VDN37TPTCM\": {\"count\": 1, \"std\": 0.0, \"min\": 3, \"max\": 3, \"sum\": 3, \"var\": 0.0, \"mean\": 3.0}, \"A2QP5WLQ5NEWD6\": {\"count\": 1, \"std\": 0.0, \"min\": 1, \"max\": 1, \"sum\": 1, \"var\": 0.0, \"mean\": 1.0}, \"A2BQ3HNC4RJL18\": {\"count\": 1, \"std\": 0.0, \"min\": 2, \"max\": 2, \"sum\": 2, \"var\": 0.0, \"mean\": 2.0}, \"A3TQOEO0QUKCY\": {\"count\": 1, \"std\": 0.0, \"min\": 3, \"max\": 3, \"sum\": 3, \"var\": 0.0, \"mean\": 3.0}, \"A1EHQ2TPPPCSSK\": {\"count\": 1, \"std\": 0.0, \"min\": 5, \"max\": 5, \"sum\": 5, \"var\": 0.0, \"mean\": 5.0}, \"A1O5BD9I5YXXKP\": {\"count\": 1, \"std\": 0.0, \"min\": 2, \"max\": 2, \"sum\": 2, \"var\": 0.0, \"mean\": 2.0}, \"AD5Z5VR4T1M5C\": {\"count\": 2, \"std\": 0.0, \"min\": 2, \"max\": 2, \"sum\": 4, \"var\": 0.0, \"mean\": 2.0}, \"A2GNT1YDPB99OM\": {\"count\": 1, \"std\": 0.0, \"min\": 2, \"max\": 2, \"sum\": 2, \"var\": 0.0, \"mean\": 2.0}, \"A39K36CHDBZA1H\": {\"count\": 1, \"std\": 0.0, \"min\": 2, \"max\": 2, \"sum\": 2, \"var\": 0.0, \"mean\": 2.0}, \"A5PIO5NP2IA12\": {\"count\": 1, \"std\": 0.0, \"min\": 5, \"max\": 5, \"sum\": 5, \"var\": 0.0, \"mean\": 5.0}, \"AHF7MMMOR4DTG\": {\"count\": 1, \"std\": 0.0, \"min\": 3, \"max\": 3, \"sum\": 3, \"var\": 0.0, \"mean\": 3.0}, \"AUXWTCH6KPU80\": {\"count\": 1, \"std\": 0.0, \"min\": 1, \"max\": 1, \"sum\": 1, \"var\": 0.0, \"mean\": 1.0}, \"A1WF7IVJRFQD82\": {\"count\": 1, \"std\": 0.0, \"min\": 1, \"max\": 1, \"sum\": 1, \"var\": 0.0, \"mean\": 1.0}, \"A1V5AG4RZ5COXB\": {\"count\": 2, \"std\": 0.5, \"min\": 1, \"max\": 2, \"sum\": 3, \"var\": 0.25, \"mean\": 1.5}, \"A38YF9TR70IEJD\": {\"count\": 1, \"std\": 0.0, \"min\": 5, \"max\": 5, \"sum\": 5, \"var\": 0.0, \"mean\": 5.0}, \"A21YRGD6K1TK79\": {\"count\": 1, \"std\": 0.0, \"min\": 2, \"max\": 2, \"sum\": 2, \"var\": 0.0, \"mean\": 2.0}, \"A16KCB6R1OETLS\": {\"count\": 1, \"std\": 0.0, \"min\": 4, \"max\": 4, \"sum\": 4, \"var\": 0.0, \"mean\": 4.0}, \"AVO8D0MSICFJV\": {\"count\": 1, \"std\": 0.0, \"min\": 4, \"max\": 4, \"sum\": 4, \"var\": 0.0, \"mean\": 4.0}, \"A1EXS4HAJ7MM7H\": {\"count\": 1, \"std\": 0.0, \"min\": 4, \"max\": 4, \"sum\": 4, \"var\": 0.0, \"mean\": 4.0}, \"A29YBV4BBXBRUI\": {\"count\": 1, \"std\": 0.0, \"min\": 2, \"max\": 2, \"sum\": 2, \"var\": 0.0, \"mean\": 2.0}, \"A2HWDTTUNYPUFL\": {\"count\": 1, \"std\": 0.0, \"min\": 2, \"max\": 2, \"sum\": 2, \"var\": 0.0, \"mean\": 2.0}, \"A2EE0ACTFUBNS0\": {\"count\": 1, \"std\": 0.0, \"min\": 5, \"max\": 5, \"sum\": 5, \"var\": 0.0, \"mean\": 5.0}, \"A18B3DL1SV1DBT\": {\"count\": 1, \"std\": 0.0, \"min\": 2, \"max\": 2, \"sum\": 2, \"var\": 0.0, \"mean\": 2.0}, \"A921HK30EZQ3K\": {\"count\": 1, \"std\": 0.0, \"min\": 5, \"max\": 5, \"sum\": 5, \"var\": 0.0, \"mean\": 5.0}, \"A2OU8Y4R648AQA\": {\"count\": 1, \"std\": 0.0, \"min\": 5, \"max\": 5, \"sum\": 5, \"var\": 0.0, \"mean\": 5.0}, \"ASHV630WD8M6P\": {\"count\": 1, \"std\": 0.0, \"min\": 3, \"max\": 3, \"sum\": 3, \"var\": 0.0, \"mean\": 3.0}, \"A1CWWC20U89WEY\": {\"count\": 3, \"std\": 0.816496580927726, \"min\": 1, \"max\": 3, \"sum\": 6, \"var\": 0.6666666666666666, \"mean\": 2.0}, \"ALJQV8BDB1CZT\": {\"count\": 1, \"std\": 0.0, \"min\": 4, \"max\": 4, \"sum\": 4, \"var\": 0.0, \"mean\": 4.0}, \"A11DZ2YIN018N\": {\"count\": 2, \"std\": 1.0, \"min\": 3, \"max\": 5, \"sum\": 8, \"var\": 1.0, \"mean\": 4.0}, \"A2B49TEG9G0EZH\": {\"count\": 1, \"std\": 0.0, \"min\": 3, \"max\": 3, \"sum\": 3, \"var\": 0.0, \"mean\": 3.0}, \"A3TXMB3HB3XH5G\": {\"count\": 1, \"std\": 0.0, \"min\": 2, \"max\": 2, \"sum\": 2, \"var\": 0.0, \"mean\": 2.0}, \"A2N6WBDMHWX62L\": {\"count\": 1, \"std\": 0.0, \"min\": 1, \"max\": 1, \"sum\": 1, \"var\": 0.0, \"mean\": 1.0}, \"A3Q0HPS1OI9621\": {\"count\": 2, \"std\": 1.0, \"min\": 1, \"max\": 3, \"sum\": 4, \"var\": 1.0, \"mean\": 2.0}, \"A3GZERXTAS01BK\": {\"count\": 1, \"std\": 0.0, \"min\": 2, \"max\": 2, \"sum\": 2, \"var\": 0.0, \"mean\": 2.0}, \"AQKWD4GTY1QTK\": {\"count\": 1, \"std\": 0.0, \"min\": 2, \"max\": 2, \"sum\": 2, \"var\": 0.0, \"mean\": 2.0}, \"A2WDKNVGOF0RZW\": {\"count\": 1, \"std\": 0.0, \"min\": 1, \"max\": 1, \"sum\": 1, \"var\": 0.0, \"mean\": 1.0}, \"A2YOI22VOFR8FE\": {\"count\": 1, \"std\": 0.0, \"min\": 5, \"max\": 5, \"sum\": 5, \"var\": 0.0, \"mean\": 5.0}, \"A17CDHB60YEM07\": {\"count\": 1, \"std\": 0.0, \"min\": 1, \"max\": 1, \"sum\": 1, \"var\": 0.0, \"mean\": 1.0}, \"A1YLVYLEB4YJ9L\": {\"count\": 2, \"std\": 0.5, \"min\": 1, \"max\": 2, \"sum\": 3, \"var\": 0.25, \"mean\": 1.5}, \"A2VOTVRBKISCZ5\": {\"count\": 1, \"std\": 0.0, \"min\": 3, \"max\": 3, \"sum\": 3, \"var\": 0.0, \"mean\": 3.0}, \"A19XHY3WOAJWJN\": {\"count\": 1, \"std\": 0.0, \"min\": 5, \"max\": 5, \"sum\": 5, \"var\": 0.0, \"mean\": 5.0}, \"A2A3X4BG700RWE\": {\"count\": 1, \"std\": 0.0, \"min\": 1, \"max\": 1, \"sum\": 1, \"var\": 0.0, \"mean\": 1.0}, \"A2CC31KXC3F918\": {\"count\": 1, \"std\": 0.0, \"min\": 5, \"max\": 5, \"sum\": 5, \"var\": 0.0, \"mean\": 5.0}, \"A34V71SF94RDFG\": {\"count\": 1, \"std\": 0.0, \"min\": 2, \"max\": 2, \"sum\": 2, \"var\": 0.0, \"mean\": 2.0}, \"A2LR7ZH57LMORT\": {\"count\": 1, \"std\": 0.0, \"min\": 5, \"max\": 5, \"sum\": 5, \"var\": 0.0, \"mean\": 5.0}, \"A24S297AQJJH9U\": {\"count\": 1, \"std\": 0.0, \"min\": 1, \"max\": 1, \"sum\": 1, \"var\": 0.0, \"mean\": 1.0}, \"ALN2FNRS8F7V7\": {\"count\": 1, \"std\": 0.0, \"min\": 4, \"max\": 4, \"sum\": 4, \"var\": 0.0, \"mean\": 4.0}, \"A1O77QST2EAYTN\": {\"count\": 1, \"std\": 0.0, \"min\": 1, \"max\": 1, \"sum\": 1, \"var\": 0.0, \"mean\": 1.0}, \"A29DNTEXTEW2L\": {\"count\": 5, \"std\": 0.8944271909999159, \"min\": 3, \"max\": 5, \"sum\": 20, \"var\": 0.8, \"mean\": 4.0}, \"AGDX51U5BTPMC\": {\"count\": 1, \"std\": 0.0, \"min\": 5, \"max\": 5, \"sum\": 5, \"var\": 0.0, \"mean\": 5.0}, \"A1WM41FIKBQ3P5\": {\"count\": 1, \"std\": 0.0, \"min\": 4, \"max\": 4, \"sum\": 4, \"var\": 0.0, \"mean\": 4.0}, \"A1MXBOGU4GHDJZ\": {\"count\": 1, \"std\": 0.0, \"min\": 4, \"max\": 4, \"sum\": 4, \"var\": 0.0, \"mean\": 4.0}, \"A3UC5F1WUR1X8\": {\"count\": 1, \"std\": 0.0, \"min\": 1, \"max\": 1, \"sum\": 1, \"var\": 0.0, \"mean\": 1.0}, \"A33ZDQI07GWBTH\": {\"count\": 1, \"std\": 0.0, \"min\": 2, \"max\": 2, \"sum\": 2, \"var\": 0.0, \"mean\": 2.0}, \"A2W2J6PF5XKZMB\": {\"count\": 2, \"std\": 0.5, \"min\": 2, \"max\": 3, \"sum\": 5, \"var\": 0.25, \"mean\": 2.5}, \"A1TU3UUMU0BZ91\": {\"count\": 1, \"std\": 0.0, \"min\": 5, \"max\": 5, \"sum\": 5, \"var\": 0.0, \"mean\": 5.0}, \"ADCM7RNYN5UJN\": {\"count\": 2, \"std\": 1.0, \"min\": 3, \"max\": 5, \"sum\": 8, \"var\": 1.0, \"mean\": 4.0}, \"A103IPWS3THOX2\": {\"count\": 3, \"std\": 0.4714045207910317, \"min\": 3, \"max\": 4, \"sum\": 10, \"var\": 0.22222222222222224, \"mean\": 3.3333333333333335}, \"AQNBSZSWMV291\": {\"count\": 4, \"std\": 0.49999999999999994, \"min\": 3, \"max\": 4, \"sum\": 14, \"var\": 0.24999999999999994, \"mean\": 3.5}, \"A2HYM6IEPY62\": {\"count\": 1, \"std\": 0.0, \"min\": 1, \"max\": 1, \"sum\": 1, \"var\": 0.0, \"mean\": 1.0}, \"AAUQSM2DRARFD\": {\"count\": 1, \"std\": 0.0, \"min\": 3, \"max\": 3, \"sum\": 3, \"var\": 0.0, \"mean\": 3.0}, \"A3I3SNGNUWZ3S3\": {\"count\": 1, \"std\": 0.0, \"min\": 2, \"max\": 2, \"sum\": 2, \"var\": 0.0, \"mean\": 2.0}, \"ACQ2ZPF7ZVGBD\": {\"count\": 2, \"std\": 1.0, \"min\": 2, \"max\": 4, \"sum\": 6, \"var\": 1.0, \"mean\": 3.0}, \"A27M57V5VCJTJB\": {\"count\": 1, \"std\": 0.0, \"min\": 2, \"max\": 2, \"sum\": 2, \"var\": 0.0, \"mean\": 2.0}, \"A3BWWJD9FCKHA9\": {\"count\": 1, \"std\": 0.0, \"min\": 4, \"max\": 4, \"sum\": 4, \"var\": 0.0, \"mean\": 4.0}, \"A35JVR841UV3C8\": {\"count\": 1, \"std\": 0.0, \"min\": 4, \"max\": 4, \"sum\": 4, \"var\": 0.0, \"mean\": 4.0}, \"A1GZNSVWG0UEVL\": {\"count\": 1, \"std\": 0.0, \"min\": 3, \"max\": 3, \"sum\": 3, \"var\": 0.0, \"mean\": 3.0}, \"A1XX32LG8E078Y\": {\"count\": 1, \"std\": 0.0, \"min\": 1, \"max\": 1, \"sum\": 1, \"var\": 0.0, \"mean\": 1.0}, \"A1ORHTEFD84S7A\": {\"count\": 1, \"std\": 0.0, \"min\": 1, \"max\": 1, \"sum\": 1, \"var\": 0.0, \"mean\": 1.0}, \"AS539JB12EBZR\": {\"count\": 1, \"std\": 0.0, \"min\": 2, \"max\": 2, \"sum\": 2, \"var\": 0.0, \"mean\": 2.0}, \"A5157F8GG9UNV\": {\"count\": 1, \"std\": 0.0, \"min\": 3, \"max\": 3, \"sum\": 3, \"var\": 0.0, \"mean\": 3.0}, \"A1V0741C5L1ZHT\": {\"count\": 1, \"std\": 0.0, \"min\": 4, \"max\": 4, \"sum\": 4, \"var\": 0.0, \"mean\": 4.0}, \"AZ7L2QELR6XM0\": {\"count\": 1, \"std\": 0.0, \"min\": 1, \"max\": 1, \"sum\": 1, \"var\": 0.0, \"mean\": 1.0}, \"AB6Z6A4MNDP0A\": {\"count\": 1, \"std\": 0.0, \"min\": 2, \"max\": 2, \"sum\": 2, \"var\": 0.0, \"mean\": 2.0}, \"A26IDTBMHP5UQO\": {\"count\": 1, \"std\": 0.0, \"min\": 3, \"max\": 3, \"sum\": 3, \"var\": 0.0, \"mean\": 3.0}, \"A3OF1S2WBC1WJQ\": {\"count\": 6, \"std\": 0.372677996249965, \"min\": 3, \"max\": 4, \"sum\": 23, \"var\": 0.13888888888888892, \"mean\": 3.8333333333333335}, \"A1UQXRDEHBBKI\": {\"count\": 1, \"std\": 0.0, \"min\": 5, \"max\": 5, \"sum\": 5, \"var\": 0.0, \"mean\": 5.0}, \"A1RU8Y0IK0WTB3\": {\"count\": 2, \"std\": 1.0, \"min\": 3, \"max\": 5, \"sum\": 8, \"var\": 1.0, \"mean\": 4.0}, \"AE18P5HQOULYO\": {\"count\": 1, \"std\": 0.0, \"min\": 3, \"max\": 3, \"sum\": 3, \"var\": 0.0, \"mean\": 3.0}, \"AKXRT6KUW5T9X\": {\"count\": 1, \"std\": 0.0, \"min\": 2, \"max\": 2, \"sum\": 2, \"var\": 0.0, \"mean\": 2.0}, \"A32C356H3UPF22\": {\"count\": 1, \"std\": 0.0, \"min\": 4, \"max\": 4, \"sum\": 4, \"var\": 0.0, \"mean\": 4.0}, \"A3I4NLLNADM1B9\": {\"count\": 1, \"std\": 0.0, \"min\": 3, \"max\": 3, \"sum\": 3, \"var\": 0.0, \"mean\": 3.0}, \"A2JKD8QFESL0YT\": {\"count\": 1, \"std\": 0.0, \"min\": 4, \"max\": 4, \"sum\": 4, \"var\": 0.0, \"mean\": 4.0}, \"A3AIE30U7HO613\": {\"count\": 1, \"std\": 0.0, \"min\": 5, \"max\": 5, \"sum\": 5, \"var\": 0.0, \"mean\": 5.0}, \"A1KX0824MUQXGZ\": {\"count\": 1, \"std\": 0.0, \"min\": 5, \"max\": 5, \"sum\": 5, \"var\": 0.0, \"mean\": 5.0}, \"A1UULIEGPNDKJ3\": {\"count\": 1, \"std\": 0.0, \"min\": 4, \"max\": 4, \"sum\": 4, \"var\": 0.0, \"mean\": 4.0}, \"ABI52Q6LUZ163\": {\"count\": 1, \"std\": 0.0, \"min\": 3, \"max\": 3, \"sum\": 3, \"var\": 0.0, \"mean\": 3.0}, \"A2QS7VQEX0MMBD\": {\"count\": 2, \"std\": 1.0, \"min\": 1, \"max\": 3, \"sum\": 4, \"var\": 1.0, \"mean\": 2.0}, \"A42IARR2D6TK6\": {\"count\": 2, \"std\": 1.5, \"min\": 2, \"max\": 5, \"sum\": 7, \"var\": 2.25, \"mean\": 3.5}, \"A3U1WIKK8R57OM\": {\"count\": 1, \"std\": 0.0, \"min\": 3, \"max\": 3, \"sum\": 3, \"var\": 0.0, \"mean\": 3.0}, \"AJCYUH8J51Q90\": {\"count\": 1, \"std\": 0.0, \"min\": 3, \"max\": 3, \"sum\": 3, \"var\": 0.0, \"mean\": 3.0}, \"A29E5WOO1LZW59\": {\"count\": 1, \"std\": 0.0, \"min\": 1, \"max\": 1, \"sum\": 1, \"var\": 0.0, \"mean\": 1.0}, \"ANYTYP6Z6W5OQ\": {\"count\": 1, \"std\": 0.0, \"min\": 2, \"max\": 2, \"sum\": 2, \"var\": 0.0, \"mean\": 2.0}, \"AF8JU7ZQJRMSP\": {\"count\": 1, \"std\": 0.0, \"min\": 3, \"max\": 3, \"sum\": 3, \"var\": 0.0, \"mean\": 3.0}, \"AGJIXE50Z87T1\": {\"count\": 1, \"std\": 0.0, \"min\": 2, \"max\": 2, \"sum\": 2, \"var\": 0.0, \"mean\": 2.0}, \"A1H12DBG9JIZCH\": {\"count\": 1, \"std\": 0.0, \"min\": 3, \"max\": 3, \"sum\": 3, \"var\": 0.0, \"mean\": 3.0}, \"A29TWJSG39IDBD\": {\"count\": 3, \"std\": 0.816496580927726, \"min\": 2, \"max\": 4, \"sum\": 9, \"var\": 0.6666666666666666, \"mean\": 3.0}, \"A2YHB2N2DZKHQU\": {\"count\": 1, \"std\": 0.0, \"min\": 1, \"max\": 1, \"sum\": 1, \"var\": 0.0, \"mean\": 1.0}, \"AA2JXCJATH3QX\": {\"count\": 1, \"std\": 0.0, \"min\": 4, \"max\": 4, \"sum\": 4, \"var\": 0.0, \"mean\": 4.0}, \"A4CYDHPGFSY60\": {\"count\": 1, \"std\": 0.0, \"min\": 2, \"max\": 2, \"sum\": 2, \"var\": 0.0, \"mean\": 2.0}, \"A354CVR7UHQYGQ\": {\"count\": 1, \"std\": 0.0, \"min\": 4, \"max\": 4, \"sum\": 4, \"var\": 0.0, \"mean\": 4.0}, \"A3LUN2C38YNDSP\": {\"count\": 1, \"std\": 0.0, \"min\": 3, \"max\": 3, \"sum\": 3, \"var\": 0.0, \"mean\": 3.0}, \"A2RSHOZ44VW7GT\": {\"count\": 1, \"std\": 0.0, \"min\": 3, \"max\": 3, \"sum\": 3, \"var\": 0.0, \"mean\": 3.0}, \"A29ZRMK7YBHXF\": {\"count\": 1, \"std\": 0.0, \"min\": 2, \"max\": 2, \"sum\": 2, \"var\": 0.0, \"mean\": 2.0}, \"ATAAAX8ZLQZ93\": {\"count\": 1, \"std\": 0.0, \"min\": 1, \"max\": 1, \"sum\": 1, \"var\": 0.0, \"mean\": 1.0}, \"A1IRM97W7Z2FHS\": {\"count\": 1, \"std\": 0.0, \"min\": 1, \"max\": 1, \"sum\": 1, \"var\": 0.0, \"mean\": 1.0}, \"A1YKOO0F4VJACA\": {\"count\": 1, \"std\": 0.0, \"min\": 5, \"max\": 5, \"sum\": 5, \"var\": 0.0, \"mean\": 5.0}, \"A25RNLJ9OUJZPH\": {\"count\": 1, \"std\": 0.0, \"min\": 1, \"max\": 1, \"sum\": 1, \"var\": 0.0, \"mean\": 1.0}, \"A2C9O3EYF8VY5O\": {\"count\": 1, \"std\": 0.0, \"min\": 5, \"max\": 5, \"sum\": 5, \"var\": 0.0, \"mean\": 5.0}, \"A1H6TK4JX6VH0S\": {\"count\": 1, \"std\": 0.0, \"min\": 5, \"max\": 5, \"sum\": 5, \"var\": 0.0, \"mean\": 5.0}, \"A3D35LJRRK0YON\": {\"count\": 1, \"std\": 0.0, \"min\": 5, \"max\": 5, \"sum\": 5, \"var\": 0.0, \"mean\": 5.0}, \"A5M7N0WIIE6SF\": {\"count\": 1, \"std\": 0.0, \"min\": 4, \"max\": 4, \"sum\": 4, \"var\": 0.0, \"mean\": 4.0}, \"A35VPVNE0PYQF9\": {\"count\": 1, \"std\": 0.0, \"min\": 2, \"max\": 2, \"sum\": 2, \"var\": 0.0, \"mean\": 2.0}, \"A7KLQYAEB0C1M\": {\"count\": 1, \"std\": 0.0, \"min\": 2, \"max\": 2, \"sum\": 2, \"var\": 0.0, \"mean\": 2.0}, \"ASC9KSASA66ZV\": {\"count\": 1, \"std\": 0.0, \"min\": 1, \"max\": 1, \"sum\": 1, \"var\": 0.0, \"mean\": 1.0}, \"A3ENV89EXPVT1Y\": {\"count\": 1, \"std\": 0.0, \"min\": 4, \"max\": 4, \"sum\": 4, \"var\": 0.0, \"mean\": 4.0}, \"AR7IFXVXOA48W\": {\"count\": 1, \"std\": 0.0, \"min\": 5, \"max\": 5, \"sum\": 5, \"var\": 0.0, \"mean\": 5.0}, \"A6ETYEG86E85M\": {\"count\": 1, \"std\": 0.0, \"min\": 4, \"max\": 4, \"sum\": 4, \"var\": 0.0, \"mean\": 4.0}, \"AK11LXBWSTMSM\": {\"count\": 1, \"std\": 0.0, \"min\": 3, \"max\": 3, \"sum\": 3, \"var\": 0.0, \"mean\": 3.0}, \"A3EUFZ2S8S5MNA\": {\"count\": 1, \"std\": 0.0, \"min\": 3, \"max\": 3, \"sum\": 3, \"var\": 0.0, \"mean\": 3.0}, \"A3877E5LXHVN65\": {\"count\": 1, \"std\": 0.0, \"min\": 5, \"max\": 5, \"sum\": 5, \"var\": 0.0, \"mean\": 5.0}, \"A3THRPVWHSIO30\": {\"count\": 1, \"std\": 0.0, \"min\": 4, \"max\": 4, \"sum\": 4, \"var\": 0.0, \"mean\": 4.0}, \"A3SUKPDQRL6OQW\": {\"count\": 1, \"std\": 0.0, \"min\": 5, \"max\": 5, \"sum\": 5, \"var\": 0.0, \"mean\": 5.0}, \"A3LEC3IZMF5X8W\": {\"count\": 1, \"std\": 0.0, \"min\": 1, \"max\": 1, \"sum\": 1, \"var\": 0.0, \"mean\": 1.0}, \"AKH6EVRDQ1974\": {\"count\": 1, \"std\": 0.0, \"min\": 5, \"max\": 5, \"sum\": 5, \"var\": 0.0, \"mean\": 5.0}, \"A100W0187JXEPU\": {\"count\": 1, \"std\": 0.0, \"min\": 2, \"max\": 2, \"sum\": 2, \"var\": 0.0, \"mean\": 2.0}, \"A3JE5V6KU8179W\": {\"count\": 1, \"std\": 0.0, \"min\": 3, \"max\": 3, \"sum\": 3, \"var\": 0.0, \"mean\": 3.0}, \"A2C2FTE3FGX8IP\": {\"count\": 1, \"std\": 0.0, \"min\": 5, \"max\": 5, \"sum\": 5, \"var\": 0.0, \"mean\": 5.0}, \"A1VRA4KAUCJND9\": {\"count\": 1, \"std\": 0.0, \"min\": 1, \"max\": 1, \"sum\": 1, \"var\": 0.0, \"mean\": 1.0}, \"A1R42PNO6EY8KO\": {\"count\": 1, \"std\": 0.0, \"min\": 5, \"max\": 5, \"sum\": 5, \"var\": 0.0, \"mean\": 5.0}, \"A5ADJW4103132\": {\"count\": 1, \"std\": 0.0, \"min\": 1, \"max\": 1, \"sum\": 1, \"var\": 0.0, \"mean\": 1.0}, \"A170RZH0I1IYY0\": {\"count\": 1, \"std\": 0.0, \"min\": 5, \"max\": 5, \"sum\": 5, \"var\": 0.0, \"mean\": 5.0}, \"ABL9LKAORK1WD\": {\"count\": 1, \"std\": 0.0, \"min\": 4, \"max\": 4, \"sum\": 4, \"var\": 0.0, \"mean\": 4.0}, \"AQ168RT9MTLLE\": {\"count\": 1, \"std\": 0.0, \"min\": 4, \"max\": 4, \"sum\": 4, \"var\": 0.0, \"mean\": 4.0}, \"AIOM6PF85XO7F\": {\"count\": 4, \"std\": 0.7071067811865476, \"min\": 1, \"max\": 3, \"sum\": 8, \"var\": 0.5, \"mean\": 2.0}, \"A3OUCVOGJ263D6\": {\"count\": 1, \"std\": 0.0, \"min\": 4, \"max\": 4, \"sum\": 4, \"var\": 0.0, \"mean\": 4.0}, \"A1JRSRQ3MJQZ2\": {\"count\": 1, \"std\": 0.0, \"min\": 1, \"max\": 1, \"sum\": 1, \"var\": 0.0, \"mean\": 1.0}, \"AQSXSJCW9NUAW\": {\"count\": 1, \"std\": 0.0, \"min\": 1, \"max\": 1, \"sum\": 1, \"var\": 0.0, \"mean\": 1.0}, \"A769I5U3HK438\": {\"count\": 2, \"std\": 0.0, \"min\": 4, \"max\": 4, \"sum\": 8, \"var\": 0.0, \"mean\": 4.0}, \"AHUZV74KLSFKY\": {\"count\": 1, \"std\": 0.0, \"min\": 3, \"max\": 3, \"sum\": 3, \"var\": 0.0, \"mean\": 3.0}, \"A133BAEU38TIHY\": {\"count\": 2, \"std\": 0.5, \"min\": 1, \"max\": 2, \"sum\": 3, \"var\": 0.25, \"mean\": 1.5}, \"A3MNQLTU5DGBVE\": {\"count\": 1, \"std\": 0.0, \"min\": 5, \"max\": 5, \"sum\": 5, \"var\": 0.0, \"mean\": 5.0}, \"A1PKABWIR0DRN9\": {\"count\": 1, \"std\": 0.0, \"min\": 1, \"max\": 1, \"sum\": 1, \"var\": 0.0, \"mean\": 1.0}, \"A2NJ1PTA6POKPC\": {\"count\": 2, \"std\": 1.0, \"min\": 3, \"max\": 5, \"sum\": 8, \"var\": 1.0, \"mean\": 4.0}, \"A3LHAGKDZ177Q6\": {\"count\": 1, \"std\": 0.0, \"min\": 5, \"max\": 5, \"sum\": 5, \"var\": 0.0, \"mean\": 5.0}, \"ARJRPG5W925MD\": {\"count\": 1, \"std\": 0.0, \"min\": 5, \"max\": 5, \"sum\": 5, \"var\": 0.0, \"mean\": 5.0}, \"A24AWJ6ACJ3ENW\": {\"count\": 1, \"std\": 0.0, \"min\": 1, \"max\": 1, \"sum\": 1, \"var\": 0.0, \"mean\": 1.0}, \"A2XWZSEB2KWQRF\": {\"count\": 1, \"std\": 0.0, \"min\": 1, \"max\": 1, \"sum\": 1, \"var\": 0.0, \"mean\": 1.0}, \"AWMOPE70GGX84\": {\"count\": 1, \"std\": 0.0, \"min\": 5, \"max\": 5, \"sum\": 5, \"var\": 0.0, \"mean\": 5.0}, \"A1GOFNLVN89G2Z\": {\"count\": 1, \"std\": 0.0, \"min\": 5, \"max\": 5, \"sum\": 5, \"var\": 0.0, \"mean\": 5.0}, \"ASGTNU91TFEN9\": {\"count\": 1, \"std\": 0.0, \"min\": 4, \"max\": 4, \"sum\": 4, \"var\": 0.0, \"mean\": 4.0}, \"A2UKTA3NDFXM5T\": {\"count\": 1, \"std\": 0.0, \"min\": 2, \"max\": 2, \"sum\": 2, \"var\": 0.0, \"mean\": 2.0}, \"A2BQDFUH06LZH3\": {\"count\": 1, \"std\": 0.0, \"min\": 5, \"max\": 5, \"sum\": 5, \"var\": 0.0, \"mean\": 5.0}, \"A2QU7PCR9W54Y0\": {\"count\": 1, \"std\": 0.0, \"min\": 3, \"max\": 3, \"sum\": 3, \"var\": 0.0, \"mean\": 3.0}, \"A1VDS485L17NZ6\": {\"count\": 1, \"std\": 0.0, \"min\": 3, \"max\": 3, \"sum\": 3, \"var\": 0.0, \"mean\": 3.0}, \"A34W68ZUSTYTXO\": {\"count\": 1, \"std\": 0.0, \"min\": 1, \"max\": 1, \"sum\": 1, \"var\": 0.0, \"mean\": 1.0}, \"A3SJ31Q9844S42\": {\"count\": 1, \"std\": 0.0, \"min\": 2, \"max\": 2, \"sum\": 2, \"var\": 0.0, \"mean\": 2.0}, \"A26B4MGVT2T38\": {\"count\": 1, \"std\": 0.0, \"min\": 3, \"max\": 3, \"sum\": 3, \"var\": 0.0, \"mean\": 3.0}, \"A23UNXM9ILZLGG\": {\"count\": 1, \"std\": 0.0, \"min\": 1, \"max\": 1, \"sum\": 1, \"var\": 0.0, \"mean\": 1.0}, \"A22D69GGZR0JOF\": {\"count\": 1, \"std\": 0.0, \"min\": 3, \"max\": 3, \"sum\": 3, \"var\": 0.0, \"mean\": 3.0}, \"A1ZVJW4GDAR969\": {\"count\": 1, \"std\": 0.0, \"min\": 3, \"max\": 3, \"sum\": 3, \"var\": 0.0, \"mean\": 3.0}, \"A1Y1OFA3IPE5K9\": {\"count\": 2, \"std\": 0.0, \"min\": 4, \"max\": 4, \"sum\": 8, \"var\": 0.0, \"mean\": 4.0}, \"A15EZNM6LN333P\": {\"count\": 1, \"std\": 0.0, \"min\": 1, \"max\": 1, \"sum\": 1, \"var\": 0.0, \"mean\": 1.0}, \"A2PEONZPHPX06J\": {\"count\": 1, \"std\": 0.0, \"min\": 3, \"max\": 3, \"sum\": 3, \"var\": 0.0, \"mean\": 3.0}, \"AR2ETQ67PPXXR\": {\"count\": 2, \"std\": 0.5, \"min\": 4, \"max\": 5, \"sum\": 9, \"var\": 0.25, \"mean\": 4.5}, \"A2VIO3WUWAWZNT\": {\"count\": 1, \"std\": 0.0, \"min\": 1, \"max\": 1, \"sum\": 1, \"var\": 0.0, \"mean\": 1.0}, \"A34Z9I3XYZOFYO\": {\"count\": 1, \"std\": 0.0, \"min\": 3, \"max\": 3, \"sum\": 3, \"var\": 0.0, \"mean\": 3.0}, \"A2P2R6UVXJ6SG0\": {\"count\": 1, \"std\": 0.0, \"min\": 5, \"max\": 5, \"sum\": 5, \"var\": 0.0, \"mean\": 5.0}, \"A3JJIKOWRH6MQR\": {\"count\": 1, \"std\": 0.0, \"min\": 5, \"max\": 5, \"sum\": 5, \"var\": 0.0, \"mean\": 5.0}, \"A3JQNYMK5ILBDL\": {\"count\": 1, \"std\": 0.0, \"min\": 5, \"max\": 5, \"sum\": 5, \"var\": 0.0, \"mean\": 5.0}, \"A3LU4SJU9NX7GP\": {\"count\": 2, \"std\": 0.5, \"min\": 4, \"max\": 5, \"sum\": 9, \"var\": 0.25, \"mean\": 4.5}, \"AIKYBVUU9IS34\": {\"count\": 1, \"std\": 0.0, \"min\": 1, \"max\": 1, \"sum\": 1, \"var\": 0.0, \"mean\": 1.0}, \"A1N4GC08XW10N8\": {\"count\": 1, \"std\": 0.0, \"min\": 3, \"max\": 3, \"sum\": 3, \"var\": 0.0, \"mean\": 3.0}, \"A2KNI8P1XA8HHC\": {\"count\": 1, \"std\": 0.0, \"min\": 3, \"max\": 3, \"sum\": 3, \"var\": 0.0, \"mean\": 3.0}, \"A2PM7TT051R3OD\": {\"count\": 1, \"std\": 0.0, \"min\": 4, \"max\": 4, \"sum\": 4, \"var\": 0.0, \"mean\": 4.0}, \"A1PYA5FJ4BWWH7\": {\"count\": 1, \"std\": 0.0, \"min\": 1, \"max\": 1, \"sum\": 1, \"var\": 0.0, \"mean\": 1.0}, \"AUDGN496QPOMC\": {\"count\": 1, \"std\": 0.0, \"min\": 4, \"max\": 4, \"sum\": 4, \"var\": 0.0, \"mean\": 4.0}, \"A2T90KTFE2K1HA\": {\"count\": 3, \"std\": 0.0, \"min\": 1, \"max\": 1, \"sum\": 3, \"var\": 0.0, \"mean\": 1.0}, \"A33R8F8IRT3Q35\": {\"count\": 1, \"std\": 0.0, \"min\": 3, \"max\": 3, \"sum\": 3, \"var\": 0.0, \"mean\": 3.0}, \"AZIU3HJ6E3D5M\": {\"count\": 1, \"std\": 0.0, \"min\": 3, \"max\": 3, \"sum\": 3, \"var\": 0.0, \"mean\": 3.0}, \"AWUEB3OZKAE5M\": {\"count\": 1, \"std\": 0.0, \"min\": 3, \"max\": 3, \"sum\": 3, \"var\": 0.0, \"mean\": 3.0}, \"A2KHMIBQTF74XP\": {\"count\": 1, \"std\": 0.0, \"min\": 1, \"max\": 1, \"sum\": 1, \"var\": 0.0, \"mean\": 1.0}, \"A18JEPQ3S2VIKV\": {\"count\": 2, \"std\": 0.0, \"min\": 5, \"max\": 5, \"sum\": 10, \"var\": 0.0, \"mean\": 5.0}, \"A27ONS0K4G12UR\": {\"count\": 1, \"std\": 0.0, \"min\": 3, \"max\": 3, \"sum\": 3, \"var\": 0.0, \"mean\": 3.0}, \"A1A7VEFGIM5NW4\": {\"count\": 2, \"std\": 0.0, \"min\": 4, \"max\": 4, \"sum\": 8, \"var\": 0.0, \"mean\": 4.0}, \"A1I4P2FPIV92DE\": {\"count\": 1, \"std\": 0.0, \"min\": 3, \"max\": 3, \"sum\": 3, \"var\": 0.0, \"mean\": 3.0}, \"APEAPKIZ3LEB8\": {\"count\": 1, \"std\": 0.0, \"min\": 5, \"max\": 5, \"sum\": 5, \"var\": 0.0, \"mean\": 5.0}, \"A3B1UW761TH57G\": {\"count\": 1, \"std\": 0.0, \"min\": 5, \"max\": 5, \"sum\": 5, \"var\": 0.0, \"mean\": 5.0}, \"A2YC6AANV4GZ0F\": {\"count\": 1, \"std\": 0.0, \"min\": 4, \"max\": 4, \"sum\": 4, \"var\": 0.0, \"mean\": 4.0}, \"A2FR8KUEOR8RVL\": {\"count\": 1, \"std\": 0.0, \"min\": 2, \"max\": 2, \"sum\": 2, \"var\": 0.0, \"mean\": 2.0}, \"A1YJKI6PHXPAJ7\": {\"count\": 1, \"std\": 0.0, \"min\": 2, \"max\": 2, \"sum\": 2, \"var\": 0.0, \"mean\": 2.0}, \"A19UGBBQB50MB7\": {\"count\": 1, \"std\": 0.0, \"min\": 5, \"max\": 5, \"sum\": 5, \"var\": 0.0, \"mean\": 5.0}, \"AJPEGUUBIHFZQ\": {\"count\": 1, \"std\": 0.0, \"min\": 3, \"max\": 3, \"sum\": 3, \"var\": 0.0, \"mean\": 3.0}, \"AX2ZM3DI5ZD97\": {\"count\": 1, \"std\": 0.0, \"min\": 2, \"max\": 2, \"sum\": 2, \"var\": 0.0, \"mean\": 2.0}, \"AYIJSFG3M0U8Z\": {\"count\": 1, \"std\": 0.0, \"min\": 3, \"max\": 3, \"sum\": 3, \"var\": 0.0, \"mean\": 3.0}, \"AN3LJXACD58IO\": {\"count\": 1, \"std\": 0.0, \"min\": 4, \"max\": 4, \"sum\": 4, \"var\": 0.0, \"mean\": 4.0}, \"A1E8EGIVPGB913\": {\"count\": 1, \"std\": 0.0, \"min\": 4, \"max\": 4, \"sum\": 4, \"var\": 0.0, \"mean\": 4.0}, \"A2IATYSCYJPK90\": {\"count\": 1, \"std\": 0.0, \"min\": 4, \"max\": 4, \"sum\": 4, \"var\": 0.0, \"mean\": 4.0}, \"A147CEUKHE4Z2V\": {\"count\": 1, \"std\": 0.0, \"min\": 1, \"max\": 1, \"sum\": 1, \"var\": 0.0, \"mean\": 1.0}, \"A3NB05D11RRJ5E\": {\"count\": 1, \"std\": 0.0, \"min\": 4, \"max\": 4, \"sum\": 4, \"var\": 0.0, \"mean\": 4.0}, \"ASQ93Y4VXXRAX\": {\"count\": 1, \"std\": 0.0, \"min\": 5, \"max\": 5, \"sum\": 5, \"var\": 0.0, \"mean\": 5.0}, \"A3J4WYZO8SEUGW\": {\"count\": 1, \"std\": 0.0, \"min\": 1, \"max\": 1, \"sum\": 1, \"var\": 0.0, \"mean\": 1.0}, \"A1PW4422YU77JK\": {\"count\": 1, \"std\": 0.0, \"min\": 5, \"max\": 5, \"sum\": 5, \"var\": 0.0, \"mean\": 5.0}, \"A1FIDJZQYXK9VD\": {\"count\": 1, \"std\": 0.0, \"min\": 2, \"max\": 2, \"sum\": 2, \"var\": 0.0, \"mean\": 2.0}, \"AUI5WM8O9QGVI\": {\"count\": 3, \"std\": 0.4714045207910317, \"min\": 2, \"max\": 3, \"sum\": 8, \"var\": 0.22222222222222224, \"mean\": 2.6666666666666665}, \"A22DPPJBUQFJ72\": {\"count\": 1, \"std\": 0.0, \"min\": 4, \"max\": 4, \"sum\": 4, \"var\": 0.0, \"mean\": 4.0}, \"A1QSUIQRZFQ85E\": {\"count\": 1, \"std\": 0.0, \"min\": 5, \"max\": 5, \"sum\": 5, \"var\": 0.0, \"mean\": 5.0}, \"A2MC7ISMLB754F\": {\"count\": 1, \"std\": 0.0, \"min\": 1, \"max\": 1, \"sum\": 1, \"var\": 0.0, \"mean\": 1.0}, \"AGRCWC19AVUDP\": {\"count\": 1, \"std\": 0.0, \"min\": 3, \"max\": 3, \"sum\": 3, \"var\": 0.0, \"mean\": 3.0}, \"A3F8T3BRXRX5P3\": {\"count\": 2, \"std\": 0.0, \"min\": 2, \"max\": 2, \"sum\": 4, \"var\": 0.0, \"mean\": 2.0}, \"A3OZ1M30DPKQUS\": {\"count\": 1, \"std\": 0.0, \"min\": 4, \"max\": 4, \"sum\": 4, \"var\": 0.0, \"mean\": 4.0}, \"APPA74THWWWPM\": {\"count\": 1, \"std\": 0.0, \"min\": 3, \"max\": 3, \"sum\": 3, \"var\": 0.0, \"mean\": 3.0}, \"A1295W29ENCW4W\": {\"count\": 1, \"std\": 0.0, \"min\": 4, \"max\": 4, \"sum\": 4, \"var\": 0.0, \"mean\": 4.0}, \"A3JLL6SD6C2S0D\": {\"count\": 1, \"std\": 0.0, \"min\": 5, \"max\": 5, \"sum\": 5, \"var\": 0.0, \"mean\": 5.0}, \"A3CCPKAT8P7PN6\": {\"count\": 1, \"std\": 0.0, \"min\": 5, \"max\": 5, \"sum\": 5, \"var\": 0.0, \"mean\": 5.0}, \"ALLN1G5WQ9RP\": {\"count\": 1, \"std\": 0.0, \"min\": 1, \"max\": 1, \"sum\": 1, \"var\": 0.0, \"mean\": 1.0}, \"A1EOIO6OVKGLXL\": {\"count\": 1, \"std\": 0.0, \"min\": 1, \"max\": 1, \"sum\": 1, \"var\": 0.0, \"mean\": 1.0}, \"A1O0AMP45LWOXE\": {\"count\": 1, \"std\": 0.0, \"min\": 1, \"max\": 1, \"sum\": 1, \"var\": 0.0, \"mean\": 1.0}, \"AFI2KUV29EX28\": {\"count\": 1, \"std\": 0.0, \"min\": 3, \"max\": 3, \"sum\": 3, \"var\": 0.0, \"mean\": 3.0}, \"A1L8B81VI44H7S\": {\"count\": 1, \"std\": 0.0, \"min\": 2, \"max\": 2, \"sum\": 2, \"var\": 0.0, \"mean\": 2.0}, \"A2K6FL77P036QG\": {\"count\": 1, \"std\": 0.0, \"min\": 3, \"max\": 3, \"sum\": 3, \"var\": 0.0, \"mean\": 3.0}, \"A21LFV8H3VI0M0\": {\"count\": 1, \"std\": 0.0, \"min\": 4, \"max\": 4, \"sum\": 4, \"var\": 0.0, \"mean\": 4.0}, \"A2G2OR0Y4VSZKF\": {\"count\": 1, \"std\": 0.0, \"min\": 1, \"max\": 1, \"sum\": 1, \"var\": 0.0, \"mean\": 1.0}, \"A1DMV6ALZ3GLVG\": {\"count\": 1, \"std\": 0.0, \"min\": 5, \"max\": 5, \"sum\": 5, \"var\": 0.0, \"mean\": 5.0}, \"A3KL3LNZ192Y3S\": {\"count\": 1, \"std\": 0.0, \"min\": 4, \"max\": 4, \"sum\": 4, \"var\": 0.0, \"mean\": 4.0}, \"A3S1J0E1X1E1AL\": {\"count\": 1, \"std\": 0.0, \"min\": 1, \"max\": 1, \"sum\": 1, \"var\": 0.0, \"mean\": 1.0}, \"A20V5VTAWCLIDI\": {\"count\": 1, \"std\": 0.0, \"min\": 1, \"max\": 1, \"sum\": 1, \"var\": 0.0, \"mean\": 1.0}, \"A259MK2L83GQIR\": {\"count\": 1, \"std\": 0.0, \"min\": 2, \"max\": 2, \"sum\": 2, \"var\": 0.0, \"mean\": 2.0}, \"A1CUAZXUYF8595\": {\"count\": 1, \"std\": 0.0, \"min\": 2, \"max\": 2, \"sum\": 2, \"var\": 0.0, \"mean\": 2.0}, \"A293SJOE77ZTT9\": {\"count\": 1, \"std\": 0.0, \"min\": 5, \"max\": 5, \"sum\": 5, \"var\": 0.0, \"mean\": 5.0}, \"A24XG0M57KRURP\": {\"count\": 1, \"std\": 0.0, \"min\": 4, \"max\": 4, \"sum\": 4, \"var\": 0.0, \"mean\": 4.0}, \"A2EJGRN3T5PHSA\": {\"count\": 1, \"std\": 0.0, \"min\": 3, \"max\": 3, \"sum\": 3, \"var\": 0.0, \"mean\": 3.0}, \"A163K7LG1IOCUP\": {\"count\": 2, \"std\": 0.5, \"min\": 4, \"max\": 5, \"sum\": 9, \"var\": 0.25, \"mean\": 4.5}, \"A1VOLYCJ0LBIQQ\": {\"count\": 1, \"std\": 0.0, \"min\": 1, \"max\": 1, \"sum\": 1, \"var\": 0.0, \"mean\": 1.0}, \"A1HIT8UVKQLTRG\": {\"count\": 1, \"std\": 0.0, \"min\": 2, \"max\": 2, \"sum\": 2, \"var\": 0.0, \"mean\": 2.0}, \"A3HBHB6DX5T1GV\": {\"count\": 1, \"std\": 0.0, \"min\": 4, \"max\": 4, \"sum\": 4, \"var\": 0.0, \"mean\": 4.0}, \"A2P8Q1J88RN6Z\": {\"count\": 1, \"std\": 0.0, \"min\": 1, \"max\": 1, \"sum\": 1, \"var\": 0.0, \"mean\": 1.0}, \"A1VVV1V43YR8AH\": {\"count\": 1, \"std\": 0.0, \"min\": 1, \"max\": 1, \"sum\": 1, \"var\": 0.0, \"mean\": 1.0}, \"A174N0DOTEYQ8C\": {\"count\": 1, \"std\": 0.0, \"min\": 1, \"max\": 1, \"sum\": 1, \"var\": 0.0, \"mean\": 1.0}, \"A2EJF8PFI2P33J\": {\"count\": 1, \"std\": 0.0, \"min\": 4, \"max\": 4, \"sum\": 4, \"var\": 0.0, \"mean\": 4.0}, \"A3CVDKB1P59J67\": {\"count\": 1, \"std\": 0.0, \"min\": 1, \"max\": 1, \"sum\": 1, \"var\": 0.0, \"mean\": 1.0}, \"A327Q59ZZ6KM7\": {\"count\": 1, \"std\": 0.0, \"min\": 2, \"max\": 2, \"sum\": 2, \"var\": 0.0, \"mean\": 2.0}, \"A2FMJFEAVZ82Z9\": {\"count\": 1, \"std\": 0.0, \"min\": 2, \"max\": 2, \"sum\": 2, \"var\": 0.0, \"mean\": 2.0}, \"A17F2X02IVL8HC\": {\"count\": 1, \"std\": 0.0, \"min\": 3, \"max\": 3, \"sum\": 3, \"var\": 0.0, \"mean\": 3.0}, \"A3JUPP34ZM9SKU\": {\"count\": 1, \"std\": 0.0, \"min\": 2, \"max\": 2, \"sum\": 2, \"var\": 0.0, \"mean\": 2.0}, \"AGIUYJ0S6285N\": {\"count\": 1, \"std\": 0.0, \"min\": 4, \"max\": 4, \"sum\": 4, \"var\": 0.0, \"mean\": 4.0}, \"A1VMSM54B2RIF6\": {\"count\": 1, \"std\": 0.0, \"min\": 3, \"max\": 3, \"sum\": 3, \"var\": 0.0, \"mean\": 3.0}, \"A2RB6I4YKA8NAM\": {\"count\": 1, \"std\": 0.0, \"min\": 4, \"max\": 4, \"sum\": 4, \"var\": 0.0, \"mean\": 4.0}, \"APVMCECU2TP8T\": {\"count\": 1, \"std\": 0.0, \"min\": 1, \"max\": 1, \"sum\": 1, \"var\": 0.0, \"mean\": 1.0}, \"AKFXLB8OLLG6Y\": {\"count\": 1, \"std\": 0.0, \"min\": 2, \"max\": 2, \"sum\": 2, \"var\": 0.0, \"mean\": 2.0}, \"A2TNKWOZD6NK13\": {\"count\": 1, \"std\": 0.0, \"min\": 1, \"max\": 1, \"sum\": 1, \"var\": 0.0, \"mean\": 1.0}, \"A12R4HZD3AVEQJ\": {\"count\": 1, \"std\": 0.0, \"min\": 3, \"max\": 3, \"sum\": 3, \"var\": 0.0, \"mean\": 3.0}, \"A2Z0AZS01N1C9L\": {\"count\": 1, \"std\": 0.0, \"min\": 3, \"max\": 3, \"sum\": 3, \"var\": 0.0, \"mean\": 3.0}, \"A1J2V9LSJPT3V7\": {\"count\": 1, \"std\": 0.0, \"min\": 4, \"max\": 4, \"sum\": 4, \"var\": 0.0, \"mean\": 4.0}, \"A1I06NAUVWWS5M\": {\"count\": 2, \"std\": 0.5, \"min\": 4, \"max\": 5, \"sum\": 9, \"var\": 0.25, \"mean\": 4.5}, \"A25GM52LDIOBZR\": {\"count\": 1, \"std\": 0.0, \"min\": 5, \"max\": 5, \"sum\": 5, \"var\": 0.0, \"mean\": 5.0}, \"AF0X54OYSOD2E\": {\"count\": 1, \"std\": 0.0, \"min\": 4, \"max\": 4, \"sum\": 4, \"var\": 0.0, \"mean\": 4.0}, \"A3MZ99YXOKIR9U\": {\"count\": 1, \"std\": 0.0, \"min\": 3, \"max\": 3, \"sum\": 3, \"var\": 0.0, \"mean\": 3.0}, \"A2HAQGWFWM6Y8V\": {\"count\": 1, \"std\": 0.0, \"min\": 4, \"max\": 4, \"sum\": 4, \"var\": 0.0, \"mean\": 4.0}, \"A2IRZBK5P0S079\": {\"count\": 1, \"std\": 0.0, \"min\": 2, \"max\": 2, \"sum\": 2, \"var\": 0.0, \"mean\": 2.0}, \"A799Q0UHAYIK9\": {\"count\": 1, \"std\": 0.0, \"min\": 5, \"max\": 5, \"sum\": 5, \"var\": 0.0, \"mean\": 5.0}, \"A18YA8YEAIR9OF\": {\"count\": 2, \"std\": 1.0, \"min\": 1, \"max\": 3, \"sum\": 4, \"var\": 1.0, \"mean\": 2.0}, \"A3GD8PY50PD3RG\": {\"count\": 2, \"std\": 0.0, \"min\": 5, \"max\": 5, \"sum\": 10, \"var\": 0.0, \"mean\": 5.0}, \"A5KBD88YG0EYA\": {\"count\": 1, \"std\": 0.0, \"min\": 2, \"max\": 2, \"sum\": 2, \"var\": 0.0, \"mean\": 2.0}, \"A1DFRPNE1DQU8P\": {\"count\": 1, \"std\": 0.0, \"min\": 3, \"max\": 3, \"sum\": 3, \"var\": 0.0, \"mean\": 3.0}, \"A18E6MVI8PT1DG\": {\"count\": 4, \"std\": 0.5000000000000001, \"min\": 4, \"max\": 5, \"sum\": 18, \"var\": 0.2500000000000001, \"mean\": 4.5}, \"A237W5D28VLWYI\": {\"count\": 1, \"std\": 0.0, \"min\": 4, \"max\": 4, \"sum\": 4, \"var\": 0.0, \"mean\": 4.0}, \"A1YIWN894GYC5\": {\"count\": 1, \"std\": 0.0, \"min\": 3, \"max\": 3, \"sum\": 3, \"var\": 0.0, \"mean\": 3.0}, \"A29CORKCNCH4OX\": {\"count\": 1, \"std\": 0.0, \"min\": 4, \"max\": 4, \"sum\": 4, \"var\": 0.0, \"mean\": 4.0}, \"A38QOSRX09F56J\": {\"count\": 1, \"std\": 0.0, \"min\": 3, \"max\": 3, \"sum\": 3, \"var\": 0.0, \"mean\": 3.0}, \"A2VMQNM2FFM01R\": {\"count\": 1, \"std\": 0.0, \"min\": 3, \"max\": 3, \"sum\": 3, \"var\": 0.0, \"mean\": 3.0}, \"A26KZFK4OYGHDN\": {\"count\": 1, \"std\": 0.0, \"min\": 5, \"max\": 5, \"sum\": 5, \"var\": 0.0, \"mean\": 5.0}, \"AX6CRRFTE9V10\": {\"count\": 2, \"std\": 1.0, \"min\": 3, \"max\": 5, \"sum\": 8, \"var\": 1.0, \"mean\": 4.0}, \"A2Q25MXUYSTWDB\": {\"count\": 2, \"std\": 0.5, \"min\": 1, \"max\": 2, \"sum\": 3, \"var\": 0.25, \"mean\": 1.5}, \"A3NOYIC4YHR34G\": {\"count\": 1, \"std\": 0.0, \"min\": 3, \"max\": 3, \"sum\": 3, \"var\": 0.0, \"mean\": 3.0}, \"A28CJY14J9XIT8\": {\"count\": 1, \"std\": 0.0, \"min\": 3, \"max\": 3, \"sum\": 3, \"var\": 0.0, \"mean\": 3.0}, \"A7HX7NUKVVCOE\": {\"count\": 1, \"std\": 0.0, \"min\": 1, \"max\": 1, \"sum\": 1, \"var\": 0.0, \"mean\": 1.0}, \"A1BKJJVLLLLO66\": {\"count\": 1, \"std\": 0.0, \"min\": 1, \"max\": 1, \"sum\": 1, \"var\": 0.0, \"mean\": 1.0}, \"AWZRKXAIO6CBZ\": {\"count\": 1, \"std\": 0.0, \"min\": 3, \"max\": 3, \"sum\": 3, \"var\": 0.0, \"mean\": 3.0}, \"A2K8RI42O9AOBO\": {\"count\": 1, \"std\": 0.0, \"min\": 2, \"max\": 2, \"sum\": 2, \"var\": 0.0, \"mean\": 2.0}, \"A21ZJDPWW3MLZK\": {\"count\": 1, \"std\": 0.0, \"min\": 5, \"max\": 5, \"sum\": 5, \"var\": 0.0, \"mean\": 5.0}, \"A2OFUUKKZKUTSO\": {\"count\": 1, \"std\": 0.0, \"min\": 3, \"max\": 3, \"sum\": 3, \"var\": 0.0, \"mean\": 3.0}, \"A17DBF43T97EHS\": {\"count\": 1, \"std\": 0.0, \"min\": 4, \"max\": 4, \"sum\": 4, \"var\": 0.0, \"mean\": 4.0}, \"AR37WIWDE80EJ\": {\"count\": 1, \"std\": 0.0, \"min\": 4, \"max\": 4, \"sum\": 4, \"var\": 0.0, \"mean\": 4.0}, \"A37ENXL73XL9EY\": {\"count\": 2, \"std\": 1.0, \"min\": 2, \"max\": 4, \"sum\": 6, \"var\": 1.0, \"mean\": 3.0}, \"A28QLB8YF8STAB\": {\"count\": 1, \"std\": 0.0, \"min\": 1, \"max\": 1, \"sum\": 1, \"var\": 0.0, \"mean\": 1.0}, \"A2653YPB334RHB\": {\"count\": 1, \"std\": 0.0, \"min\": 2, \"max\": 2, \"sum\": 2, \"var\": 0.0, \"mean\": 2.0}, \"A3SQF573T358GO\": {\"count\": 2, \"std\": 0.5, \"min\": 2, \"max\": 3, \"sum\": 5, \"var\": 0.25, \"mean\": 2.5}, \"A16HBC3Z8E0C2I\": {\"count\": 1, \"std\": 0.0, \"min\": 2, \"max\": 2, \"sum\": 2, \"var\": 0.0, \"mean\": 2.0}, \"A1FQNUBSQTR9CI\": {\"count\": 1, \"std\": 0.0, \"min\": 1, \"max\": 1, \"sum\": 1, \"var\": 0.0, \"mean\": 1.0}, \"A20W7GBRU52MJS\": {\"count\": 1, \"std\": 0.0, \"min\": 1, \"max\": 1, \"sum\": 1, \"var\": 0.0, \"mean\": 1.0}, \"AAM61W6AAM42Z\": {\"count\": 1, \"std\": 0.0, \"min\": 5, \"max\": 5, \"sum\": 5, \"var\": 0.0, \"mean\": 5.0}, \"A1V1ES7B9M60QJ\": {\"count\": 1, \"std\": 0.0, \"min\": 3, \"max\": 3, \"sum\": 3, \"var\": 0.0, \"mean\": 3.0}, \"A2ZV20ZOV71X4H\": {\"count\": 1, \"std\": 0.0, \"min\": 1, \"max\": 1, \"sum\": 1, \"var\": 0.0, \"mean\": 1.0}, \"A2UEYCQJTK4RAM\": {\"count\": 2, \"std\": 0.0, \"min\": 3, \"max\": 3, \"sum\": 6, \"var\": 0.0, \"mean\": 3.0}, \"A382WNJMFO964Z\": {\"count\": 1, \"std\": 0.0, \"min\": 1, \"max\": 1, \"sum\": 1, \"var\": 0.0, \"mean\": 1.0}, \"A2N5SRTYXRRKIM\": {\"count\": 1, \"std\": 0.0, \"min\": 1, \"max\": 1, \"sum\": 1, \"var\": 0.0, \"mean\": 1.0}, \"A3790IIHUZBVDI\": {\"count\": 1, \"std\": 0.0, \"min\": 2, \"max\": 2, \"sum\": 2, \"var\": 0.0, \"mean\": 2.0}, \"A1STBLTPPMNHN2\": {\"count\": 1, \"std\": 0.0, \"min\": 5, \"max\": 5, \"sum\": 5, \"var\": 0.0, \"mean\": 5.0}, \"A1TCC2W7UAO8E7\": {\"count\": 1, \"std\": 0.0, \"min\": 3, \"max\": 3, \"sum\": 3, \"var\": 0.0, \"mean\": 3.0}, \"A1J297HYF95VT\": {\"count\": 1, \"std\": 0.0, \"min\": 4, \"max\": 4, \"sum\": 4, \"var\": 0.0, \"mean\": 4.0}, \"A2FJ1CRCPOZ7YO\": {\"count\": 1, \"std\": 0.0, \"min\": 4, \"max\": 4, \"sum\": 4, \"var\": 0.0, \"mean\": 4.0}, \"AN0J7XG6WBWYX\": {\"count\": 1, \"std\": 0.0, \"min\": 3, \"max\": 3, \"sum\": 3, \"var\": 0.0, \"mean\": 3.0}, \"AJ0C3Z3YM162L\": {\"count\": 1, \"std\": 0.0, \"min\": 5, \"max\": 5, \"sum\": 5, \"var\": 0.0, \"mean\": 5.0}, \"ADW089WYSBCEH\": {\"count\": 1, \"std\": 0.0, \"min\": 5, \"max\": 5, \"sum\": 5, \"var\": 0.0, \"mean\": 5.0}, \"A27E0SGEESGDNY\": {\"count\": 3, \"std\": 1.8856180831641267, \"min\": 1, \"max\": 5, \"sum\": 11, \"var\": 3.555555555555556, \"mean\": 3.6666666666666665}, \"A25B1VP26KATBN\": {\"count\": 1, \"std\": 0.0, \"min\": 5, \"max\": 5, \"sum\": 5, \"var\": 0.0, \"mean\": 5.0}, \"AP97G6W8E3FH6\": {\"count\": 1, \"std\": 0.0, \"min\": 2, \"max\": 2, \"sum\": 2, \"var\": 0.0, \"mean\": 2.0}, \"A1ULJORV1LN39U\": {\"count\": 3, \"std\": 1.699673171197595, \"min\": 1, \"max\": 5, \"sum\": 10, \"var\": 2.888888888888889, \"mean\": 3.3333333333333335}, \"A2LZK53B0SKLXD\": {\"count\": 1, \"std\": 0.0, \"min\": 1, \"max\": 1, \"sum\": 1, \"var\": 0.0, \"mean\": 1.0}, \"A2BQT84E06XOO4\": {\"count\": 1, \"std\": 0.0, \"min\": 5, \"max\": 5, \"sum\": 5, \"var\": 0.0, \"mean\": 5.0}, \"A1BTCPUNP3XZEF\": {\"count\": 1, \"std\": 0.0, \"min\": 2, \"max\": 2, \"sum\": 2, \"var\": 0.0, \"mean\": 2.0}, \"A3TDCMZINWIUWJ\": {\"count\": 4, \"std\": 1.6583123951777001, \"min\": 1, \"max\": 5, \"sum\": 14, \"var\": 2.7500000000000004, \"mean\": 3.5}, \"A6C8BS3PL76CX\": {\"count\": 1, \"std\": 0.0, \"min\": 5, \"max\": 5, \"sum\": 5, \"var\": 0.0, \"mean\": 5.0}, \"A9FQERUMGIB1Y\": {\"count\": 1, \"std\": 0.0, \"min\": 1, \"max\": 1, \"sum\": 1, \"var\": 0.0, \"mean\": 1.0}, \"AITUF1FZY30GR\": {\"count\": 1, \"std\": 0.0, \"min\": 4, \"max\": 4, \"sum\": 4, \"var\": 0.0, \"mean\": 4.0}, \"A2Y98X4QZFL08U\": {\"count\": 1, \"std\": 0.0, \"min\": 5, \"max\": 5, \"sum\": 5, \"var\": 0.0, \"mean\": 5.0}, \"AINNBDAEYS178\": {\"count\": 2, \"std\": 0.0, \"min\": 4, \"max\": 4, \"sum\": 8, \"var\": 0.0, \"mean\": 4.0}, \"AWEOOH8YK3JAQ\": {\"count\": 4, \"std\": 1.479019945774904, \"min\": 1, \"max\": 5, \"sum\": 13, \"var\": 2.1875, \"mean\": 3.25}, \"A3P6DOGULZYXDW\": {\"count\": 1, \"std\": 0.0, \"min\": 2, \"max\": 2, \"sum\": 2, \"var\": 0.0, \"mean\": 2.0}, \"A2D99IYH0QIUDM\": {\"count\": 1, \"std\": 0.0, \"min\": 4, \"max\": 4, \"sum\": 4, \"var\": 0.0, \"mean\": 4.0}, \"A11Z1R78DNP2K6\": {\"count\": 1, \"std\": 0.0, \"min\": 1, \"max\": 1, \"sum\": 1, \"var\": 0.0, \"mean\": 1.0}, \"A2KM3IA1LIQNXJ\": {\"count\": 1, \"std\": 0.0, \"min\": 5, \"max\": 5, \"sum\": 5, \"var\": 0.0, \"mean\": 5.0}, \"A2CXUKYHTPZWJ2\": {\"count\": 1, \"std\": 0.0, \"min\": 1, \"max\": 1, \"sum\": 1, \"var\": 0.0, \"mean\": 1.0}, \"ADSWI3NELVA0J\": {\"count\": 1, \"std\": 0.0, \"min\": 5, \"max\": 5, \"sum\": 5, \"var\": 0.0, \"mean\": 5.0}, \"A7PS18G190G6V\": {\"count\": 1, \"std\": 0.0, \"min\": 4, \"max\": 4, \"sum\": 4, \"var\": 0.0, \"mean\": 4.0}, \"A1FAG0ZQ7792U\": {\"count\": 1, \"std\": 0.0, \"min\": 1, \"max\": 1, \"sum\": 1, \"var\": 0.0, \"mean\": 1.0}, \"AJDJOHG3QDPVY\": {\"count\": 1, \"std\": 0.0, \"min\": 5, \"max\": 5, \"sum\": 5, \"var\": 0.0, \"mean\": 5.0}, \"A2I14DEXRM6Z3I\": {\"count\": 1, \"std\": 0.0, \"min\": 1, \"max\": 1, \"sum\": 1, \"var\": 0.0, \"mean\": 1.0}, \"ADW2J472UOD7A\": {\"count\": 2, \"std\": 0.5, \"min\": 2, \"max\": 3, \"sum\": 5, \"var\": 0.25, \"mean\": 2.5}, \"AFRYR4K4GLJJJ\": {\"count\": 1, \"std\": 0.0, \"min\": 5, \"max\": 5, \"sum\": 5, \"var\": 0.0, \"mean\": 5.0}, \"A2JU0CHXOWX6V4\": {\"count\": 1, \"std\": 0.0, \"min\": 4, \"max\": 4, \"sum\": 4, \"var\": 0.0, \"mean\": 4.0}, \"A390USSN25YNL6\": {\"count\": 1, \"std\": 0.0, \"min\": 5, \"max\": 5, \"sum\": 5, \"var\": 0.0, \"mean\": 5.0}, \"A21H9ZM24JIAZX\": {\"count\": 1, \"std\": 0.0, \"min\": 5, \"max\": 5, \"sum\": 5, \"var\": 0.0, \"mean\": 5.0}, \"A2PJARQGF5LVUE\": {\"count\": 1, \"std\": 0.0, \"min\": 3, \"max\": 3, \"sum\": 3, \"var\": 0.0, \"mean\": 3.0}, \"A3TG4CNYN4WQEX\": {\"count\": 1, \"std\": 0.0, \"min\": 4, \"max\": 4, \"sum\": 4, \"var\": 0.0, \"mean\": 4.0}, \"A3NLCB9PFSUMCR\": {\"count\": 1, \"std\": 0.0, \"min\": 3, \"max\": 3, \"sum\": 3, \"var\": 0.0, \"mean\": 3.0}, \"A1CYFARGCEBCF1\": {\"count\": 1, \"std\": 0.0, \"min\": 4, \"max\": 4, \"sum\": 4, \"var\": 0.0, \"mean\": 4.0}, \"AE4T69C6OZ0TD\": {\"count\": 1, \"std\": 0.0, \"min\": 3, \"max\": 3, \"sum\": 3, \"var\": 0.0, \"mean\": 3.0}, \"A39HGD3J4BURZM\": {\"count\": 1, \"std\": 0.0, \"min\": 4, \"max\": 4, \"sum\": 4, \"var\": 0.0, \"mean\": 4.0}, \"AKK40KB6BYJA0\": {\"count\": 1, \"std\": 0.0, \"min\": 2, \"max\": 2, \"sum\": 2, \"var\": 0.0, \"mean\": 2.0}, \"A35JMT6FFEMRWV\": {\"count\": 2, \"std\": 1.0, \"min\": 2, \"max\": 4, \"sum\": 6, \"var\": 1.0, \"mean\": 3.0}, \"A2IMMHU3JJJCOL\": {\"count\": 1, \"std\": 0.0, \"min\": 4, \"max\": 4, \"sum\": 4, \"var\": 0.0, \"mean\": 4.0}, \"A2WV4CMKC45GAE\": {\"count\": 1, \"std\": 0.0, \"min\": 4, \"max\": 4, \"sum\": 4, \"var\": 0.0, \"mean\": 4.0}, \"A8ILAK1SDALTD\": {\"count\": 1, \"std\": 0.0, \"min\": 3, \"max\": 3, \"sum\": 3, \"var\": 0.0, \"mean\": 3.0}, \"AUASI2S97S1C9\": {\"count\": 1, \"std\": 0.0, \"min\": 4, \"max\": 4, \"sum\": 4, \"var\": 0.0, \"mean\": 4.0}, \"A1Y1EXPDGANB0Q\": {\"count\": 1, \"std\": 0.0, \"min\": 3, \"max\": 3, \"sum\": 3, \"var\": 0.0, \"mean\": 3.0}, \"A3AMCBR6IKX7UA\": {\"count\": 1, \"std\": 0.0, \"min\": 3, \"max\": 3, \"sum\": 3, \"var\": 0.0, \"mean\": 3.0}, \"A1BZUA7IAYMNNS\": {\"count\": 1, \"std\": 0.0, \"min\": 2, \"max\": 2, \"sum\": 2, \"var\": 0.0, \"mean\": 2.0}, \"A3D5EQ5OTSW1QF\": {\"count\": 1, \"std\": 0.0, \"min\": 5, \"max\": 5, \"sum\": 5, \"var\": 0.0, \"mean\": 5.0}, \"A1DUAIDQL6RLMM\": {\"count\": 1, \"std\": 0.0, \"min\": 4, \"max\": 4, \"sum\": 4, \"var\": 0.0, \"mean\": 4.0}, \"A2EAYJIWU49FMJ\": {\"count\": 1, \"std\": 0.0, \"min\": 5, \"max\": 5, \"sum\": 5, \"var\": 0.0, \"mean\": 5.0}, \"AXQRIKSUAUUUN\": {\"count\": 1, \"std\": 0.0, \"min\": 4, \"max\": 4, \"sum\": 4, \"var\": 0.0, \"mean\": 4.0}, \"A30ZJ5NBY4VV6K\": {\"count\": 2, \"std\": 0.5, \"min\": 2, \"max\": 3, \"sum\": 5, \"var\": 0.25, \"mean\": 2.5}, \"AREQ03DHVLN18\": {\"count\": 1, \"std\": 0.0, \"min\": 2, \"max\": 2, \"sum\": 2, \"var\": 0.0, \"mean\": 2.0}, \"A213REGZ3M186F\": {\"count\": 1, \"std\": 0.0, \"min\": 3, \"max\": 3, \"sum\": 3, \"var\": 0.0, \"mean\": 3.0}, \"A26T986V0MI0LA\": {\"count\": 1, \"std\": 0.0, \"min\": 1, \"max\": 1, \"sum\": 1, \"var\": 0.0, \"mean\": 1.0}, \"ADNZNSKN6TXU0\": {\"count\": 1, \"std\": 0.0, \"min\": 4, \"max\": 4, \"sum\": 4, \"var\": 0.0, \"mean\": 4.0}, \"A3F6QSHXVBZUJ\": {\"count\": 1, \"std\": 0.0, \"min\": 3, \"max\": 3, \"sum\": 3, \"var\": 0.0, \"mean\": 3.0}, \"A3TKQ7D5ZF4QMG\": {\"count\": 1, \"std\": 0.0, \"min\": 2, \"max\": 2, \"sum\": 2, \"var\": 0.0, \"mean\": 2.0}, \"A33KQ9J98CAPA6\": {\"count\": 1, \"std\": 0.0, \"min\": 1, \"max\": 1, \"sum\": 1, \"var\": 0.0, \"mean\": 1.0}, \"A3E7F7YJPBKMWT\": {\"count\": 1, \"std\": 0.0, \"min\": 4, \"max\": 4, \"sum\": 4, \"var\": 0.0, \"mean\": 4.0}, \"A1C63G45N4BOUX\": {\"count\": 1, \"std\": 0.0, \"min\": 4, \"max\": 4, \"sum\": 4, \"var\": 0.0, \"mean\": 4.0}, \"A3QRDNCFR8GARF\": {\"count\": 1, \"std\": 0.0, \"min\": 4, \"max\": 4, \"sum\": 4, \"var\": 0.0, \"mean\": 4.0}, \"A2HHG4AZ0V6VRJ\": {\"count\": 1, \"std\": 0.0, \"min\": 3, \"max\": 3, \"sum\": 3, \"var\": 0.0, \"mean\": 3.0}, \"A1SNREO6JRM89U\": {\"count\": 1, \"std\": 0.0, \"min\": 2, \"max\": 2, \"sum\": 2, \"var\": 0.0, \"mean\": 2.0}, \"ALQZC8QFAOYWD\": {\"count\": 1, \"std\": 0.0, \"min\": 4, \"max\": 4, \"sum\": 4, \"var\": 0.0, \"mean\": 4.0}, \"A31DGR0RRBYRDA\": {\"count\": 1, \"std\": 0.0, \"min\": 4, \"max\": 4, \"sum\": 4, \"var\": 0.0, \"mean\": 4.0}, \"A19DGWJ1NUDCEG\": {\"count\": 1, \"std\": 0.0, \"min\": 3, \"max\": 3, \"sum\": 3, \"var\": 0.0, \"mean\": 3.0}, \"A4REEIR5TVY9S\": {\"count\": 1, \"std\": 0.0, \"min\": 5, \"max\": 5, \"sum\": 5, \"var\": 0.0, \"mean\": 5.0}, \"AX1FNW6RVGRD5\": {\"count\": 1, \"std\": 0.0, \"min\": 4, \"max\": 4, \"sum\": 4, \"var\": 0.0, \"mean\": 4.0}, \"A3JRR4122TE16H\": {\"count\": 1, \"std\": 0.0, \"min\": 3, \"max\": 3, \"sum\": 3, \"var\": 0.0, \"mean\": 3.0}, \"A2UJAMJH1DKV8F\": {\"count\": 2, \"std\": 0.0, \"min\": 3, \"max\": 3, \"sum\": 6, \"var\": 0.0, \"mean\": 3.0}, \"AXBE2Q99UDTKD\": {\"count\": 2, \"std\": 0.0, \"min\": 5, \"max\": 5, \"sum\": 10, \"var\": 0.0, \"mean\": 5.0}, \"A34JSRQ3Y9WKYV\": {\"count\": 1, \"std\": 0.0, \"min\": 3, \"max\": 3, \"sum\": 3, \"var\": 0.0, \"mean\": 3.0}, \"AK0ETQW2SZLZH\": {\"count\": 1, \"std\": 0.0, \"min\": 3, \"max\": 3, \"sum\": 3, \"var\": 0.0, \"mean\": 3.0}, \"A2L1VT8OCZQOE1\": {\"count\": 1, \"std\": 0.0, \"min\": 4, \"max\": 4, \"sum\": 4, \"var\": 0.0, \"mean\": 4.0}, \"A1BE4HNIFB38HB\": {\"count\": 1, \"std\": 0.0, \"min\": 2, \"max\": 2, \"sum\": 2, \"var\": 0.0, \"mean\": 2.0}, \"A27VVPKDDE03HD\": {\"count\": 1, \"std\": 0.0, \"min\": 1, \"max\": 1, \"sum\": 1, \"var\": 0.0, \"mean\": 1.0}, \"A38YSO3JBI23FL\": {\"count\": 1, \"std\": 0.0, \"min\": 1, \"max\": 1, \"sum\": 1, \"var\": 0.0, \"mean\": 1.0}, \"AVEDFO1RKDVF7\": {\"count\": 1, \"std\": 0.0, \"min\": 5, \"max\": 5, \"sum\": 5, \"var\": 0.0, \"mean\": 5.0}, \"A365WNNTOUCRJ9\": {\"count\": 1, \"std\": 0.0, \"min\": 5, \"max\": 5, \"sum\": 5, \"var\": 0.0, \"mean\": 5.0}, \"A36OCG4CM2V093\": {\"count\": 1, \"std\": 0.0, \"min\": 2, \"max\": 2, \"sum\": 2, \"var\": 0.0, \"mean\": 2.0}, \"A2F5QXIQG3CMR7\": {\"count\": 1, \"std\": 0.0, \"min\": 5, \"max\": 5, \"sum\": 5, \"var\": 0.0, \"mean\": 5.0}, \"A3DLCBON1F49M7\": {\"count\": 1, \"std\": 0.0, \"min\": 2, \"max\": 2, \"sum\": 2, \"var\": 0.0, \"mean\": 2.0}, \"A1V2240505CIC3\": {\"count\": 2, \"std\": 0.5, \"min\": 4, \"max\": 5, \"sum\": 9, \"var\": 0.25, \"mean\": 4.5}, \"A1FOP60TPBX8NQ\": {\"count\": 1, \"std\": 0.0, \"min\": 1, \"max\": 1, \"sum\": 1, \"var\": 0.0, \"mean\": 1.0}, \"AZHME19MYW092\": {\"count\": 4, \"std\": 1.224744871391589, \"min\": 1, \"max\": 4, \"sum\": 12, \"var\": 1.5, \"mean\": 3.0}, \"A1YZBIBRJQWI3V\": {\"count\": 1, \"std\": 0.0, \"min\": 5, \"max\": 5, \"sum\": 5, \"var\": 0.0, \"mean\": 5.0}, \"A258TJCMJYODFC\": {\"count\": 1, \"std\": 0.0, \"min\": 2, \"max\": 2, \"sum\": 2, \"var\": 0.0, \"mean\": 2.0}, \"AERK0P1668DC\": {\"count\": 1, \"std\": 0.0, \"min\": 4, \"max\": 4, \"sum\": 4, \"var\": 0.0, \"mean\": 4.0}, \"AR9BLVXG1ZVRA\": {\"count\": 1, \"std\": 0.0, \"min\": 4, \"max\": 4, \"sum\": 4, \"var\": 0.0, \"mean\": 4.0}, \"A1KC1X38LDJS5G\": {\"count\": 1, \"std\": 0.0, \"min\": 4, \"max\": 4, \"sum\": 4, \"var\": 0.0, \"mean\": 4.0}, \"A2ZJ2KR4ADH0E\": {\"count\": 1, \"std\": 0.0, \"min\": 3, \"max\": 3, \"sum\": 3, \"var\": 0.0, \"mean\": 3.0}, \"A36313Z5X8RLWG\": {\"count\": 1, \"std\": 0.0, \"min\": 5, \"max\": 5, \"sum\": 5, \"var\": 0.0, \"mean\": 5.0}, \"A1POT7XDXTKQ5B\": {\"count\": 1, \"std\": 0.0, \"min\": 1, \"max\": 1, \"sum\": 1, \"var\": 0.0, \"mean\": 1.0}, \"A2D9WN5OD8Q2P3\": {\"count\": 1, \"std\": 0.0, \"min\": 2, \"max\": 2, \"sum\": 2, \"var\": 0.0, \"mean\": 2.0}, \"A1EXHGJFU29ZKR\": {\"count\": 1, \"std\": 0.0, \"min\": 3, \"max\": 3, \"sum\": 3, \"var\": 0.0, \"mean\": 3.0}, \"A10SUX5Q295S1C\": {\"count\": 1, \"std\": 0.0, \"min\": 5, \"max\": 5, \"sum\": 5, \"var\": 0.0, \"mean\": 5.0}, \"AYQQOW0VR0YF5\": {\"count\": 1, \"std\": 0.0, \"min\": 1, \"max\": 1, \"sum\": 1, \"var\": 0.0, \"mean\": 1.0}, \"A3FQ7UCNWSBMPU\": {\"count\": 1, \"std\": 0.0, \"min\": 4, \"max\": 4, \"sum\": 4, \"var\": 0.0, \"mean\": 4.0}, \"A2GRJX9F69AK4G\": {\"count\": 1, \"std\": 0.0, \"min\": 4, \"max\": 4, \"sum\": 4, \"var\": 0.0, \"mean\": 4.0}, \"AW1I9NG8Q223M\": {\"count\": 1, \"std\": 0.0, \"min\": 3, \"max\": 3, \"sum\": 3, \"var\": 0.0, \"mean\": 3.0}, \"A1VLE2SH9J8WYS\": {\"count\": 1, \"std\": 0.0, \"min\": 1, \"max\": 1, \"sum\": 1, \"var\": 0.0, \"mean\": 1.0}, \"A2E4R26TVIBVV9\": {\"count\": 1, \"std\": 0.0, \"min\": 3, \"max\": 3, \"sum\": 3, \"var\": 0.0, \"mean\": 3.0}, \"A317ZAQNVOUOL2\": {\"count\": 1, \"std\": 0.0, \"min\": 5, \"max\": 5, \"sum\": 5, \"var\": 0.0, \"mean\": 5.0}, \"A315QJ0ZUUAVSC\": {\"count\": 1, \"std\": 0.0, \"min\": 2, \"max\": 2, \"sum\": 2, \"var\": 0.0, \"mean\": 2.0}, \"A1QLT7HMJBJ4EE\": {\"count\": 2, \"std\": 0.5, \"min\": 2, \"max\": 3, \"sum\": 5, \"var\": 0.25, \"mean\": 2.5}, \"A1U4ZPH9G3GD6G\": {\"count\": 1, \"std\": 0.0, \"min\": 1, \"max\": 1, \"sum\": 1, \"var\": 0.0, \"mean\": 1.0}, \"A1CGVTPC2ME5MQ\": {\"count\": 1, \"std\": 0.0, \"min\": 5, \"max\": 5, \"sum\": 5, \"var\": 0.0, \"mean\": 5.0}, \"A3L0783NWB0ZOM\": {\"count\": 1, \"std\": 0.0, \"min\": 4, \"max\": 4, \"sum\": 4, \"var\": 0.0, \"mean\": 4.0}, \"A1XD3S0WDF0NFS\": {\"count\": 1, \"std\": 0.0, \"min\": 1, \"max\": 1, \"sum\": 1, \"var\": 0.0, \"mean\": 1.0}, \"A2ISWXDXHU608X\": {\"count\": 1, \"std\": 0.0, \"min\": 4, \"max\": 4, \"sum\": 4, \"var\": 0.0, \"mean\": 4.0}, \"A2U4AV5W37YADJ\": {\"count\": 1, \"std\": 0.0, \"min\": 4, \"max\": 4, \"sum\": 4, \"var\": 0.0, \"mean\": 4.0}, \"A3HNKLEZWDSQRU\": {\"count\": 1, \"std\": 0.0, \"min\": 5, \"max\": 5, \"sum\": 5, \"var\": 0.0, \"mean\": 5.0}, \"A1EOMH79B2ES81\": {\"count\": 2, \"std\": 1.5, \"min\": 2, \"max\": 5, \"sum\": 7, \"var\": 2.25, \"mean\": 3.5}, \"A1NJH2VUXKZMS5\": {\"count\": 1, \"std\": 0.0, \"min\": 3, \"max\": 3, \"sum\": 3, \"var\": 0.0, \"mean\": 3.0}, \"AHUV8IBM1YWJY\": {\"count\": 1, \"std\": 0.0, \"min\": 4, \"max\": 4, \"sum\": 4, \"var\": 0.0, \"mean\": 4.0}, \"A3YRIEUDJV27C\": {\"count\": 1, \"std\": 0.0, \"min\": 4, \"max\": 4, \"sum\": 4, \"var\": 0.0, \"mean\": 4.0}, \"A3RBVDH87QF1A\": {\"count\": 1, \"std\": 0.0, \"min\": 2, \"max\": 2, \"sum\": 2, \"var\": 0.0, \"mean\": 2.0}, \"A2BPKQ1LB1WJZM\": {\"count\": 1, \"std\": 0.0, \"min\": 3, \"max\": 3, \"sum\": 3, \"var\": 0.0, \"mean\": 3.0}, \"A1FYRT4BZRG07J\": {\"count\": 1, \"std\": 0.0, \"min\": 5, \"max\": 5, \"sum\": 5, \"var\": 0.0, \"mean\": 5.0}, \"AF8WB0QK6M11H\": {\"count\": 1, \"std\": 0.0, \"min\": 4, \"max\": 4, \"sum\": 4, \"var\": 0.0, \"mean\": 4.0}, \"A3A8VCAHCZ70I7\": {\"count\": 1, \"std\": 0.0, \"min\": 2, \"max\": 2, \"sum\": 2, \"var\": 0.0, \"mean\": 2.0}, \"A38DCVO9SZHW68\": {\"count\": 1, \"std\": 0.0, \"min\": 5, \"max\": 5, \"sum\": 5, \"var\": 0.0, \"mean\": 5.0}, \"ABEZX02MPOVX3\": {\"count\": 1, \"std\": 0.0, \"min\": 3, \"max\": 3, \"sum\": 3, \"var\": 0.0, \"mean\": 3.0}, \"AMHDCAEEP7G7P\": {\"count\": 1, \"std\": 0.0, \"min\": 1, \"max\": 1, \"sum\": 1, \"var\": 0.0, \"mean\": 1.0}, \"A12WMC82PS9MQH\": {\"count\": 1, \"std\": 0.0, \"min\": 5, \"max\": 5, \"sum\": 5, \"var\": 0.0, \"mean\": 5.0}, \"A1RSHYQXTHTTRI\": {\"count\": 1, \"std\": 0.0, \"min\": 3, \"max\": 3, \"sum\": 3, \"var\": 0.0, \"mean\": 3.0}, \"A1BQ0HTG3C53IH\": {\"count\": 1, \"std\": 0.0, \"min\": 4, \"max\": 4, \"sum\": 4, \"var\": 0.0, \"mean\": 4.0}, \"A2X9OYVSS7D5PP\": {\"count\": 1, \"std\": 0.0, \"min\": 3, \"max\": 3, \"sum\": 3, \"var\": 0.0, \"mean\": 3.0}, \"A1S8RRGK7304QG\": {\"count\": 1, \"std\": 0.0, \"min\": 5, \"max\": 5, \"sum\": 5, \"var\": 0.0, \"mean\": 5.0}, \"A1B5P27OVRVVHA\": {\"count\": 2, \"std\": 1.0, \"min\": 2, \"max\": 4, \"sum\": 6, \"var\": 1.0, \"mean\": 3.0}, \"A1O6OFQ7IGDEF7\": {\"count\": 1, \"std\": 0.0, \"min\": 2, \"max\": 2, \"sum\": 2, \"var\": 0.0, \"mean\": 2.0}, \"A2M6Z24J0IBI39\": {\"count\": 1, \"std\": 0.0, \"min\": 1, \"max\": 1, \"sum\": 1, \"var\": 0.0, \"mean\": 1.0}, \"ATGKPNH5BQWPB\": {\"count\": 1, \"std\": 0.0, \"min\": 1, \"max\": 1, \"sum\": 1, \"var\": 0.0, \"mean\": 1.0}, \"A2KTVZKIAD0AK7\": {\"count\": 1, \"std\": 0.0, \"min\": 5, \"max\": 5, \"sum\": 5, \"var\": 0.0, \"mean\": 5.0}, \"A1MBJQ1NBDB5KL\": {\"count\": 1, \"std\": 0.0, \"min\": 5, \"max\": 5, \"sum\": 5, \"var\": 0.0, \"mean\": 5.0}, \"AASXFM4KSS1DP\": {\"count\": 1, \"std\": 0.0, \"min\": 2, \"max\": 2, \"sum\": 2, \"var\": 0.0, \"mean\": 2.0}, \"AN3A7D09VXFAK\": {\"count\": 1, \"std\": 0.0, \"min\": 3, \"max\": 3, \"sum\": 3, \"var\": 0.0, \"mean\": 3.0}, \"A3MWS9YTWU4KQH\": {\"count\": 1, \"std\": 0.0, \"min\": 3, \"max\": 3, \"sum\": 3, \"var\": 0.0, \"mean\": 3.0}, \"A1HIFFPNRKYQ5\": {\"count\": 2, \"std\": 0.0, \"min\": 2, \"max\": 2, \"sum\": 4, \"var\": 0.0, \"mean\": 2.0}, \"AQOTGCAWXA6Z5\": {\"count\": 1, \"std\": 0.0, \"min\": 4, \"max\": 4, \"sum\": 4, \"var\": 0.0, \"mean\": 4.0}, \"A2S4WKOT3ADYWH\": {\"count\": 5, \"std\": 1.6, \"min\": 1, \"max\": 5, \"sum\": 16, \"var\": 2.56, \"mean\": 3.2}, \"A1HUCKBEVQSBPH\": {\"count\": 1, \"std\": 0.0, \"min\": 3, \"max\": 3, \"sum\": 3, \"var\": 0.0, \"mean\": 3.0}, \"A1WZHQHGSU7YGI\": {\"count\": 1, \"std\": 0.0, \"min\": 3, \"max\": 3, \"sum\": 3, \"var\": 0.0, \"mean\": 3.0}, \"ABLC7GC2QHNU2\": {\"count\": 1, \"std\": 0.0, \"min\": 3, \"max\": 3, \"sum\": 3, \"var\": 0.0, \"mean\": 3.0}, \"A1A2CZQHXMISF1\": {\"count\": 1, \"std\": 0.0, \"min\": 3, \"max\": 3, \"sum\": 3, \"var\": 0.0, \"mean\": 3.0}, \"A2SW6MTMDWE8WB\": {\"count\": 1, \"std\": 0.0, \"min\": 1, \"max\": 1, \"sum\": 1, \"var\": 0.0, \"mean\": 1.0}, \"A1QXAHCOAVS3GN\": {\"count\": 1, \"std\": 0.0, \"min\": 5, \"max\": 5, \"sum\": 5, \"var\": 0.0, \"mean\": 5.0}, \"A8U1E960OLC2\": {\"count\": 1, \"std\": 0.0, \"min\": 2, \"max\": 2, \"sum\": 2, \"var\": 0.0, \"mean\": 2.0}, \"A3BA2XZKWM4GFK\": {\"count\": 1, \"std\": 0.0, \"min\": 4, \"max\": 4, \"sum\": 4, \"var\": 0.0, \"mean\": 4.0}, \"A1D8958P7CEILS\": {\"count\": 1, \"std\": 0.0, \"min\": 2, \"max\": 2, \"sum\": 2, \"var\": 0.0, \"mean\": 2.0}, \"A3Z75D1DD2VGW\": {\"count\": 1, \"std\": 0.0, \"min\": 4, \"max\": 4, \"sum\": 4, \"var\": 0.0, \"mean\": 4.0}, \"A2Y1ZCAD7OSIUQ\": {\"count\": 1, \"std\": 0.0, \"min\": 1, \"max\": 1, \"sum\": 1, \"var\": 0.0, \"mean\": 1.0}, \"A1BHNQABQSAAPZ\": {\"count\": 1, \"std\": 0.0, \"min\": 5, \"max\": 5, \"sum\": 5, \"var\": 0.0, \"mean\": 5.0}, \"A1JF2Z8UXBMP30\": {\"count\": 2, \"std\": 0.5, \"min\": 2, \"max\": 3, \"sum\": 5, \"var\": 0.25, \"mean\": 2.5}, \"A3PSS4LJ7O7ZEK\": {\"count\": 1, \"std\": 0.0, \"min\": 3, \"max\": 3, \"sum\": 3, \"var\": 0.0, \"mean\": 3.0}, \"ASKBDO7KYBO8\": {\"count\": 1, \"std\": 0.0, \"min\": 1, \"max\": 1, \"sum\": 1, \"var\": 0.0, \"mean\": 1.0}, \"A1PY8MBD8PFLYL\": {\"count\": 1, \"std\": 0.0, \"min\": 3, \"max\": 3, \"sum\": 3, \"var\": 0.0, \"mean\": 3.0}, \"A2UZGOIQFS1D70\": {\"count\": 1, \"std\": 0.0, \"min\": 1, \"max\": 1, \"sum\": 1, \"var\": 0.0, \"mean\": 1.0}, \"AW87LFUYV24R9\": {\"count\": 2, \"std\": 0.5, \"min\": 3, \"max\": 4, \"sum\": 7, \"var\": 0.25, \"mean\": 3.5}, \"A3DWJHXFUTI64G\": {\"count\": 1, \"std\": 0.0, \"min\": 3, \"max\": 3, \"sum\": 3, \"var\": 0.0, \"mean\": 3.0}, \"A15S3QD1OUVSAQ\": {\"count\": 1, \"std\": 0.0, \"min\": 4, \"max\": 4, \"sum\": 4, \"var\": 0.0, \"mean\": 4.0}, \"A3TQOWHX35A3QU\": {\"count\": 1, \"std\": 0.0, \"min\": 4, \"max\": 4, \"sum\": 4, \"var\": 0.0, \"mean\": 4.0}, \"A2QW8KG6EY07FL\": {\"count\": 1, \"std\": 0.0, \"min\": 5, \"max\": 5, \"sum\": 5, \"var\": 0.0, \"mean\": 5.0}, \"A1A10H85ANUFGS\": {\"count\": 1, \"std\": 0.0, \"min\": 1, \"max\": 1, \"sum\": 1, \"var\": 0.0, \"mean\": 1.0}, \"A10935EP8WBCGF\": {\"count\": 1, \"std\": 0.0, \"min\": 1, \"max\": 1, \"sum\": 1, \"var\": 0.0, \"mean\": 1.0}, \"A377N6MYSQC8Y9\": {\"count\": 1, \"std\": 0.0, \"min\": 1, \"max\": 1, \"sum\": 1, \"var\": 0.0, \"mean\": 1.0}, \"A3B1QBL2TV8PPV\": {\"count\": 1, \"std\": 0.0, \"min\": 1, \"max\": 1, \"sum\": 1, \"var\": 0.0, \"mean\": 1.0}, \"A2EAGGY4VYF50C\": {\"count\": 1, \"std\": 0.0, \"min\": 2, \"max\": 2, \"sum\": 2, \"var\": 0.0, \"mean\": 2.0}, \"A2JUI9855T8JK3\": {\"count\": 1, \"std\": 0.0, \"min\": 3, \"max\": 3, \"sum\": 3, \"var\": 0.0, \"mean\": 3.0}, \"A34TC14MCJXDK7\": {\"count\": 1, \"std\": 0.0, \"min\": 1, \"max\": 1, \"sum\": 1, \"var\": 0.0, \"mean\": 1.0}, \"A2BCSU96UT95ZC\": {\"count\": 1, \"std\": 0.0, \"min\": 1, \"max\": 1, \"sum\": 1, \"var\": 0.0, \"mean\": 1.0}, \"AOGXB8DH27EVP\": {\"count\": 1, \"std\": 0.0, \"min\": 5, \"max\": 5, \"sum\": 5, \"var\": 0.0, \"mean\": 5.0}, \"A3J2WXXW0Q7HBT\": {\"count\": 1, \"std\": 0.0, \"min\": 5, \"max\": 5, \"sum\": 5, \"var\": 0.0, \"mean\": 5.0}, \"A14HW5PS2Q8QF0\": {\"count\": 1, \"std\": 0.0, \"min\": 4, \"max\": 4, \"sum\": 4, \"var\": 0.0, \"mean\": 4.0}, \"A3J7BENCDNRL0H\": {\"count\": 1, \"std\": 0.0, \"min\": 3, \"max\": 3, \"sum\": 3, \"var\": 0.0, \"mean\": 3.0}, \"A3SX0D66F17UZ6\": {\"count\": 3, \"std\": 0.816496580927726, \"min\": 1, \"max\": 3, \"sum\": 6, \"var\": 0.6666666666666666, \"mean\": 2.0}, \"A1CKAQBAGH7WNC\": {\"count\": 1, \"std\": 0.0, \"min\": 1, \"max\": 1, \"sum\": 1, \"var\": 0.0, \"mean\": 1.0}, \"A2NCKJMFGS7RWG\": {\"count\": 1, \"std\": 0.0, \"min\": 1, \"max\": 1, \"sum\": 1, \"var\": 0.0, \"mean\": 1.0}, \"AKCLHMD9GIAWV\": {\"count\": 1, \"std\": 0.0, \"min\": 4, \"max\": 4, \"sum\": 4, \"var\": 0.0, \"mean\": 4.0}, \"A2B6SANJ4YARDP\": {\"count\": 1, \"std\": 0.0, \"min\": 1, \"max\": 1, \"sum\": 1, \"var\": 0.0, \"mean\": 1.0}, \"A3D19UYQ01K9A9\": {\"count\": 1, \"std\": 0.0, \"min\": 5, \"max\": 5, \"sum\": 5, \"var\": 0.0, \"mean\": 5.0}, \"A3P6453TUQUFOT\": {\"count\": 1, \"std\": 0.0, \"min\": 3, \"max\": 3, \"sum\": 3, \"var\": 0.0, \"mean\": 3.0}, \"A3KK2WZ3AGUCBF\": {\"count\": 1, \"std\": 0.0, \"min\": 2, \"max\": 2, \"sum\": 2, \"var\": 0.0, \"mean\": 2.0}, \"A31J61UKR1TB8T\": {\"count\": 3, \"std\": 0.9428090415820634, \"min\": 3, \"max\": 5, \"sum\": 11, \"var\": 0.8888888888888888, \"mean\": 3.6666666666666665}, \"A17WMXIIARISP5\": {\"count\": 1, \"std\": 0.0, \"min\": 3, \"max\": 3, \"sum\": 3, \"var\": 0.0, \"mean\": 3.0}, \"A1N7T0OT5JDQPU\": {\"count\": 1, \"std\": 0.0, \"min\": 2, \"max\": 2, \"sum\": 2, \"var\": 0.0, \"mean\": 2.0}, \"A1591T1TQYSHI1\": {\"count\": 1, \"std\": 0.0, \"min\": 2, \"max\": 2, \"sum\": 2, \"var\": 0.0, \"mean\": 2.0}, \"A2W09CDMMESHZ8\": {\"count\": 1, \"std\": 0.0, \"min\": 1, \"max\": 1, \"sum\": 1, \"var\": 0.0, \"mean\": 1.0}, \"A3HZI2Q8UHI5BD\": {\"count\": 1, \"std\": 0.0, \"min\": 5, \"max\": 5, \"sum\": 5, \"var\": 0.0, \"mean\": 5.0}, \"A3GF5LGQZCKYET\": {\"count\": 1, \"std\": 0.0, \"min\": 3, \"max\": 3, \"sum\": 3, \"var\": 0.0, \"mean\": 3.0}, \"A1X87UXRC6M5BD\": {\"count\": 2, \"std\": 1.5, \"min\": 2, \"max\": 5, \"sum\": 7, \"var\": 2.25, \"mean\": 3.5}, \"ABZZI59Z0OH35\": {\"count\": 1, \"std\": 0.0, \"min\": 3, \"max\": 3, \"sum\": 3, \"var\": 0.0, \"mean\": 3.0}, \"A3BQC255V9F8MJ\": {\"count\": 1, \"std\": 0.0, \"min\": 3, \"max\": 3, \"sum\": 3, \"var\": 0.0, \"mean\": 3.0}, \"A3CFLMZUR7IA44\": {\"count\": 2, \"std\": 0.5, \"min\": 2, \"max\": 3, \"sum\": 5, \"var\": 0.25, \"mean\": 2.5}, \"A2KN9LPEBN21J8\": {\"count\": 1, \"std\": 0.0, \"min\": 4, \"max\": 4, \"sum\": 4, \"var\": 0.0, \"mean\": 4.0}, \"A2YG85DMQ3T6WR\": {\"count\": 1, \"std\": 0.0, \"min\": 3, \"max\": 3, \"sum\": 3, \"var\": 0.0, \"mean\": 3.0}, \"A1UAK4L4XYFDXP\": {\"count\": 1, \"std\": 0.0, \"min\": 5, \"max\": 5, \"sum\": 5, \"var\": 0.0, \"mean\": 5.0}, \"A2VD34GEBP85K4\": {\"count\": 1, \"std\": 0.0, \"min\": 1, \"max\": 1, \"sum\": 1, \"var\": 0.0, \"mean\": 1.0}, \"A1LWRTSAFZRS3H\": {\"count\": 1, \"std\": 0.0, \"min\": 5, \"max\": 5, \"sum\": 5, \"var\": 0.0, \"mean\": 5.0}, \"A1RP2M0G9FB2Y5\": {\"count\": 1, \"std\": 0.0, \"min\": 4, \"max\": 4, \"sum\": 4, \"var\": 0.0, \"mean\": 4.0}, \"ASUEXBQDQM5RT\": {\"count\": 1, \"std\": 0.0, \"min\": 1, \"max\": 1, \"sum\": 1, \"var\": 0.0, \"mean\": 1.0}, \"A3EX3JMO31LL1U\": {\"count\": 1, \"std\": 0.0, \"min\": 3, \"max\": 3, \"sum\": 3, \"var\": 0.0, \"mean\": 3.0}, \"A11676CFRDYBTI\": {\"count\": 1, \"std\": 0.0, \"min\": 1, \"max\": 1, \"sum\": 1, \"var\": 0.0, \"mean\": 1.0}, \"AQF9H8P6DF0AO\": {\"count\": 1, \"std\": 0.0, \"min\": 2, \"max\": 2, \"sum\": 2, \"var\": 0.0, \"mean\": 2.0}, \"ARYVJEX9VZSN\": {\"count\": 1, \"std\": 0.0, \"min\": 4, \"max\": 4, \"sum\": 4, \"var\": 0.0, \"mean\": 4.0}, \"A2TCYWHCB7OHGV\": {\"count\": 1, \"std\": 0.0, \"min\": 5, \"max\": 5, \"sum\": 5, \"var\": 0.0, \"mean\": 5.0}, \"A369W5O3Z2HW2X\": {\"count\": 1, \"std\": 0.0, \"min\": 3, \"max\": 3, \"sum\": 3, \"var\": 0.0, \"mean\": 3.0}, \"A2JTXBLR2Y3VS7\": {\"count\": 1, \"std\": 0.0, \"min\": 4, \"max\": 4, \"sum\": 4, \"var\": 0.0, \"mean\": 4.0}, \"A1OEGYTU413R9P\": {\"count\": 1, \"std\": 0.0, \"min\": 4, \"max\": 4, \"sum\": 4, \"var\": 0.0, \"mean\": 4.0}, \"A3KAOO7JEJNGDY\": {\"count\": 1, \"std\": 0.0, \"min\": 3, \"max\": 3, \"sum\": 3, \"var\": 0.0, \"mean\": 3.0}, \"AXTK1EA3DR8XR\": {\"count\": 1, \"std\": 0.0, \"min\": 5, \"max\": 5, \"sum\": 5, \"var\": 0.0, \"mean\": 5.0}, \"A3H97DK2TRMIG8\": {\"count\": 1, \"std\": 0.0, \"min\": 5, \"max\": 5, \"sum\": 5, \"var\": 0.0, \"mean\": 5.0}, \"A2IC9TW3CKSDLD\": {\"count\": 1, \"std\": 0.0, \"min\": 1, \"max\": 1, \"sum\": 1, \"var\": 0.0, \"mean\": 1.0}, \"A2UAVT33KNMXMH\": {\"count\": 1, \"std\": 0.0, \"min\": 4, \"max\": 4, \"sum\": 4, \"var\": 0.0, \"mean\": 4.0}, \"AUEVYWZF3N4U9\": {\"count\": 1, \"std\": 0.0, \"min\": 3, \"max\": 3, \"sum\": 3, \"var\": 0.0, \"mean\": 3.0}, \"ANF8YI8ZP18TO\": {\"count\": 1, \"std\": 0.0, \"min\": 3, \"max\": 3, \"sum\": 3, \"var\": 0.0, \"mean\": 3.0}, \"A3FCI0JBYVY7VT\": {\"count\": 1, \"std\": 0.0, \"min\": 1, \"max\": 1, \"sum\": 1, \"var\": 0.0, \"mean\": 1.0}, \"A1D8W8OIC4ZOMS\": {\"count\": 1, \"std\": 0.0, \"min\": 1, \"max\": 1, \"sum\": 1, \"var\": 0.0, \"mean\": 1.0}, \"AHIUIM4RFUYYV\": {\"count\": 1, \"std\": 0.0, \"min\": 2, \"max\": 2, \"sum\": 2, \"var\": 0.0, \"mean\": 2.0}, \"A2BJQTE25VYBY2\": {\"count\": 1, \"std\": 0.0, \"min\": 2, \"max\": 2, \"sum\": 2, \"var\": 0.0, \"mean\": 2.0}, \"A22Z6TKWQR3SYL\": {\"count\": 1, \"std\": 0.0, \"min\": 4, \"max\": 4, \"sum\": 4, \"var\": 0.0, \"mean\": 4.0}, \"A2039EXYUAMAD3\": {\"count\": 1, \"std\": 0.0, \"min\": 2, \"max\": 2, \"sum\": 2, \"var\": 0.0, \"mean\": 2.0}, \"A1OQT16RCG4D\": {\"count\": 1, \"std\": 0.0, \"min\": 2, \"max\": 2, \"sum\": 2, \"var\": 0.0, \"mean\": 2.0}, \"A1BRLCT7GBMDX3\": {\"count\": 2, \"std\": 0.0, \"min\": 1, \"max\": 1, \"sum\": 2, \"var\": 0.0, \"mean\": 1.0}, \"APBDZ88BBTN4F\": {\"count\": 1, \"std\": 0.0, \"min\": 3, \"max\": 3, \"sum\": 3, \"var\": 0.0, \"mean\": 3.0}, \"A318S7NNDFVIOC\": {\"count\": 1, \"std\": 0.0, \"min\": 2, \"max\": 2, \"sum\": 2, \"var\": 0.0, \"mean\": 2.0}, \"A1SSR7I59GQSSF\": {\"count\": 1, \"std\": 0.0, \"min\": 4, \"max\": 4, \"sum\": 4, \"var\": 0.0, \"mean\": 4.0}, \"AFKJGSG5SYP4K\": {\"count\": 1, \"std\": 0.0, \"min\": 3, \"max\": 3, \"sum\": 3, \"var\": 0.0, \"mean\": 3.0}, \"A110EZJQDQ0RXG\": {\"count\": 1, \"std\": 0.0, \"min\": 4, \"max\": 4, \"sum\": 4, \"var\": 0.0, \"mean\": 4.0}, \"A2XJLDNZRM4X6F\": {\"count\": 1, \"std\": 0.0, \"min\": 5, \"max\": 5, \"sum\": 5, \"var\": 0.0, \"mean\": 5.0}, \"A2JQUIZZEGHVHK\": {\"count\": 2, \"std\": 0.0, \"min\": 5, \"max\": 5, \"sum\": 10, \"var\": 0.0, \"mean\": 5.0}, \"A3OXHLG6DIBRW8\": {\"count\": 23, \"std\": 0.624030438887275, \"min\": 3, \"max\": 5, \"sum\": 91, \"var\": 0.3894139886578451, \"mean\": 3.9565217391304346}, \"AXGCX8T1GEA2N\": {\"count\": 1, \"std\": 0.0, \"min\": 5, \"max\": 5, \"sum\": 5, \"var\": 0.0, \"mean\": 5.0}, \"A1W1MEAOGX08SC\": {\"count\": 2, \"std\": 0.5, \"min\": 3, \"max\": 4, \"sum\": 7, \"var\": 0.25, \"mean\": 3.5}, \"ANW7A69L8EHHE\": {\"count\": 1, \"std\": 0.0, \"min\": 4, \"max\": 4, \"sum\": 4, \"var\": 0.0, \"mean\": 4.0}, \"AO8DHOVTXQIUT\": {\"count\": 1, \"std\": 0.0, \"min\": 5, \"max\": 5, \"sum\": 5, \"var\": 0.0, \"mean\": 5.0}, \"AGMZBJX12C65W\": {\"count\": 1, \"std\": 0.0, \"min\": 3, \"max\": 3, \"sum\": 3, \"var\": 0.0, \"mean\": 3.0}, \"A1L7SQ3GBDTE23\": {\"count\": 1, \"std\": 0.0, \"min\": 5, \"max\": 5, \"sum\": 5, \"var\": 0.0, \"mean\": 5.0}, \"AG9EPU6M3QRLF\": {\"count\": 1, \"std\": 0.0, \"min\": 5, \"max\": 5, \"sum\": 5, \"var\": 0.0, \"mean\": 5.0}, \"A1HT0G8HJVPKZ4\": {\"count\": 1, \"std\": 0.0, \"min\": 3, \"max\": 3, \"sum\": 3, \"var\": 0.0, \"mean\": 3.0}, \"A2RAKC3A6E44IC\": {\"count\": 2, \"std\": 1.0, \"min\": 3, \"max\": 5, \"sum\": 8, \"var\": 1.0, \"mean\": 4.0}, \"A14VOS9D11ZFNG\": {\"count\": 1, \"std\": 0.0, \"min\": 2, \"max\": 2, \"sum\": 2, \"var\": 0.0, \"mean\": 2.0}, \"A1GVMWV95V1DL7\": {\"count\": 1, \"std\": 0.0, \"min\": 5, \"max\": 5, \"sum\": 5, \"var\": 0.0, \"mean\": 5.0}, \"A175VOFH1UEWFK\": {\"count\": 1, \"std\": 0.0, \"min\": 5, \"max\": 5, \"sum\": 5, \"var\": 0.0, \"mean\": 5.0}, \"A3AITYWC6LJUWF\": {\"count\": 1, \"std\": 0.0, \"min\": 5, \"max\": 5, \"sum\": 5, \"var\": 0.0, \"mean\": 5.0}, \"A2GHEFJIYWSBBO\": {\"count\": 1, \"std\": 0.0, \"min\": 3, \"max\": 3, \"sum\": 3, \"var\": 0.0, \"mean\": 3.0}, \"A3GSOZ82NJ66JB\": {\"count\": 2, \"std\": 1.5, \"min\": 2, \"max\": 5, \"sum\": 7, \"var\": 2.25, \"mean\": 3.5}, \"A1H1V87C09V70Q\": {\"count\": 1, \"std\": 0.0, \"min\": 5, \"max\": 5, \"sum\": 5, \"var\": 0.0, \"mean\": 5.0}, \"A1FZCAU7ZID0KJ\": {\"count\": 1, \"std\": 0.0, \"min\": 2, \"max\": 2, \"sum\": 2, \"var\": 0.0, \"mean\": 2.0}, \"A8JMUGJHWSFSY\": {\"count\": 1, \"std\": 0.0, \"min\": 1, \"max\": 1, \"sum\": 1, \"var\": 0.0, \"mean\": 1.0}, \"A33D2KYR40RLD1\": {\"count\": 1, \"std\": 0.0, \"min\": 3, \"max\": 3, \"sum\": 3, \"var\": 0.0, \"mean\": 3.0}, \"A2PRIC2Z93CBCG\": {\"count\": 3, \"std\": 0.4714045207910317, \"min\": 3, \"max\": 4, \"sum\": 11, \"var\": 0.22222222222222224, \"mean\": 3.6666666666666665}, \"AHQTK0KT8FFQ4\": {\"count\": 1, \"std\": 0.0, \"min\": 1, \"max\": 1, \"sum\": 1, \"var\": 0.0, \"mean\": 1.0}, \"A7NK33QUDXSHL\": {\"count\": 1, \"std\": 0.0, \"min\": 3, \"max\": 3, \"sum\": 3, \"var\": 0.0, \"mean\": 3.0}, \"A2OFPTOA4YX2G9\": {\"count\": 1, \"std\": 0.0, \"min\": 3, \"max\": 3, \"sum\": 3, \"var\": 0.0, \"mean\": 3.0}, \"A1ZK6OY4CZ8M66\": {\"count\": 1, \"std\": 0.0, \"min\": 4, \"max\": 4, \"sum\": 4, \"var\": 0.0, \"mean\": 4.0}, \"A16O5NPYSIDHKJ\": {\"count\": 1, \"std\": 0.0, \"min\": 2, \"max\": 2, \"sum\": 2, \"var\": 0.0, \"mean\": 2.0}, \"AI7IVDIY1A9NM\": {\"count\": 1, \"std\": 0.0, \"min\": 4, \"max\": 4, \"sum\": 4, \"var\": 0.0, \"mean\": 4.0}, \"A0108987Z2DKD6QAJ8XY\": {\"count\": 1, \"std\": 0.0, \"min\": 1, \"max\": 1, \"sum\": 1, \"var\": 0.0, \"mean\": 1.0}, \"AI2COGLB3EDT3\": {\"count\": 1, \"std\": 0.0, \"min\": 4, \"max\": 4, \"sum\": 4, \"var\": 0.0, \"mean\": 4.0}, \"A3080BAKLNVBJY\": {\"count\": 1, \"std\": 0.0, \"min\": 4, \"max\": 4, \"sum\": 4, \"var\": 0.0, \"mean\": 4.0}, \"AJ04N5DYS2020\": {\"count\": 2, \"std\": 0.0, \"min\": 3, \"max\": 3, \"sum\": 6, \"var\": 0.0, \"mean\": 3.0}, \"A2XWN7BY29H82R\": {\"count\": 1, \"std\": 0.0, \"min\": 1, \"max\": 1, \"sum\": 1, \"var\": 0.0, \"mean\": 1.0}, \"A1Y08VH7VJB8FD\": {\"count\": 1, \"std\": 0.0, \"min\": 2, \"max\": 2, \"sum\": 2, \"var\": 0.0, \"mean\": 2.0}, \"AKXWCU8J4D1L4\": {\"count\": 1, \"std\": 0.0, \"min\": 3, \"max\": 3, \"sum\": 3, \"var\": 0.0, \"mean\": 3.0}, \"A34Q9Y2DE6KT4Q\": {\"count\": 2, \"std\": 0.0, \"min\": 4, \"max\": 4, \"sum\": 8, \"var\": 0.0, \"mean\": 4.0}, \"A15NQDQFWRM4NE\": {\"count\": 1, \"std\": 0.0, \"min\": 2, \"max\": 2, \"sum\": 2, \"var\": 0.0, \"mean\": 2.0}, \"A2J5570K8VD2XF\": {\"count\": 1, \"std\": 0.0, \"min\": 2, \"max\": 2, \"sum\": 2, \"var\": 0.0, \"mean\": 2.0}, \"AZIM9ZTGB8Q12\": {\"count\": 2, \"std\": 2.0, \"min\": 1, \"max\": 5, \"sum\": 6, \"var\": 4.0, \"mean\": 3.0}, \"A2X77SKVUJI9J6\": {\"count\": 1, \"std\": 0.0, \"min\": 3, \"max\": 3, \"sum\": 3, \"var\": 0.0, \"mean\": 3.0}, \"A2UMIXP9HA7I9E\": {\"count\": 1, \"std\": 0.0, \"min\": 3, \"max\": 3, \"sum\": 3, \"var\": 0.0, \"mean\": 3.0}, \"A2GD1JE0IM6FED\": {\"count\": 1, \"std\": 0.0, \"min\": 5, \"max\": 5, \"sum\": 5, \"var\": 0.0, \"mean\": 5.0}, \"A24LZEAMLZ3DUY\": {\"count\": 1, \"std\": 0.0, \"min\": 5, \"max\": 5, \"sum\": 5, \"var\": 0.0, \"mean\": 5.0}, \"A3EQZF0GBVVNRM\": {\"count\": 1, \"std\": 0.0, \"min\": 5, \"max\": 5, \"sum\": 5, \"var\": 0.0, \"mean\": 5.0}, \"A1CTAGLV73QYH8\": {\"count\": 1, \"std\": 0.0, \"min\": 5, \"max\": 5, \"sum\": 5, \"var\": 0.0, \"mean\": 5.0}, \"A1HYK4M2TM2VKP\": {\"count\": 1, \"std\": 0.0, \"min\": 5, \"max\": 5, \"sum\": 5, \"var\": 0.0, \"mean\": 5.0}, \"A2Z7VOU3RWV9Z1\": {\"count\": 1, \"std\": 0.0, \"min\": 5, \"max\": 5, \"sum\": 5, \"var\": 0.0, \"mean\": 5.0}, \"A3R28OI6ZC7GOQ\": {\"count\": 1, \"std\": 0.0, \"min\": 4, \"max\": 4, \"sum\": 4, \"var\": 0.0, \"mean\": 4.0}, \"A24PU5FRY11CK2\": {\"count\": 1, \"std\": 0.0, \"min\": 3, \"max\": 3, \"sum\": 3, \"var\": 0.0, \"mean\": 3.0}, \"AIUIS2TRYRODB\": {\"count\": 1, \"std\": 0.0, \"min\": 5, \"max\": 5, \"sum\": 5, \"var\": 0.0, \"mean\": 5.0}, \"A3DYS4CZJRHY0C\": {\"count\": 1, \"std\": 0.0, \"min\": 2, \"max\": 2, \"sum\": 2, \"var\": 0.0, \"mean\": 2.0}, \"A32ZOJPVFKFKCQ\": {\"count\": 1, \"std\": 0.0, \"min\": 4, \"max\": 4, \"sum\": 4, \"var\": 0.0, \"mean\": 4.0}, \"A17Q4ZZHSRCYNU\": {\"count\": 2, \"std\": 0.0, \"min\": 3, \"max\": 3, \"sum\": 6, \"var\": 0.0, \"mean\": 3.0}, \"AJKYE5B9G1VE4\": {\"count\": 1, \"std\": 0.0, \"min\": 4, \"max\": 4, \"sum\": 4, \"var\": 0.0, \"mean\": 4.0}, \"AYSN97UDE1WKY\": {\"count\": 1, \"std\": 0.0, \"min\": 2, \"max\": 2, \"sum\": 2, \"var\": 0.0, \"mean\": 2.0}, \"A6ME5B3NRT981\": {\"count\": 1, \"std\": 0.0, \"min\": 2, \"max\": 2, \"sum\": 2, \"var\": 0.0, \"mean\": 2.0}, \"A1T7W7XMJNHCDZ\": {\"count\": 1, \"std\": 0.0, \"min\": 2, \"max\": 2, \"sum\": 2, \"var\": 0.0, \"mean\": 2.0}, \"A77GZ4HU48ZYW\": {\"count\": 1, \"std\": 0.0, \"min\": 1, \"max\": 1, \"sum\": 1, \"var\": 0.0, \"mean\": 1.0}, \"A3VHCNDTPV530W\": {\"count\": 1, \"std\": 0.0, \"min\": 2, \"max\": 2, \"sum\": 2, \"var\": 0.0, \"mean\": 2.0}, \"A3SLME1IMA1FL8\": {\"count\": 1, \"std\": 0.0, \"min\": 1, \"max\": 1, \"sum\": 1, \"var\": 0.0, \"mean\": 1.0}, \"AAC9C3WFGO6MW\": {\"count\": 1, \"std\": 0.0, \"min\": 1, \"max\": 1, \"sum\": 1, \"var\": 0.0, \"mean\": 1.0}, \"A1G0R8V1A7W599\": {\"count\": 1, \"std\": 0.0, \"min\": 2, \"max\": 2, \"sum\": 2, \"var\": 0.0, \"mean\": 2.0}, \"AKF6XQ6ZBUW7Y\": {\"count\": 1, \"std\": 0.0, \"min\": 2, \"max\": 2, \"sum\": 2, \"var\": 0.0, \"mean\": 2.0}, \"A2FJLN03MSUS6O\": {\"count\": 1, \"std\": 0.0, \"min\": 4, \"max\": 4, \"sum\": 4, \"var\": 0.0, \"mean\": 4.0}, \"A1BLSGXVVWOM5H\": {\"count\": 1, \"std\": 0.0, \"min\": 5, \"max\": 5, \"sum\": 5, \"var\": 0.0, \"mean\": 5.0}, \"A2NYSDC2MKJ66P\": {\"count\": 1, \"std\": 0.0, \"min\": 3, \"max\": 3, \"sum\": 3, \"var\": 0.0, \"mean\": 3.0}, \"A1GNQOCSTACJY9\": {\"count\": 1, \"std\": 0.0, \"min\": 4, \"max\": 4, \"sum\": 4, \"var\": 0.0, \"mean\": 4.0}, \"AUX0SVISADIU\": {\"count\": 1, \"std\": 0.0, \"min\": 4, \"max\": 4, \"sum\": 4, \"var\": 0.0, \"mean\": 4.0}, \"A1DV5X269V196Q\": {\"count\": 1, \"std\": 0.0, \"min\": 3, \"max\": 3, \"sum\": 3, \"var\": 0.0, \"mean\": 3.0}, \"A250GAYA7FPQ1X\": {\"count\": 1, \"std\": 0.0, \"min\": 3, \"max\": 3, \"sum\": 3, \"var\": 0.0, \"mean\": 3.0}, \"A254KIF066RBYL\": {\"count\": 1, \"std\": 0.0, \"min\": 4, \"max\": 4, \"sum\": 4, \"var\": 0.0, \"mean\": 4.0}, \"A3485Z5RKB6L3M\": {\"count\": 3, \"std\": 0.816496580927726, \"min\": 2, \"max\": 4, \"sum\": 9, \"var\": 0.6666666666666666, \"mean\": 3.0}, \"A3G6TJP8OXKMDJ\": {\"count\": 1, \"std\": 0.0, \"min\": 3, \"max\": 3, \"sum\": 3, \"var\": 0.0, \"mean\": 3.0}, \"A2VFLQU282FQ3V\": {\"count\": 1, \"std\": 0.0, \"min\": 5, \"max\": 5, \"sum\": 5, \"var\": 0.0, \"mean\": 5.0}, \"A32TJ56B4G2HZ8\": {\"count\": 1, \"std\": 0.0, \"min\": 4, \"max\": 4, \"sum\": 4, \"var\": 0.0, \"mean\": 4.0}, \"AY0UHVNATG7KS\": {\"count\": 1, \"std\": 0.0, \"min\": 2, \"max\": 2, \"sum\": 2, \"var\": 0.0, \"mean\": 2.0}, \"A2TWC2TMTN4MD9\": {\"count\": 1, \"std\": 0.0, \"min\": 5, \"max\": 5, \"sum\": 5, \"var\": 0.0, \"mean\": 5.0}, \"A2WD0DEPEPUFBL\": {\"count\": 1, \"std\": 0.0, \"min\": 5, \"max\": 5, \"sum\": 5, \"var\": 0.0, \"mean\": 5.0}, \"A1H03L8K4R2JY1\": {\"count\": 1, \"std\": 0.0, \"min\": 2, \"max\": 2, \"sum\": 2, \"var\": 0.0, \"mean\": 2.0}, \"A1SY4LHTRPYS6T\": {\"count\": 1, \"std\": 0.0, \"min\": 2, \"max\": 2, \"sum\": 2, \"var\": 0.0, \"mean\": 2.0}, \"AGWNWCVVGS2CR\": {\"count\": 1, \"std\": 0.0, \"min\": 5, \"max\": 5, \"sum\": 5, \"var\": 0.0, \"mean\": 5.0}, \"AZI11KBKDTTLG\": {\"count\": 1, \"std\": 0.0, \"min\": 5, \"max\": 5, \"sum\": 5, \"var\": 0.0, \"mean\": 5.0}, \"A2GV76TCEHYVJL\": {\"count\": 1, \"std\": 0.0, \"min\": 5, \"max\": 5, \"sum\": 5, \"var\": 0.0, \"mean\": 5.0}, \"A2HKUM9OEBQKDW\": {\"count\": 2, \"std\": 0.0, \"min\": 3, \"max\": 3, \"sum\": 6, \"var\": 0.0, \"mean\": 3.0}, \"AAQ8OJ9S9XU5J\": {\"count\": 4, \"std\": 0.4330127018922193, \"min\": 1, \"max\": 2, \"sum\": 7, \"var\": 0.1875, \"mean\": 1.75}, \"A02068353AAAIUDG3U9H6\": {\"count\": 1, \"std\": 0.0, \"min\": 3, \"max\": 3, \"sum\": 3, \"var\": 0.0, \"mean\": 3.0}, \"A13UKQWRB9X2EX\": {\"count\": 1, \"std\": 0.0, \"min\": 5, \"max\": 5, \"sum\": 5, \"var\": 0.0, \"mean\": 5.0}, \"A3BMFJP70S63UB\": {\"count\": 1, \"std\": 0.0, \"min\": 5, \"max\": 5, \"sum\": 5, \"var\": 0.0, \"mean\": 5.0}, \"AAQVGTGB6BD3D\": {\"count\": 1, \"std\": 0.0, \"min\": 2, \"max\": 2, \"sum\": 2, \"var\": 0.0, \"mean\": 2.0}, \"A3I2M02GYB5G8V\": {\"count\": 3, \"std\": 0.816496580927726, \"min\": 3, \"max\": 5, \"sum\": 12, \"var\": 0.6666666666666666, \"mean\": 4.0}, \"A2HPJKM7L4EOQB\": {\"count\": 1, \"std\": 0.0, \"min\": 5, \"max\": 5, \"sum\": 5, \"var\": 0.0, \"mean\": 5.0}, \"A1XIS9042B3IDH\": {\"count\": 1, \"std\": 0.0, \"min\": 1, \"max\": 1, \"sum\": 1, \"var\": 0.0, \"mean\": 1.0}, \"A34JYDQ4RNOZJT\": {\"count\": 1, \"std\": 0.0, \"min\": 5, \"max\": 5, \"sum\": 5, \"var\": 0.0, \"mean\": 5.0}, \"A6FX39L0EEYIO\": {\"count\": 1, \"std\": 0.0, \"min\": 5, \"max\": 5, \"sum\": 5, \"var\": 0.0, \"mean\": 5.0}, \"AY3Y273NVBF94\": {\"count\": 1, \"std\": 0.0, \"min\": 1, \"max\": 1, \"sum\": 1, \"var\": 0.0, \"mean\": 1.0}, \"A17U7ADDEQE7T7\": {\"count\": 1, \"std\": 0.0, \"min\": 1, \"max\": 1, \"sum\": 1, \"var\": 0.0, \"mean\": 1.0}, \"A1V0ZC07Y4CCTS\": {\"count\": 1, \"std\": 0.0, \"min\": 5, \"max\": 5, \"sum\": 5, \"var\": 0.0, \"mean\": 5.0}, \"A1DO3B78RG8I91\": {\"count\": 1, \"std\": 0.0, \"min\": 5, \"max\": 5, \"sum\": 5, \"var\": 0.0, \"mean\": 5.0}, \"A1K8VJNP0MZO8C\": {\"count\": 1, \"std\": 0.0, \"min\": 1, \"max\": 1, \"sum\": 1, \"var\": 0.0, \"mean\": 1.0}, \"A1MFOELK347OXZ\": {\"count\": 1, \"std\": 0.0, \"min\": 4, \"max\": 4, \"sum\": 4, \"var\": 0.0, \"mean\": 4.0}, \"A3K41VTZ5V02RW\": {\"count\": 1, \"std\": 0.0, \"min\": 5, \"max\": 5, \"sum\": 5, \"var\": 0.0, \"mean\": 5.0}, \"ADLDNM1NFY1IR\": {\"count\": 1, \"std\": 0.0, \"min\": 3, \"max\": 3, \"sum\": 3, \"var\": 0.0, \"mean\": 3.0}, \"A2L69G5XDAM11Z\": {\"count\": 1, \"std\": 0.0, \"min\": 3, \"max\": 3, \"sum\": 3, \"var\": 0.0, \"mean\": 3.0}, \"A1D2RHHKB1GUVX\": {\"count\": 1, \"std\": 0.0, \"min\": 5, \"max\": 5, \"sum\": 5, \"var\": 0.0, \"mean\": 5.0}, \"A155X14EYY6OTU\": {\"count\": 1, \"std\": 0.0, \"min\": 5, \"max\": 5, \"sum\": 5, \"var\": 0.0, \"mean\": 5.0}, \"APLTRJSHTOBH5\": {\"count\": 1, \"std\": 0.0, \"min\": 3, \"max\": 3, \"sum\": 3, \"var\": 0.0, \"mean\": 3.0}, \"ASY0G1A89KHQ9\": {\"count\": 2, \"std\": 1.5, \"min\": 2, \"max\": 5, \"sum\": 7, \"var\": 2.25, \"mean\": 3.5}, \"A1ORHIKHSSOE7P\": {\"count\": 1, \"std\": 0.0, \"min\": 3, \"max\": 3, \"sum\": 3, \"var\": 0.0, \"mean\": 3.0}, \"ATRSMN161M9GU\": {\"count\": 1, \"std\": 0.0, \"min\": 5, \"max\": 5, \"sum\": 5, \"var\": 0.0, \"mean\": 5.0}, \"A76P8UTW153PF\": {\"count\": 1, \"std\": 0.0, \"min\": 3, \"max\": 3, \"sum\": 3, \"var\": 0.0, \"mean\": 3.0}, \"A21WQ9TER0NTVV\": {\"count\": 2, \"std\": 0.0, \"min\": 4, \"max\": 4, \"sum\": 8, \"var\": 0.0, \"mean\": 4.0}, \"A2RIPS5PEFYTKE\": {\"count\": 1, \"std\": 0.0, \"min\": 5, \"max\": 5, \"sum\": 5, \"var\": 0.0, \"mean\": 5.0}, \"A3B7NBM01191CF\": {\"count\": 2, \"std\": 0.5, \"min\": 2, \"max\": 3, \"sum\": 5, \"var\": 0.25, \"mean\": 2.5}, \"AZBNCFQPTW6VZ\": {\"count\": 1, \"std\": 0.0, \"min\": 4, \"max\": 4, \"sum\": 4, \"var\": 0.0, \"mean\": 4.0}, \"AIB6JN3WG0IXX\": {\"count\": 1, \"std\": 0.0, \"min\": 5, \"max\": 5, \"sum\": 5, \"var\": 0.0, \"mean\": 5.0}, \"A19YV92BNZB6JN\": {\"count\": 1, \"std\": 0.0, \"min\": 3, \"max\": 3, \"sum\": 3, \"var\": 0.0, \"mean\": 3.0}, \"A3TKLE1XTAE6WV\": {\"count\": 1, \"std\": 0.0, \"min\": 2, \"max\": 2, \"sum\": 2, \"var\": 0.0, \"mean\": 2.0}, \"ACDFWCP754D0L\": {\"count\": 1, \"std\": 0.0, \"min\": 5, \"max\": 5, \"sum\": 5, \"var\": 0.0, \"mean\": 5.0}, \"A2V1HSFIIYIAYV\": {\"count\": 1, \"std\": 0.0, \"min\": 3, \"max\": 3, \"sum\": 3, \"var\": 0.0, \"mean\": 3.0}, \"AO5KGCFXG4VVK\": {\"count\": 1, \"std\": 0.0, \"min\": 2, \"max\": 2, \"sum\": 2, \"var\": 0.0, \"mean\": 2.0}, \"A27B1QDN3K2AF1\": {\"count\": 1, \"std\": 0.0, \"min\": 2, \"max\": 2, \"sum\": 2, \"var\": 0.0, \"mean\": 2.0}, \"A3OL74I0JQZAUE\": {\"count\": 2, \"std\": 1.0, \"min\": 2, \"max\": 4, \"sum\": 6, \"var\": 1.0, \"mean\": 3.0}, \"A3T7CGL6IY6ZAH\": {\"count\": 1, \"std\": 0.0, \"min\": 5, \"max\": 5, \"sum\": 5, \"var\": 0.0, \"mean\": 5.0}, \"A1PKG8QO4K5CXT\": {\"count\": 2, \"std\": 1.0, \"min\": 2, \"max\": 4, \"sum\": 6, \"var\": 1.0, \"mean\": 3.0}, \"A38K0MKJ7D9XR\": {\"count\": 1, \"std\": 0.0, \"min\": 3, \"max\": 3, \"sum\": 3, \"var\": 0.0, \"mean\": 3.0}, \"A1ZPJTN7B4YRJ1\": {\"count\": 1, \"std\": 0.0, \"min\": 3, \"max\": 3, \"sum\": 3, \"var\": 0.0, \"mean\": 3.0}, \"A26NIBSOE09W1C\": {\"count\": 1, \"std\": 0.0, \"min\": 3, \"max\": 3, \"sum\": 3, \"var\": 0.0, \"mean\": 3.0}, \"ALOL4WXO3FHYG\": {\"count\": 1, \"std\": 0.0, \"min\": 2, \"max\": 2, \"sum\": 2, \"var\": 0.0, \"mean\": 2.0}, \"A1101H4K41BI0W\": {\"count\": 2, \"std\": 1.0, \"min\": 3, \"max\": 5, \"sum\": 8, \"var\": 1.0, \"mean\": 4.0}, \"A3AON8N2R1PWKZ\": {\"count\": 1, \"std\": 0.0, \"min\": 3, \"max\": 3, \"sum\": 3, \"var\": 0.0, \"mean\": 3.0}, \"A386GF0FZRUKJW\": {\"count\": 1, \"std\": 0.0, \"min\": 3, \"max\": 3, \"sum\": 3, \"var\": 0.0, \"mean\": 3.0}, \"A2RM6AQNZXWO4B\": {\"count\": 1, \"std\": 0.0, \"min\": 1, \"max\": 1, \"sum\": 1, \"var\": 0.0, \"mean\": 1.0}, \"AKF3R3GUCDTKI\": {\"count\": 1, \"std\": 0.0, \"min\": 1, \"max\": 1, \"sum\": 1, \"var\": 0.0, \"mean\": 1.0}, \"A3AY1X3XLLFSP5\": {\"count\": 1, \"std\": 0.0, \"min\": 3, \"max\": 3, \"sum\": 3, \"var\": 0.0, \"mean\": 3.0}, \"A2GT1OYMM3ICFE\": {\"count\": 1, \"std\": 0.0, \"min\": 1, \"max\": 1, \"sum\": 1, \"var\": 0.0, \"mean\": 1.0}, \"A2MXUFABCHR53P\": {\"count\": 2, \"std\": 0.0, \"min\": 5, \"max\": 5, \"sum\": 10, \"var\": 0.0, \"mean\": 5.0}, \"AY3K2X2P0VKG6\": {\"count\": 1, \"std\": 0.0, \"min\": 2, \"max\": 2, \"sum\": 2, \"var\": 0.0, \"mean\": 2.0}, \"AQBWVVTMJ23RE\": {\"count\": 1, \"std\": 0.0, \"min\": 1, \"max\": 1, \"sum\": 1, \"var\": 0.0, \"mean\": 1.0}, \"A3H2BWZ5ZMVIHP\": {\"count\": 6, \"std\": 1.1547005383792515, \"min\": 1, \"max\": 5, \"sum\": 18, \"var\": 1.3333333333333333, \"mean\": 3.0}, \"A3V7PJ1OHTXBLV\": {\"count\": 1, \"std\": 0.0, \"min\": 2, \"max\": 2, \"sum\": 2, \"var\": 0.0, \"mean\": 2.0}, \"A1J9F7PCWJ1MS\": {\"count\": 1, \"std\": 0.0, \"min\": 5, \"max\": 5, \"sum\": 5, \"var\": 0.0, \"mean\": 5.0}, \"A3TPHWX6JOMS9H\": {\"count\": 2, \"std\": 1.0, \"min\": 3, \"max\": 5, \"sum\": 8, \"var\": 1.0, \"mean\": 4.0}, \"A21U1IJSBLXJMC\": {\"count\": 1, \"std\": 0.0, \"min\": 5, \"max\": 5, \"sum\": 5, \"var\": 0.0, \"mean\": 5.0}, \"A1L757E8G86B7C\": {\"count\": 2, \"std\": 1.0, \"min\": 1, \"max\": 3, \"sum\": 4, \"var\": 1.0, \"mean\": 2.0}, \"A1FOM1AANDEEBK\": {\"count\": 3, \"std\": 1.247219128924647, \"min\": 2, \"max\": 5, \"sum\": 11, \"var\": 1.5555555555555554, \"mean\": 3.6666666666666665}, \"A3GWNEQDX1KU7F\": {\"count\": 1, \"std\": 0.0, \"min\": 3, \"max\": 3, \"sum\": 3, \"var\": 0.0, \"mean\": 3.0}, \"A27JX38MUS1BNZ\": {\"count\": 1, \"std\": 0.0, \"min\": 5, \"max\": 5, \"sum\": 5, \"var\": 0.0, \"mean\": 5.0}, \"A16FTYPJ9ICYG9\": {\"count\": 2, \"std\": 1.5, \"min\": 1, \"max\": 4, \"sum\": 5, \"var\": 2.25, \"mean\": 2.5}, \"A1832NIF7M8D5U\": {\"count\": 1, \"std\": 0.0, \"min\": 2, \"max\": 2, \"sum\": 2, \"var\": 0.0, \"mean\": 2.0}, \"A33X07QTWWGX77\": {\"count\": 1, \"std\": 0.0, \"min\": 1, \"max\": 1, \"sum\": 1, \"var\": 0.0, \"mean\": 1.0}, \"APO7GG9IC43O8\": {\"count\": 1, \"std\": 0.0, \"min\": 1, \"max\": 1, \"sum\": 1, \"var\": 0.0, \"mean\": 1.0}, \"A2GSR4UQMJFGEB\": {\"count\": 1, \"std\": 0.0, \"min\": 4, \"max\": 4, \"sum\": 4, \"var\": 0.0, \"mean\": 4.0}, \"A1NMK1I419X7PH\": {\"count\": 1, \"std\": 0.0, \"min\": 4, \"max\": 4, \"sum\": 4, \"var\": 0.0, \"mean\": 4.0}, \"AASIIZ1VKJ278\": {\"count\": 1, \"std\": 0.0, \"min\": 1, \"max\": 1, \"sum\": 1, \"var\": 0.0, \"mean\": 1.0}, \"A38KYR98HRIXC5\": {\"count\": 1, \"std\": 0.0, \"min\": 1, \"max\": 1, \"sum\": 1, \"var\": 0.0, \"mean\": 1.0}, \"AK81KQNG4NPSC\": {\"count\": 4, \"std\": 1.224744871391589, \"min\": 2, \"max\": 5, \"sum\": 16, \"var\": 1.5, \"mean\": 4.0}, \"ADKUGA3FG7LVX\": {\"count\": 4, \"std\": 0.5, \"min\": 2, \"max\": 3, \"sum\": 10, \"var\": 0.25, \"mean\": 2.5}, \"A3U3RIHV3R7WDX\": {\"count\": 1, \"std\": 0.0, \"min\": 2, \"max\": 2, \"sum\": 2, \"var\": 0.0, \"mean\": 2.0}, \"A15JTKLPY1XZNO\": {\"count\": 1, \"std\": 0.0, \"min\": 2, \"max\": 2, \"sum\": 2, \"var\": 0.0, \"mean\": 2.0}, \"A298V5110SGD2Q\": {\"count\": 1, \"std\": 0.0, \"min\": 2, \"max\": 2, \"sum\": 2, \"var\": 0.0, \"mean\": 2.0}, \"A3O5DDXKOS9Z5J\": {\"count\": 1, \"std\": 0.0, \"min\": 4, \"max\": 4, \"sum\": 4, \"var\": 0.0, \"mean\": 4.0}, \"A3BHMSURPKWI6U\": {\"count\": 1, \"std\": 0.0, \"min\": 5, \"max\": 5, \"sum\": 5, \"var\": 0.0, \"mean\": 5.0}, \"ALAA606YQL84Z\": {\"count\": 3, \"std\": 0.4714045207910318, \"min\": 4, \"max\": 5, \"sum\": 14, \"var\": 0.22222222222222232, \"mean\": 4.666666666666667}, \"A2CCS947DS9AEG\": {\"count\": 1, \"std\": 0.0, \"min\": 1, \"max\": 1, \"sum\": 1, \"var\": 0.0, \"mean\": 1.0}, \"AONBYQ6E15LQH\": {\"count\": 1, \"std\": 0.0, \"min\": 2, \"max\": 2, \"sum\": 2, \"var\": 0.0, \"mean\": 2.0}, \"A22QL7NGMKW44W\": {\"count\": 1, \"std\": 0.0, \"min\": 3, \"max\": 3, \"sum\": 3, \"var\": 0.0, \"mean\": 3.0}, \"AEGR8YV6DMAUS\": {\"count\": 1, \"std\": 0.0, \"min\": 1, \"max\": 1, \"sum\": 1, \"var\": 0.0, \"mean\": 1.0}, \"A1CTA3419REP5Z\": {\"count\": 1, \"std\": 0.0, \"min\": 5, \"max\": 5, \"sum\": 5, \"var\": 0.0, \"mean\": 5.0}, \"A1H7NADDMWU87J\": {\"count\": 1, \"std\": 0.0, \"min\": 3, \"max\": 3, \"sum\": 3, \"var\": 0.0, \"mean\": 3.0}, \"A386L7OCWTAC5M\": {\"count\": 2, \"std\": 2.0, \"min\": 1, \"max\": 5, \"sum\": 6, \"var\": 4.0, \"mean\": 3.0}, \"A3JWD9XVFJ7LQD\": {\"count\": 1, \"std\": 0.0, \"min\": 4, \"max\": 4, \"sum\": 4, \"var\": 0.0, \"mean\": 4.0}, \"AT7U26LUCVI4S\": {\"count\": 1, \"std\": 0.0, \"min\": 4, \"max\": 4, \"sum\": 4, \"var\": 0.0, \"mean\": 4.0}, \"AFJA8S2B0V56A\": {\"count\": 1, \"std\": 0.0, \"min\": 1, \"max\": 1, \"sum\": 1, \"var\": 0.0, \"mean\": 1.0}, \"A2FJ666XCTJIKY\": {\"count\": 1, \"std\": 0.0, \"min\": 2, \"max\": 2, \"sum\": 2, \"var\": 0.0, \"mean\": 2.0}, \"A3AKXO788PKUPR\": {\"count\": 1, \"std\": 0.0, \"min\": 2, \"max\": 2, \"sum\": 2, \"var\": 0.0, \"mean\": 2.0}, \"AR4YX6VCAZNXZ\": {\"count\": 1, \"std\": 0.0, \"min\": 4, \"max\": 4, \"sum\": 4, \"var\": 0.0, \"mean\": 4.0}, \"A1VBBQZZJG8VGE\": {\"count\": 1, \"std\": 0.0, \"min\": 1, \"max\": 1, \"sum\": 1, \"var\": 0.0, \"mean\": 1.0}, \"A3JY9A40GIF46B\": {\"count\": 1, \"std\": 0.0, \"min\": 2, \"max\": 2, \"sum\": 2, \"var\": 0.0, \"mean\": 2.0}, \"A337XCQS8G40MG\": {\"count\": 2, \"std\": 0.5, \"min\": 1, \"max\": 2, \"sum\": 3, \"var\": 0.25, \"mean\": 1.5}, \"A17CPXUAU1A32P\": {\"count\": 1, \"std\": 0.0, \"min\": 1, \"max\": 1, \"sum\": 1, \"var\": 0.0, \"mean\": 1.0}, \"A14UZL0YUM7AOY\": {\"count\": 1, \"std\": 0.0, \"min\": 5, \"max\": 5, \"sum\": 5, \"var\": 0.0, \"mean\": 5.0}, \"A1F5T4NCELL7I4\": {\"count\": 2, \"std\": 0.5, \"min\": 1, \"max\": 2, \"sum\": 3, \"var\": 0.25, \"mean\": 1.5}, \"A1HH0XUNT7AWN6\": {\"count\": 2, \"std\": 0.5, \"min\": 4, \"max\": 5, \"sum\": 9, \"var\": 0.25, \"mean\": 4.5}, \"A387TN59UFXG0W\": {\"count\": 1, \"std\": 0.0, \"min\": 1, \"max\": 1, \"sum\": 1, \"var\": 0.0, \"mean\": 1.0}, \"A180Q3BLVQ48PG\": {\"count\": 1, \"std\": 0.0, \"min\": 1, \"max\": 1, \"sum\": 1, \"var\": 0.0, \"mean\": 1.0}, \"A2TPROR2I68SJW\": {\"count\": 1, \"std\": 0.0, \"min\": 4, \"max\": 4, \"sum\": 4, \"var\": 0.0, \"mean\": 4.0}, \"A1N6L543CBMLO2\": {\"count\": 5, \"std\": 0.7483314773547882, \"min\": 3, \"max\": 5, \"sum\": 19, \"var\": 0.5599999999999999, \"mean\": 3.8}, \"A374644EEGRKQ9\": {\"count\": 1, \"std\": 0.0, \"min\": 3, \"max\": 3, \"sum\": 3, \"var\": 0.0, \"mean\": 3.0}, \"A3IIZLRUYNPNO6\": {\"count\": 1, \"std\": 0.0, \"min\": 1, \"max\": 1, \"sum\": 1, \"var\": 0.0, \"mean\": 1.0}, \"A2EGML4L8ILUHR\": {\"count\": 1, \"std\": 0.0, \"min\": 3, \"max\": 3, \"sum\": 3, \"var\": 0.0, \"mean\": 3.0}, \"A1X5M1XYYTPFW5\": {\"count\": 1, \"std\": 0.0, \"min\": 4, \"max\": 4, \"sum\": 4, \"var\": 0.0, \"mean\": 4.0}, \"A333Z537C807W9\": {\"count\": 1, \"std\": 0.0, \"min\": 3, \"max\": 3, \"sum\": 3, \"var\": 0.0, \"mean\": 3.0}, \"AON7FOIGLQ570\": {\"count\": 2, \"std\": 0.0, \"min\": 5, \"max\": 5, \"sum\": 10, \"var\": 0.0, \"mean\": 5.0}, \"A316UQDA0Q9N4S\": {\"count\": 1, \"std\": 0.0, \"min\": 5, \"max\": 5, \"sum\": 5, \"var\": 0.0, \"mean\": 5.0}, \"A1B0LZ85CBY9IO\": {\"count\": 1, \"std\": 0.0, \"min\": 2, \"max\": 2, \"sum\": 2, \"var\": 0.0, \"mean\": 2.0}, \"A2NX7VR8WG5J9T\": {\"count\": 1, \"std\": 0.0, \"min\": 4, \"max\": 4, \"sum\": 4, \"var\": 0.0, \"mean\": 4.0}, \"AYJR2JVZSEBVE\": {\"count\": 1, \"std\": 0.0, \"min\": 2, \"max\": 2, \"sum\": 2, \"var\": 0.0, \"mean\": 2.0}, \"A1QFLUR8A1IJV\": {\"count\": 1, \"std\": 0.0, \"min\": 5, \"max\": 5, \"sum\": 5, \"var\": 0.0, \"mean\": 5.0}, \"A12E8FPVSPMMIO\": {\"count\": 1, \"std\": 0.0, \"min\": 1, \"max\": 1, \"sum\": 1, \"var\": 0.0, \"mean\": 1.0}, \"A2O0P6WKI3HUW1\": {\"count\": 1, \"std\": 0.0, \"min\": 3, \"max\": 3, \"sum\": 3, \"var\": 0.0, \"mean\": 3.0}, \"A3D7WCWKA7221S\": {\"count\": 1, \"std\": 0.0, \"min\": 1, \"max\": 1, \"sum\": 1, \"var\": 0.0, \"mean\": 1.0}, \"A1SZ0MX2IDZ88C\": {\"count\": 1, \"std\": 0.0, \"min\": 3, \"max\": 3, \"sum\": 3, \"var\": 0.0, \"mean\": 3.0}, \"A47OTS5VNRSV7\": {\"count\": 1, \"std\": 0.0, \"min\": 1, \"max\": 1, \"sum\": 1, \"var\": 0.0, \"mean\": 1.0}, \"A32E54OQW8PNK0\": {\"count\": 1, \"std\": 0.0, \"min\": 3, \"max\": 3, \"sum\": 3, \"var\": 0.0, \"mean\": 3.0}, \"AHM6QVD883A3L\": {\"count\": 1, \"std\": 0.0, \"min\": 1, \"max\": 1, \"sum\": 1, \"var\": 0.0, \"mean\": 1.0}, \"A1779HOP2QLO46\": {\"count\": 1, \"std\": 0.0, \"min\": 5, \"max\": 5, \"sum\": 5, \"var\": 0.0, \"mean\": 5.0}, \"A3DMMM1WKXLT4S\": {\"count\": 1, \"std\": 0.0, \"min\": 2, \"max\": 2, \"sum\": 2, \"var\": 0.0, \"mean\": 2.0}, \"A1Z1AD3LMVR8JJ\": {\"count\": 1, \"std\": 0.0, \"min\": 5, \"max\": 5, \"sum\": 5, \"var\": 0.0, \"mean\": 5.0}, \"A25FTLAJRI5JLZ\": {\"count\": 1, \"std\": 0.0, \"min\": 2, \"max\": 2, \"sum\": 2, \"var\": 0.0, \"mean\": 2.0}, \"A3ETK1W59S5F24\": {\"count\": 1, \"std\": 0.0, \"min\": 5, \"max\": 5, \"sum\": 5, \"var\": 0.0, \"mean\": 5.0}, \"A3UNLE8LTFWRMC\": {\"count\": 1, \"std\": 0.0, \"min\": 3, \"max\": 3, \"sum\": 3, \"var\": 0.0, \"mean\": 3.0}, \"A1MNRWD2ZNUC7G\": {\"count\": 1, \"std\": 0.0, \"min\": 5, \"max\": 5, \"sum\": 5, \"var\": 0.0, \"mean\": 5.0}, \"AS72L05SRMQZS\": {\"count\": 1, \"std\": 0.0, \"min\": 1, \"max\": 1, \"sum\": 1, \"var\": 0.0, \"mean\": 1.0}, \"A744QYFTYZM12\": {\"count\": 1, \"std\": 0.0, \"min\": 1, \"max\": 1, \"sum\": 1, \"var\": 0.0, \"mean\": 1.0}, \"A5SYTHQV4L3AC\": {\"count\": 1, \"std\": 0.0, \"min\": 5, \"max\": 5, \"sum\": 5, \"var\": 0.0, \"mean\": 5.0}, \"A1X76J7Q8CXT91\": {\"count\": 5, \"std\": 1.469693845669907, \"min\": 1, \"max\": 5, \"sum\": 16, \"var\": 2.16, \"mean\": 3.2}, \"AEVIYGYO0FEOM\": {\"count\": 1, \"std\": 0.0, \"min\": 4, \"max\": 4, \"sum\": 4, \"var\": 0.0, \"mean\": 4.0}, \"AJDXO7UCL5QNG\": {\"count\": 1, \"std\": 0.0, \"min\": 2, \"max\": 2, \"sum\": 2, \"var\": 0.0, \"mean\": 2.0}, \"AAJXAEUKPY8VF\": {\"count\": 1, \"std\": 0.0, \"min\": 3, \"max\": 3, \"sum\": 3, \"var\": 0.0, \"mean\": 3.0}, \"A2VN71RRMIR2IO\": {\"count\": 1, \"std\": 0.0, \"min\": 1, \"max\": 1, \"sum\": 1, \"var\": 0.0, \"mean\": 1.0}, \"A31XIVAO9UIUFH\": {\"count\": 1, \"std\": 0.0, \"min\": 1, \"max\": 1, \"sum\": 1, \"var\": 0.0, \"mean\": 1.0}, \"A33BGGCZDONOZS\": {\"count\": 1, \"std\": 0.0, \"min\": 1, \"max\": 1, \"sum\": 1, \"var\": 0.0, \"mean\": 1.0}, \"A29I7GI6RI8Q4E\": {\"count\": 1, \"std\": 0.0, \"min\": 3, \"max\": 3, \"sum\": 3, \"var\": 0.0, \"mean\": 3.0}, \"A3SWX9G6MJHYC5\": {\"count\": 1, \"std\": 0.0, \"min\": 5, \"max\": 5, \"sum\": 5, \"var\": 0.0, \"mean\": 5.0}, \"A17THI49XFOU40\": {\"count\": 1, \"std\": 0.0, \"min\": 1, \"max\": 1, \"sum\": 1, \"var\": 0.0, \"mean\": 1.0}, \"A1VO3ZN3R59DWN\": {\"count\": 1, \"std\": 0.0, \"min\": 4, \"max\": 4, \"sum\": 4, \"var\": 0.0, \"mean\": 4.0}, \"ATZJNEXX7LWD3\": {\"count\": 4, \"std\": 1.224744871391589, \"min\": 2, \"max\": 5, \"sum\": 12, \"var\": 1.5, \"mean\": 3.0}, \"ABCBXXVMBBQ11\": {\"count\": 1, \"std\": 0.0, \"min\": 3, \"max\": 3, \"sum\": 3, \"var\": 0.0, \"mean\": 3.0}, \"A2QHONSEPA48NT\": {\"count\": 1, \"std\": 0.0, \"min\": 5, \"max\": 5, \"sum\": 5, \"var\": 0.0, \"mean\": 5.0}, \"A1FV655URLJMSV\": {\"count\": 1, \"std\": 0.0, \"min\": 4, \"max\": 4, \"sum\": 4, \"var\": 0.0, \"mean\": 4.0}, \"A1T8GE1IPBROLA\": {\"count\": 1, \"std\": 0.0, \"min\": 2, \"max\": 2, \"sum\": 2, \"var\": 0.0, \"mean\": 2.0}, \"AD3I5DY2RJE1I\": {\"count\": 1, \"std\": 0.0, \"min\": 3, \"max\": 3, \"sum\": 3, \"var\": 0.0, \"mean\": 3.0}, \"AVGRSJAJHRIGS\": {\"count\": 1, \"std\": 0.0, \"min\": 2, \"max\": 2, \"sum\": 2, \"var\": 0.0, \"mean\": 2.0}, \"AATO27X6947AD\": {\"count\": 2, \"std\": 0.5, \"min\": 3, \"max\": 4, \"sum\": 7, \"var\": 0.25, \"mean\": 3.5}, \"A2BR08Q5NXYMAJ\": {\"count\": 2, \"std\": 0.5, \"min\": 3, \"max\": 4, \"sum\": 7, \"var\": 0.25, \"mean\": 3.5}, \"A1QONG3Y03VH35\": {\"count\": 1, \"std\": 0.0, \"min\": 1, \"max\": 1, \"sum\": 1, \"var\": 0.0, \"mean\": 1.0}, \"A3UKGVFJ2X1ZS7\": {\"count\": 1, \"std\": 0.0, \"min\": 1, \"max\": 1, \"sum\": 1, \"var\": 0.0, \"mean\": 1.0}, \"AWW3V5CZJT6CS\": {\"count\": 1, \"std\": 0.0, \"min\": 5, \"max\": 5, \"sum\": 5, \"var\": 0.0, \"mean\": 5.0}, \"A3124ALINJWML5\": {\"count\": 1, \"std\": 0.0, \"min\": 3, \"max\": 3, \"sum\": 3, \"var\": 0.0, \"mean\": 3.0}, \"A2V4K6G16J97XQ\": {\"count\": 2, \"std\": 0.5, \"min\": 4, \"max\": 5, \"sum\": 9, \"var\": 0.25, \"mean\": 4.5}, \"A3SNB54T7IJY45\": {\"count\": 1, \"std\": 0.0, \"min\": 5, \"max\": 5, \"sum\": 5, \"var\": 0.0, \"mean\": 5.0}, \"A3OZSNL0BHBYS\": {\"count\": 2, \"std\": 0.0, \"min\": 4, \"max\": 4, \"sum\": 8, \"var\": 0.0, \"mean\": 4.0}, \"AP05Z1FK6DF8G\": {\"count\": 1, \"std\": 0.0, \"min\": 1, \"max\": 1, \"sum\": 1, \"var\": 0.0, \"mean\": 1.0}, \"A2UFMVUBE6DN2Z\": {\"count\": 1, \"std\": 0.0, \"min\": 1, \"max\": 1, \"sum\": 1, \"var\": 0.0, \"mean\": 1.0}, \"A38XPWUGXPP1EX\": {\"count\": 1, \"std\": 0.0, \"min\": 3, \"max\": 3, \"sum\": 3, \"var\": 0.0, \"mean\": 3.0}, \"A3NEE5AMD0G3O7\": {\"count\": 1, \"std\": 0.0, \"min\": 3, \"max\": 3, \"sum\": 3, \"var\": 0.0, \"mean\": 3.0}, \"A317A2EX19J7GU\": {\"count\": 1, \"std\": 0.0, \"min\": 4, \"max\": 4, \"sum\": 4, \"var\": 0.0, \"mean\": 4.0}, \"A2OOSS5GXB7UVG\": {\"count\": 1, \"std\": 0.0, \"min\": 5, \"max\": 5, \"sum\": 5, \"var\": 0.0, \"mean\": 5.0}, \"A3TXNP2HL86B4Z\": {\"count\": 1, \"std\": 0.0, \"min\": 3, \"max\": 3, \"sum\": 3, \"var\": 0.0, \"mean\": 3.0}, \"A27GWIIERWVE4S\": {\"count\": 1, \"std\": 0.0, \"min\": 2, \"max\": 2, \"sum\": 2, \"var\": 0.0, \"mean\": 2.0}, \"AYJ6RJ0749SUB\": {\"count\": 1, \"std\": 0.0, \"min\": 4, \"max\": 4, \"sum\": 4, \"var\": 0.0, \"mean\": 4.0}, \"A1YOMQH5QA39H1\": {\"count\": 1, \"std\": 0.0, \"min\": 4, \"max\": 4, \"sum\": 4, \"var\": 0.0, \"mean\": 4.0}, \"A1JTE7P1BC3ZGU\": {\"count\": 3, \"std\": 0.816496580927726, \"min\": 2, \"max\": 4, \"sum\": 9, \"var\": 0.6666666666666666, \"mean\": 3.0}, \"A28TLW6CJS1EK\": {\"count\": 1, \"std\": 0.0, \"min\": 1, \"max\": 1, \"sum\": 1, \"var\": 0.0, \"mean\": 1.0}, \"A1V15BQVB2V4B8\": {\"count\": 1, \"std\": 0.0, \"min\": 1, \"max\": 1, \"sum\": 1, \"var\": 0.0, \"mean\": 1.0}, \"AXR140PXPJHNS\": {\"count\": 1, \"std\": 0.0, \"min\": 3, \"max\": 3, \"sum\": 3, \"var\": 0.0, \"mean\": 3.0}, \"A2X1D3NN8R97F8\": {\"count\": 1, \"std\": 0.0, \"min\": 4, \"max\": 4, \"sum\": 4, \"var\": 0.0, \"mean\": 4.0}, \"A2GUROCPBUBDLI\": {\"count\": 1, \"std\": 0.0, \"min\": 1, \"max\": 1, \"sum\": 1, \"var\": 0.0, \"mean\": 1.0}, \"AFUX2AWY7ACHI\": {\"count\": 1, \"std\": 0.0, \"min\": 1, \"max\": 1, \"sum\": 1, \"var\": 0.0, \"mean\": 1.0}, \"A30M3JN70MT85J\": {\"count\": 2, \"std\": 1.5, \"min\": 1, \"max\": 4, \"sum\": 5, \"var\": 2.25, \"mean\": 2.5}, \"A1GI4YAZHIQHF\": {\"count\": 1, \"std\": 0.0, \"min\": 4, \"max\": 4, \"sum\": 4, \"var\": 0.0, \"mean\": 4.0}, \"A1628OJRPJZ1A0\": {\"count\": 1, \"std\": 0.0, \"min\": 4, \"max\": 4, \"sum\": 4, \"var\": 0.0, \"mean\": 4.0}, \"A3GDTGR355Y96Y\": {\"count\": 1, \"std\": 0.0, \"min\": 5, \"max\": 5, \"sum\": 5, \"var\": 0.0, \"mean\": 5.0}, \"AE8HL032EKK02\": {\"count\": 1, \"std\": 0.0, \"min\": 1, \"max\": 1, \"sum\": 1, \"var\": 0.0, \"mean\": 1.0}, \"A3EUCBRY64FNYD\": {\"count\": 2, \"std\": 0.0, \"min\": 5, \"max\": 5, \"sum\": 10, \"var\": 0.0, \"mean\": 5.0}, \"ADHYEIYUDKL1K\": {\"count\": 1, \"std\": 0.0, \"min\": 5, \"max\": 5, \"sum\": 5, \"var\": 0.0, \"mean\": 5.0}, \"A3V71RSIMHVM9D\": {\"count\": 1, \"std\": 0.0, \"min\": 3, \"max\": 3, \"sum\": 3, \"var\": 0.0, \"mean\": 3.0}, \"A2EB440PC5PMIS\": {\"count\": 1, \"std\": 0.0, \"min\": 4, \"max\": 4, \"sum\": 4, \"var\": 0.0, \"mean\": 4.0}, \"A204K1OFE8OB9Y\": {\"count\": 12, \"std\": 0.9537935951882998, \"min\": 1, \"max\": 4, \"sum\": 29, \"var\": 0.9097222222222223, \"mean\": 2.4166666666666665}, \"APQUSGAM3QJX\": {\"count\": 1, \"std\": 0.0, \"min\": 2, \"max\": 2, \"sum\": 2, \"var\": 0.0, \"mean\": 2.0}, \"A3N68C46AXYQ3W\": {\"count\": 1, \"std\": 0.0, \"min\": 4, \"max\": 4, \"sum\": 4, \"var\": 0.0, \"mean\": 4.0}, \"A2T3F3W9L1H33H\": {\"count\": 1, \"std\": 0.0, \"min\": 1, \"max\": 1, \"sum\": 1, \"var\": 0.0, \"mean\": 1.0}, \"A3JAJGSVVFUMBY\": {\"count\": 1, \"std\": 0.0, \"min\": 3, \"max\": 3, \"sum\": 3, \"var\": 0.0, \"mean\": 3.0}, \"A3MT3VXW9K9ECQ\": {\"count\": 1, \"std\": 0.0, \"min\": 1, \"max\": 1, \"sum\": 1, \"var\": 0.0, \"mean\": 1.0}, \"ATEBQOEM1OVZH\": {\"count\": 1, \"std\": 0.0, \"min\": 1, \"max\": 1, \"sum\": 1, \"var\": 0.0, \"mean\": 1.0}, \"A1IH13SO6YAF6Z\": {\"count\": 1, \"std\": 0.0, \"min\": 5, \"max\": 5, \"sum\": 5, \"var\": 0.0, \"mean\": 5.0}, \"A2WLFHTOD6IYMM\": {\"count\": 1, \"std\": 0.0, \"min\": 1, \"max\": 1, \"sum\": 1, \"var\": 0.0, \"mean\": 1.0}, \"A3BKQG3JOEH2MV\": {\"count\": 1, \"std\": 0.0, \"min\": 5, \"max\": 5, \"sum\": 5, \"var\": 0.0, \"mean\": 5.0}, \"A2EWXWIIKVMI9R\": {\"count\": 1, \"std\": 0.0, \"min\": 3, \"max\": 3, \"sum\": 3, \"var\": 0.0, \"mean\": 3.0}, \"A29XKTCI71IMMP\": {\"count\": 1, \"std\": 0.0, \"min\": 3, \"max\": 3, \"sum\": 3, \"var\": 0.0, \"mean\": 3.0}, \"A2NYB1IZ4LUQHO\": {\"count\": 1, \"std\": 0.0, \"min\": 4, \"max\": 4, \"sum\": 4, \"var\": 0.0, \"mean\": 4.0}, \"A1YKDS47EUDSUG\": {\"count\": 1, \"std\": 0.0, \"min\": 1, \"max\": 1, \"sum\": 1, \"var\": 0.0, \"mean\": 1.0}}, \"omitted\": 2998}, \"columns\": [{\"dtype\": \"str\", \"name\": \"asin\"}, {\"dtype\": \"list\", \"name\": \"helpful\"}, {\"dtype\": \"int\", \"name\": \"overall\"}, {\"dtype\": \"str\", \"name\": \"reviewText\"}, {\"dtype\": \"str\", \"name\": \"reviewTime\"}, {\"dtype\": \"str\", \"name\": \"reviewerID\"}, {\"dtype\": \"str\", \"name\": \"reviewerName\"}, {\"dtype\": \"str\", \"name\": \"summary\"}, {\"dtype\": \"int\", \"name\": \"unixReviewTime\"}]}, e);\n",
       "                });\n",
       "            })();\n",
       "        "
      ]
     },
     "metadata": {},
     "output_type": "display_data"
    }
   ],
   "source": [
    "# Green: num. of review per reviewer\n",
    "# Yellow: mean rating per reviewer\n",
    "# Purple: Std of ratings per reviewer\n",
    "Sport_balanced.show(view = 'Bar Chart', x = 'reviewerID')"
   ]
  },
  {
   "cell_type": "markdown",
   "metadata": {},
   "source": [
    "![](images/R_count_mean.png)"
   ]
  },
  {
   "cell_type": "markdown",
   "metadata": {},
   "source": [
    "![](images/R_std.png)"
   ]
  },
  {
   "cell_type": "markdown",
   "metadata": {},
   "source": [
    "**What to note:**\n",
    "* Large majority of Reviewer only give at most 1 review\n",
    "* Max number of review is around 20\n",
    "* Mean rating is again nicely distributed (balanced)\n",
    "* A Reviewer's ratings has low variance (std ~ 1.0). Most reviewers either only complain or only praise"
   ]
  },
  {
   "cell_type": "markdown",
   "metadata": {},
   "source": [
    "# Feature Engineering"
   ]
  },
  {
   "cell_type": "code",
   "execution_count": 10,
   "metadata": {
    "collapsed": true
   },
   "outputs": [],
   "source": [
    "# Only keep features of interest\n",
    "Sport_sf = Sport_balanced[['overall', 'reviewText', 'summary']]"
   ]
  },
  {
   "cell_type": "markdown",
   "metadata": {},
   "source": [
    "## Binary Sentiement Feature\n",
    "** Let's get rid of ratings = 3 (assumed neutral) for the moment being**"
   ]
  },
  {
   "cell_type": "code",
   "execution_count": null,
   "metadata": {
    "collapsed": true
   },
   "outputs": [],
   "source": [
    "def binarize_rating(rating):\n",
    "    if rating > 3:\n",
    "        return 1\n",
    "    elif rating < 3:\n",
    "        return"
   ]
  },
  {
   "cell_type": "code",
   "execution_count": 11,
   "metadata": {
    "collapsed": true
   },
   "outputs": [],
   "source": [
    "Sport_sf = Sport_sf[Sport_sf['overall'] != 3]"
   ]
  },
  {
   "cell_type": "code",
   "execution_count": 13,
   "metadata": {
    "collapsed": false,
    "scrolled": false
   },
   "outputs": [
    {
     "data": {
      "text/html": [
       "<div style=\"max-height:1000px;max-width:1500px;overflow:auto;\"><table frame=\"box\" rules=\"cols\">\n",
       "    <tr>\n",
       "        <th style=\"padding-left: 1em; padding-right: 1em; text-align: center\">overall</th>\n",
       "        <th style=\"padding-left: 1em; padding-right: 1em; text-align: center\">reviewText</th>\n",
       "        <th style=\"padding-left: 1em; padding-right: 1em; text-align: center\">summary</th>\n",
       "        <th style=\"padding-left: 1em; padding-right: 1em; text-align: center\">sentiment</th>\n",
       "    </tr>\n",
       "    <tr>\n",
       "        <td style=\"padding-left: 1em; padding-right: 1em; text-align: center; vertical-align: top\">5</td>\n",
       "        <td style=\"padding-left: 1em; padding-right: 1em; text-align: center; vertical-align: top\">I love this chair for<br>using at my computer. ...</td>\n",
       "        <td style=\"padding-left: 1em; padding-right: 1em; text-align: center; vertical-align: top\">Great chair</td>\n",
       "        <td style=\"padding-left: 1em; padding-right: 1em; text-align: center; vertical-align: top\">1</td>\n",
       "    </tr>\n",
       "    <tr>\n",
       "        <td style=\"padding-left: 1em; padding-right: 1em; text-align: center; vertical-align: top\">2</td>\n",
       "        <td style=\"padding-left: 1em; padding-right: 1em; text-align: center; vertical-align: top\">My Kindergartener uses<br>this lock to secure her ...</td>\n",
       "        <td style=\"padding-left: 1em; padding-right: 1em; text-align: center; vertical-align: top\">Falls apart and gets<br>stuck ...</td>\n",
       "        <td style=\"padding-left: 1em; padding-right: 1em; text-align: center; vertical-align: top\">0</td>\n",
       "    </tr>\n",
       "    <tr>\n",
       "        <td style=\"padding-left: 1em; padding-right: 1em; text-align: center; vertical-align: top\">2</td>\n",
       "        <td style=\"padding-left: 1em; padding-right: 1em; text-align: center; vertical-align: top\">Such a let down! I tried<br>to use this mat last ...</td>\n",
       "        <td style=\"padding-left: 1em; padding-right: 1em; text-align: center; vertical-align: top\">So slippery!</td>\n",
       "        <td style=\"padding-left: 1em; padding-right: 1em; text-align: center; vertical-align: top\">0</td>\n",
       "    </tr>\n",
       "    <tr>\n",
       "        <td style=\"padding-left: 1em; padding-right: 1em; text-align: center; vertical-align: top\">2</td>\n",
       "        <td style=\"padding-left: 1em; padding-right: 1em; text-align: center; vertical-align: top\">I was looking forward to<br>using this. The Picture ...</td>\n",
       "        <td style=\"padding-left: 1em; padding-right: 1em; text-align: center; vertical-align: top\">Too Bad</td>\n",
       "        <td style=\"padding-left: 1em; padding-right: 1em; text-align: center; vertical-align: top\">0</td>\n",
       "    </tr>\n",
       "    <tr>\n",
       "        <td style=\"padding-left: 1em; padding-right: 1em; text-align: center; vertical-align: top\">5</td>\n",
       "        <td style=\"padding-left: 1em; padding-right: 1em; text-align: center; vertical-align: top\">Purchased my first full<br>carbon bike and was told ...</td>\n",
       "        <td style=\"padding-left: 1em; padding-right: 1em; text-align: center; vertical-align: top\">Great Tool</td>\n",
       "        <td style=\"padding-left: 1em; padding-right: 1em; text-align: center; vertical-align: top\">1</td>\n",
       "    </tr>\n",
       "    <tr>\n",
       "        <td style=\"padding-left: 1em; padding-right: 1em; text-align: center; vertical-align: top\">4</td>\n",
       "        <td style=\"padding-left: 1em; padding-right: 1em; text-align: center; vertical-align: top\">I got these for my 5 year<br>old daughter and she ...</td>\n",
       "        <td style=\"padding-left: 1em; padding-right: 1em; text-align: center; vertical-align: top\">Big Hit with my Daughter</td>\n",
       "        <td style=\"padding-left: 1em; padding-right: 1em; text-align: center; vertical-align: top\">1</td>\n",
       "    </tr>\n",
       "    <tr>\n",
       "        <td style=\"padding-left: 1em; padding-right: 1em; text-align: center; vertical-align: top\">2</td>\n",
       "        <td style=\"padding-left: 1em; padding-right: 1em; text-align: center; vertical-align: top\">If I receive wat I ask<br>for, I don't like it too ...</td>\n",
       "        <td style=\"padding-left: 1em; padding-right: 1em; text-align: center; vertical-align: top\">Wasn't wat i wan't</td>\n",
       "        <td style=\"padding-left: 1em; padding-right: 1em; text-align: center; vertical-align: top\">0</td>\n",
       "    </tr>\n",
       "    <tr>\n",
       "        <td style=\"padding-left: 1em; padding-right: 1em; text-align: center; vertical-align: top\">5</td>\n",
       "        <td style=\"padding-left: 1em; padding-right: 1em; text-align: center; vertical-align: top\">quality is not very good,<br>but it's good enough for ...</td>\n",
       "        <td style=\"padding-left: 1em; padding-right: 1em; text-align: center; vertical-align: top\">good enough</td>\n",
       "        <td style=\"padding-left: 1em; padding-right: 1em; text-align: center; vertical-align: top\">1</td>\n",
       "    </tr>\n",
       "    <tr>\n",
       "        <td style=\"padding-left: 1em; padding-right: 1em; text-align: center; vertical-align: top\">2</td>\n",
       "        <td style=\"padding-left: 1em; padding-right: 1em; text-align: center; vertical-align: top\">In the description it<br>says it fits a 48\" waist ...</td>\n",
       "        <td style=\"padding-left: 1em; padding-right: 1em; text-align: center; vertical-align: top\">48\" waist?  I think not</td>\n",
       "        <td style=\"padding-left: 1em; padding-right: 1em; text-align: center; vertical-align: top\">0</td>\n",
       "    </tr>\n",
       "    <tr>\n",
       "        <td style=\"padding-left: 1em; padding-right: 1em; text-align: center; vertical-align: top\">5</td>\n",
       "        <td style=\"padding-left: 1em; padding-right: 1em; text-align: center; vertical-align: top\">This Watch is Sharp!, it<br>looks a lot like a Watch ...</td>\n",
       "        <td style=\"padding-left: 1em; padding-right: 1em; text-align: center; vertical-align: top\">Worth Every Penny in The<br>Gold Box ...</td>\n",
       "        <td style=\"padding-left: 1em; padding-right: 1em; text-align: center; vertical-align: top\">1</td>\n",
       "    </tr>\n",
       "</table>\n",
       "[768312 rows x 4 columns]<br/>Note: Only the head of the SFrame is printed.<br/>You can use print_rows(num_rows=m, num_columns=n) to print more rows and columns.\n",
       "</div>"
      ],
      "text/plain": [
       "Columns:\n",
       "\toverall\tint\n",
       "\treviewText\tstr\n",
       "\tsummary\tstr\n",
       "\tsentiment\tint\n",
       "\n",
       "Rows: 768312\n",
       "\n",
       "Data:\n",
       "+---------+-------------------------------+-------------------------------+-----------+\n",
       "| overall |           reviewText          |            summary            | sentiment |\n",
       "+---------+-------------------------------+-------------------------------+-----------+\n",
       "|    5    | I love this chair for usin... |          Great chair          |     1     |\n",
       "|    2    | My Kindergartener uses thi... |   Falls apart and gets stuck  |     0     |\n",
       "|    2    | Such a let down! I tried t... |          So slippery!         |     0     |\n",
       "|    2    | I was looking forward to u... |            Too Bad            |     0     |\n",
       "|    5    | Purchased my first full ca... |           Great Tool          |     1     |\n",
       "|    4    | I got these for my 5 year ... |    Big Hit with my Daughter   |     1     |\n",
       "|    2    | If I receive wat I ask for... |       Wasn't wat i wan't      |     0     |\n",
       "|    5    | quality is not very good, ... |          good enough          |     1     |\n",
       "|    2    | In the description it says... |    48\" waist?  I think not    |     0     |\n",
       "|    5    | This Watch is Sharp!, it l... | Worth Every Penny in The G... |     1     |\n",
       "+---------+-------------------------------+-------------------------------+-----------+\n",
       "[768312 rows x 4 columns]\n",
       "Note: Only the head of the SFrame is printed.\n",
       "You can use print_rows(num_rows=m, num_columns=n) to print more rows and columns."
      ]
     },
     "execution_count": 13,
     "metadata": {},
     "output_type": "execute_result"
    }
   ],
   "source": [
    "Sport_sf.add_column(data = Sport_sf['overall'] > 3, name = 'sentiment')"
   ]
  },
  {
   "cell_type": "code",
   "execution_count": 15,
   "metadata": {
    "collapsed": true
   },
   "outputs": [],
   "source": [
    "Sport_sf.export_json(filename = '/Users/marvinbertin/Desktop/data/Sport_sentiment', orient = 'lines')"
   ]
  },
  {
   "cell_type": "code",
   "execution_count": 18,
   "metadata": {
    "collapsed": false
   },
   "outputs": [
    {
     "name": "stdout",
     "output_type": "stream",
     "text": [
      "PROGRESS: Finished parsing file /Users/marvinbertin/Desktop/data/Sport_sentiment\n",
      "PROGRESS: Parsing completed. Parsed 100 lines in 0.730297 secs.\n",
      "------------------------------------------------------\n",
      "Inferred types from first line of file as \n",
      "column_type_hints=[dict]\n",
      "If parsing fails due to incorrect types, you can correct\n",
      "the inferred type list above and pass it to read_csv in\n",
      "the column_type_hints argument\n",
      "------------------------------------------------------\n",
      "PROGRESS: Read 113078 lines. Lines per second: 72964.1\n",
      "PROGRESS: Read 675774 lines. Lines per second: 100642\n",
      "PROGRESS: Finished parsing file /Users/marvinbertin/Desktop/data/Sport_sentiment\n",
      "PROGRESS: Parsing completed. Parsed 768312 lines in 7.3485 secs.\n"
     ]
    }
   ],
   "source": [
    "Sport_sf = load_json_from_file('/Users/marvinbertin/Desktop/data/Sport_sentiment')"
   ]
  },
  {
   "cell_type": "markdown",
   "metadata": {},
   "source": [
    "# Unigram"
   ]
  },
  {
   "cell_type": "code",
   "execution_count": 19,
   "metadata": {
    "collapsed": false
   },
   "outputs": [
    {
     "data": {
      "text/html": [
       "<div style=\"max-height:1000px;max-width:1500px;overflow:auto;\"><table frame=\"box\" rules=\"cols\">\n",
       "    <tr>\n",
       "        <th style=\"padding-left: 1em; padding-right: 1em; text-align: center\">reviewText</th>\n",
       "        <th style=\"padding-left: 1em; padding-right: 1em; text-align: center\">sentiment</th>\n",
       "        <th style=\"padding-left: 1em; padding-right: 1em; text-align: center\">Unigram</th>\n",
       "    </tr>\n",
       "    <tr>\n",
       "        <td style=\"padding-left: 1em; padding-right: 1em; text-align: center; vertical-align: top\">I love this chair for<br>using at my computer. ...</td>\n",
       "        <td style=\"padding-left: 1em; padding-right: 1em; text-align: center; vertical-align: top\">1</td>\n",
       "        <td style=\"padding-left: 1em; padding-right: 1em; text-align: center; vertical-align: top\">{'and': 1, 'purported':<br>1, 'love': 1, 'help': 1, ...</td>\n",
       "    </tr>\n",
       "    <tr>\n",
       "        <td style=\"padding-left: 1em; padding-right: 1em; text-align: center; vertical-align: top\">My Kindergartener uses<br>this lock to secure her ...</td>\n",
       "        <td style=\"padding-left: 1em; padding-right: 1em; text-align: center; vertical-align: top\">0</td>\n",
       "        <td style=\"padding-left: 1em; padding-right: 1em; text-align: center; vertical-align: top\">{'and': 2, 'secure': 1,<br>'lock': 4, 'is': 1, ...</td>\n",
       "    </tr>\n",
       "    <tr>\n",
       "        <td style=\"padding-left: 1em; padding-right: 1em; text-align: center; vertical-align: top\">Such a let down! I tried<br>to use this mat last ...</td>\n",
       "        <td style=\"padding-left: 1em; padding-right: 1em; text-align: center; vertical-align: top\">0</td>\n",
       "        <td style=\"padding-left: 1em; padding-right: 1em; text-align: center; vertical-align: top\">{'and': 3, 'pose': 1,<br>'within': 1, 'cheap': 1, ...</td>\n",
       "    </tr>\n",
       "    <tr>\n",
       "        <td style=\"padding-left: 1em; padding-right: 1em; text-align: center; vertical-align: top\">I was looking forward to<br>using this. The Picture ...</td>\n",
       "        <td style=\"padding-left: 1em; padding-right: 1em; text-align: center; vertical-align: top\">0</td>\n",
       "        <td style=\"padding-left: 1em; padding-right: 1em; text-align: center; vertical-align: top\">{'and': 1, 'right': 2,<br>'is': 1, 'it': 1, ...</td>\n",
       "    </tr>\n",
       "    <tr>\n",
       "        <td style=\"padding-left: 1em; padding-right: 1em; text-align: center; vertical-align: top\">Purchased my first full<br>carbon bike and was told ...</td>\n",
       "        <td style=\"padding-left: 1em; padding-right: 1em; text-align: center; vertical-align: top\">1</td>\n",
       "        <td style=\"padding-left: 1em; padding-right: 1em; text-align: center; vertical-align: top\">{'cyclers': 1, 'bike': 1,<br>'all': 1, 'bicycle': 2, ...</td>\n",
       "    </tr>\n",
       "    <tr>\n",
       "        <td style=\"padding-left: 1em; padding-right: 1em; text-align: center; vertical-align: top\">I got these for my 5 year<br>old daughter and she ...</td>\n",
       "        <td style=\"padding-left: 1em; padding-right: 1em; text-align: center; vertical-align: top\">1</td>\n",
       "        <td style=\"padding-left: 1em; padding-right: 1em; text-align: center; vertical-align: top\">{'and': 3, 'old': 1,<br>'thus': 1, 'are': 1, ...</td>\n",
       "    </tr>\n",
       "    <tr>\n",
       "        <td style=\"padding-left: 1em; padding-right: 1em; text-align: center; vertical-align: top\">If I receive wat I ask<br>for, I don't like it too ...</td>\n",
       "        <td style=\"padding-left: 1em; padding-right: 1em; text-align: center; vertical-align: top\">0</td>\n",
       "        <td style=\"padding-left: 1em; padding-right: 1em; text-align: center; vertical-align: top\">{'don': 1, 'like': 1,<br>'for': 1, 'that': 2, ...</td>\n",
       "    </tr>\n",
       "    <tr>\n",
       "        <td style=\"padding-left: 1em; padding-right: 1em; text-align: center; vertical-align: top\">quality is not very good,<br>but it's good enough for ...</td>\n",
       "        <td style=\"padding-left: 1em; padding-right: 1em; text-align: center; vertical-align: top\">1</td>\n",
       "        <td style=\"padding-left: 1em; padding-right: 1em; text-align: center; vertical-align: top\">{'and': 1, 'deal': 1,<br>'is': 1, 'cheap': 1, ...</td>\n",
       "    </tr>\n",
       "    <tr>\n",
       "        <td style=\"padding-left: 1em; padding-right: 1em; text-align: center; vertical-align: top\">In the description it<br>says it fits a 48\" waist ...</td>\n",
       "        <td style=\"padding-left: 1em; padding-right: 1em; text-align: center; vertical-align: top\">0</td>\n",
       "        <td style=\"padding-left: 1em; padding-right: 1em; text-align: center; vertical-align: top\">{'and': 1, 'work': 1,<br>'wear': 2, 'have': 1, ...</td>\n",
       "    </tr>\n",
       "    <tr>\n",
       "        <td style=\"padding-left: 1em; padding-right: 1em; text-align: center; vertical-align: top\">This Watch is Sharp!, it<br>looks a lot like a Watch ...</td>\n",
       "        <td style=\"padding-left: 1em; padding-right: 1em; text-align: center; vertical-align: top\">1</td>\n",
       "        <td style=\"padding-left: 1em; padding-right: 1em; text-align: center; vertical-align: top\">{'150': 1, 'all': 1,<br>'because': 1, 'love': 1, ...</td>\n",
       "    </tr>\n",
       "</table>\n",
       "[768312 rows x 3 columns]<br/>Note: Only the head of the SFrame is printed.<br/>You can use print_rows(num_rows=m, num_columns=n) to print more rows and columns.\n",
       "</div>"
      ],
      "text/plain": [
       "Columns:\n",
       "\treviewText\tstr\n",
       "\tsentiment\tint\n",
       "\tUnigram\tdict\n",
       "\n",
       "Rows: 768312\n",
       "\n",
       "Data:\n",
       "+-------------------------------+-----------+-------------------------------+\n",
       "|           reviewText          | sentiment |            Unigram            |\n",
       "+-------------------------------+-----------+-------------------------------+\n",
       "| I love this chair for usin... |     1     | {'and': 1, 'purported': 1,... |\n",
       "| My Kindergartener uses thi... |     0     | {'and': 2, 'secure': 1, 'l... |\n",
       "| Such a let down! I tried t... |     0     | {'and': 3, 'pose': 1, 'wit... |\n",
       "| I was looking forward to u... |     0     | {'and': 1, 'right': 2, 'is... |\n",
       "| Purchased my first full ca... |     1     | {'cyclers': 1, 'bike': 1, ... |\n",
       "| I got these for my 5 year ... |     1     | {'and': 3, 'old': 1, 'thus... |\n",
       "| If I receive wat I ask for... |     0     | {'don': 1, 'like': 1, 'for... |\n",
       "| quality is not very good, ... |     1     | {'and': 1, 'deal': 1, 'is'... |\n",
       "| In the description it says... |     0     | {'and': 1, 'work': 1, 'wea... |\n",
       "| This Watch is Sharp!, it l... |     1     | {'150': 1, 'all': 1, 'beca... |\n",
       "+-------------------------------+-----------+-------------------------------+\n",
       "[768312 rows x 3 columns]\n",
       "Note: Only the head of the SFrame is printed.\n",
       "You can use print_rows(num_rows=m, num_columns=n) to print more rows and columns."
      ]
     },
     "execution_count": 19,
     "metadata": {},
     "output_type": "execute_result"
    }
   ],
   "source": [
    "Sport_review = Sport_sf[['reviewText', 'sentiment']]\n",
    "Sport_review.add_column(gl.text_analytics.count_ngrams(Sport_review['reviewText'], n = 1),\n",
    "                        name = 'Unigram')"
   ]
  },
  {
   "cell_type": "markdown",
   "metadata": {},
   "source": [
    "# Bigram"
   ]
  },
  {
   "cell_type": "code",
   "execution_count": 20,
   "metadata": {
    "collapsed": false,
    "scrolled": false
   },
   "outputs": [
    {
     "data": {
      "text/html": [
       "<div style=\"max-height:1000px;max-width:1500px;overflow:auto;\"><table frame=\"box\" rules=\"cols\">\n",
       "    <tr>\n",
       "        <th style=\"padding-left: 1em; padding-right: 1em; text-align: center\">reviewText</th>\n",
       "        <th style=\"padding-left: 1em; padding-right: 1em; text-align: center\">sentiment</th>\n",
       "        <th style=\"padding-left: 1em; padding-right: 1em; text-align: center\">Unigram</th>\n",
       "        <th style=\"padding-left: 1em; padding-right: 1em; text-align: center\">Bigram</th>\n",
       "    </tr>\n",
       "    <tr>\n",
       "        <td style=\"padding-left: 1em; padding-right: 1em; text-align: center; vertical-align: top\">I love this chair for<br>using at my computer. ...</td>\n",
       "        <td style=\"padding-left: 1em; padding-right: 1em; text-align: center; vertical-align: top\">1</td>\n",
       "        <td style=\"padding-left: 1em; padding-right: 1em; text-align: center; vertical-align: top\">{'and': 1, 'purported':<br>1, 'love': 1, 'help': 1, ...</td>\n",
       "        <td style=\"padding-left: 1em; padding-right: 1em; text-align: center; vertical-align: top\">{'second one': 1, 'see<br>it': 1, 'help your': 1, ...</td>\n",
       "    </tr>\n",
       "    <tr>\n",
       "        <td style=\"padding-left: 1em; padding-right: 1em; text-align: center; vertical-align: top\">My Kindergartener uses<br>this lock to secure her ...</td>\n",
       "        <td style=\"padding-left: 1em; padding-right: 1em; text-align: center; vertical-align: top\">0</td>\n",
       "        <td style=\"padding-left: 1em; padding-right: 1em; text-align: center; vertical-align: top\">{'and': 2, 'secure': 1,<br>'lock': 4, 'is': 1, ...</td>\n",
       "        <td style=\"padding-left: 1em; padding-right: 1em; text-align: center; vertical-align: top\">{'at school': 1, 'cable<br>the': 1, 'word lock': 1, ...</td>\n",
       "    </tr>\n",
       "    <tr>\n",
       "        <td style=\"padding-left: 1em; padding-right: 1em; text-align: center; vertical-align: top\">Such a let down! I tried<br>to use this mat last ...</td>\n",
       "        <td style=\"padding-left: 1em; padding-right: 1em; text-align: center; vertical-align: top\">0</td>\n",
       "        <td style=\"padding-left: 1em; padding-right: 1em; text-align: center; vertical-align: top\">{'and': 3, 'pose': 1,<br>'within': 1, 'cheap': 1, ...</td>\n",
       "        <td style=\"padding-left: 1em; padding-right: 1em; text-align: center; vertical-align: top\">{'target the': 1, 'with<br>my': 1, 'mat and': 1, 'a ...</td>\n",
       "    </tr>\n",
       "    <tr>\n",
       "        <td style=\"padding-left: 1em; padding-right: 1em; text-align: center; vertical-align: top\">I was looking forward to<br>using this. The Picture ...</td>\n",
       "        <td style=\"padding-left: 1em; padding-right: 1em; text-align: center; vertical-align: top\">0</td>\n",
       "        <td style=\"padding-left: 1em; padding-right: 1em; text-align: center; vertical-align: top\">{'and': 1, 'right': 2,<br>'is': 1, 'it': 1, ...</td>\n",
       "        <td style=\"padding-left: 1em; padding-right: 1em; text-align: center; vertical-align: top\">{'the picture': 1,<br>'change it': 1, 'i was': ...</td>\n",
       "    </tr>\n",
       "    <tr>\n",
       "        <td style=\"padding-left: 1em; padding-right: 1em; text-align: center; vertical-align: top\">Purchased my first full<br>carbon bike and was told ...</td>\n",
       "        <td style=\"padding-left: 1em; padding-right: 1em; text-align: center; vertical-align: top\">1</td>\n",
       "        <td style=\"padding-left: 1em; padding-right: 1em; text-align: center; vertical-align: top\">{'cyclers': 1, 'bike': 1,<br>'all': 1, 'bicycle': 2, ...</td>\n",
       "        <td style=\"padding-left: 1em; padding-right: 1em; text-align: center; vertical-align: top\">{'it in': 1, 'at the': 1,<br>'price i': 1, 'handle ...</td>\n",
       "    </tr>\n",
       "    <tr>\n",
       "        <td style=\"padding-left: 1em; padding-right: 1em; text-align: center; vertical-align: top\">I got these for my 5 year<br>old daughter and she ...</td>\n",
       "        <td style=\"padding-left: 1em; padding-right: 1em; text-align: center; vertical-align: top\">1</td>\n",
       "        <td style=\"padding-left: 1em; padding-right: 1em; text-align: center; vertical-align: top\">{'and': 3, 'old': 1,<br>'thus': 1, 'are': 1, ...</td>\n",
       "        <td style=\"padding-left: 1em; padding-right: 1em; text-align: center; vertical-align: top\">{'been pretty': 1, 'she<br>loves': 1, 'loves them': ...</td>\n",
       "    </tr>\n",
       "    <tr>\n",
       "        <td style=\"padding-left: 1em; padding-right: 1em; text-align: center; vertical-align: top\">If I receive wat I ask<br>for, I don't like it too ...</td>\n",
       "        <td style=\"padding-left: 1em; padding-right: 1em; text-align: center; vertical-align: top\">0</td>\n",
       "        <td style=\"padding-left: 1em; padding-right: 1em; text-align: center; vertical-align: top\">{'don': 1, 'like': 1,<br>'for': 1, 'that': 2, ...</td>\n",
       "        <td style=\"padding-left: 1em; padding-right: 1em; text-align: center; vertical-align: top\">{'for i': 1, 'that is':<br>1, 'i ask': 1, 'if i' ...</td>\n",
       "    </tr>\n",
       "    <tr>\n",
       "        <td style=\"padding-left: 1em; padding-right: 1em; text-align: center; vertical-align: top\">quality is not very good,<br>but it's good enough for ...</td>\n",
       "        <td style=\"padding-left: 1em; padding-right: 1em; text-align: center; vertical-align: top\">1</td>\n",
       "        <td style=\"padding-left: 1em; padding-right: 1em; text-align: center; vertical-align: top\">{'and': 1, 'deal': 1,<br>'is': 1, 'cheap': 1, ...</td>\n",
       "        <td style=\"padding-left: 1em; padding-right: 1em; text-align: center; vertical-align: top\">{'ski no': 1, 'is not':<br>1, 's good': 1, 'for a': ...</td>\n",
       "    </tr>\n",
       "    <tr>\n",
       "        <td style=\"padding-left: 1em; padding-right: 1em; text-align: center; vertical-align: top\">In the description it<br>says it fits a 48\" waist ...</td>\n",
       "        <td style=\"padding-left: 1em; padding-right: 1em; text-align: center; vertical-align: top\">0</td>\n",
       "        <td style=\"padding-left: 1em; padding-right: 1em; text-align: center; vertical-align: top\">{'and': 1, 'work': 1,<br>'wear': 2, 'have': 1, ...</td>\n",
       "        <td style=\"padding-left: 1em; padding-right: 1em; text-align: center; vertical-align: top\">{'with it': 1, 'it in':<br>1, 'if you': 1, 'broader ...</td>\n",
       "    </tr>\n",
       "    <tr>\n",
       "        <td style=\"padding-left: 1em; padding-right: 1em; text-align: center; vertical-align: top\">This Watch is Sharp!, it<br>looks a lot like a Watch ...</td>\n",
       "        <td style=\"padding-left: 1em; padding-right: 1em; text-align: center; vertical-align: top\">1</td>\n",
       "        <td style=\"padding-left: 1em; padding-right: 1em; text-align: center; vertical-align: top\">{'150': 1, 'all': 1,<br>'because': 1, 'love': 1, ...</td>\n",
       "        <td style=\"padding-left: 1em; padding-right: 1em; text-align: center; vertical-align: top\">{'so good': 1, 'swiss<br>movement': 1, 'watch p': ...</td>\n",
       "    </tr>\n",
       "</table>\n",
       "[768312 rows x 4 columns]<br/>Note: Only the head of the SFrame is printed.<br/>You can use print_rows(num_rows=m, num_columns=n) to print more rows and columns.\n",
       "</div>"
      ],
      "text/plain": [
       "Columns:\n",
       "\treviewText\tstr\n",
       "\tsentiment\tint\n",
       "\tUnigram\tdict\n",
       "\tBigram\tdict\n",
       "\n",
       "Rows: 768312\n",
       "\n",
       "Data:\n",
       "+-------------------------------+-----------+-------------------------------+\n",
       "|           reviewText          | sentiment |            Unigram            |\n",
       "+-------------------------------+-----------+-------------------------------+\n",
       "| I love this chair for usin... |     1     | {'and': 1, 'purported': 1,... |\n",
       "| My Kindergartener uses thi... |     0     | {'and': 2, 'secure': 1, 'l... |\n",
       "| Such a let down! I tried t... |     0     | {'and': 3, 'pose': 1, 'wit... |\n",
       "| I was looking forward to u... |     0     | {'and': 1, 'right': 2, 'is... |\n",
       "| Purchased my first full ca... |     1     | {'cyclers': 1, 'bike': 1, ... |\n",
       "| I got these for my 5 year ... |     1     | {'and': 3, 'old': 1, 'thus... |\n",
       "| If I receive wat I ask for... |     0     | {'don': 1, 'like': 1, 'for... |\n",
       "| quality is not very good, ... |     1     | {'and': 1, 'deal': 1, 'is'... |\n",
       "| In the description it says... |     0     | {'and': 1, 'work': 1, 'wea... |\n",
       "| This Watch is Sharp!, it l... |     1     | {'150': 1, 'all': 1, 'beca... |\n",
       "+-------------------------------+-----------+-------------------------------+\n",
       "+-------------------------------+\n",
       "|             Bigram            |\n",
       "+-------------------------------+\n",
       "| {'second one': 1, 'see it'... |\n",
       "| {'at school': 1, 'cable th... |\n",
       "| {'target the': 1, 'with my... |\n",
       "| {'the picture': 1, 'change... |\n",
       "| {'it in': 1, 'at the': 1, ... |\n",
       "| {'been pretty': 1, 'she lo... |\n",
       "| {'for i': 1, 'that is': 1,... |\n",
       "| {'ski no': 1, 'is not': 1,... |\n",
       "| {'with it': 1, 'it in': 1,... |\n",
       "| {'so good': 1, 'swiss move... |\n",
       "+-------------------------------+\n",
       "[768312 rows x 4 columns]\n",
       "Note: Only the head of the SFrame is printed.\n",
       "You can use print_rows(num_rows=m, num_columns=n) to print more rows and columns."
      ]
     },
     "execution_count": 20,
     "metadata": {},
     "output_type": "execute_result"
    }
   ],
   "source": [
    "Sport_review.add_column(gl.text_analytics.count_ngrams(Sport_review['reviewText'], n = 2),\n",
    "                        name = 'Bigram')"
   ]
  },
  {
   "cell_type": "markdown",
   "metadata": {},
   "source": [
    "# Word Feature Model\n",
    "\n",
    "** Start with a simplistic model (Baseline), then increase model complexity **"
   ]
  },
  {
   "cell_type": "code",
   "execution_count": 19,
   "metadata": {
    "collapsed": true
   },
   "outputs": [],
   "source": [
    "sentiment_words = ['awesome', 'great', 'fantastic', 'amazing', 'love',\n",
    "                  'horrible', 'bad', 'terrible', 'awful', 'wow', 'hate']"
   ]
  },
  {
   "cell_type": "code",
   "execution_count": 20,
   "metadata": {
    "collapsed": true
   },
   "outputs": [],
   "source": [
    "def sentiment_word_count(unigram, word):\n",
    "    if word in unigram:\n",
    "        return unigram[word]\n",
    "    else:\n",
    "        return 0"
   ]
  },
  {
   "cell_type": "markdown",
   "metadata": {},
   "source": [
    "## Frequency Table of Positive and Negative Words"
   ]
  },
  {
   "cell_type": "code",
   "execution_count": 21,
   "metadata": {
    "collapsed": false
   },
   "outputs": [],
   "source": [
    "freq_table = gl.SFrame({'sentiment': Sport_review['sentiment']})\n",
    "\n",
    "for word in sentiment_words:\n",
    "    freq_table[word] = Sport_review['Unigram'].apply(lambda unigram: sentiment_word_count(unigram, word))"
   ]
  },
  {
   "cell_type": "code",
   "execution_count": 22,
   "metadata": {
    "collapsed": false
   },
   "outputs": [
    {
     "data": {
      "text/html": [
       "<div style=\"max-height:1000px;max-width:1500px;overflow:auto;\"><table frame=\"box\" rules=\"cols\">\n",
       "    <tr>\n",
       "        <th style=\"padding-left: 1em; padding-right: 1em; text-align: center\">sentiment</th>\n",
       "        <th style=\"padding-left: 1em; padding-right: 1em; text-align: center\">awesome</th>\n",
       "        <th style=\"padding-left: 1em; padding-right: 1em; text-align: center\">great</th>\n",
       "        <th style=\"padding-left: 1em; padding-right: 1em; text-align: center\">fantastic</th>\n",
       "        <th style=\"padding-left: 1em; padding-right: 1em; text-align: center\">amazing</th>\n",
       "        <th style=\"padding-left: 1em; padding-right: 1em; text-align: center\">love</th>\n",
       "        <th style=\"padding-left: 1em; padding-right: 1em; text-align: center\">horrible</th>\n",
       "        <th style=\"padding-left: 1em; padding-right: 1em; text-align: center\">bad</th>\n",
       "        <th style=\"padding-left: 1em; padding-right: 1em; text-align: center\">terrible</th>\n",
       "        <th style=\"padding-left: 1em; padding-right: 1em; text-align: center\">awful</th>\n",
       "        <th style=\"padding-left: 1em; padding-right: 1em; text-align: center\">wow</th>\n",
       "        <th style=\"padding-left: 1em; padding-right: 1em; text-align: center\">hate</th>\n",
       "    </tr>\n",
       "    <tr>\n",
       "        <td style=\"padding-left: 1em; padding-right: 1em; text-align: center; vertical-align: top\">1</td>\n",
       "        <td style=\"padding-left: 1em; padding-right: 1em; text-align: center; vertical-align: top\">0</td>\n",
       "        <td style=\"padding-left: 1em; padding-right: 1em; text-align: center; vertical-align: top\">0</td>\n",
       "        <td style=\"padding-left: 1em; padding-right: 1em; text-align: center; vertical-align: top\">0</td>\n",
       "        <td style=\"padding-left: 1em; padding-right: 1em; text-align: center; vertical-align: top\">0</td>\n",
       "        <td style=\"padding-left: 1em; padding-right: 1em; text-align: center; vertical-align: top\">1</td>\n",
       "        <td style=\"padding-left: 1em; padding-right: 1em; text-align: center; vertical-align: top\">0</td>\n",
       "        <td style=\"padding-left: 1em; padding-right: 1em; text-align: center; vertical-align: top\">0</td>\n",
       "        <td style=\"padding-left: 1em; padding-right: 1em; text-align: center; vertical-align: top\">0</td>\n",
       "        <td style=\"padding-left: 1em; padding-right: 1em; text-align: center; vertical-align: top\">0</td>\n",
       "        <td style=\"padding-left: 1em; padding-right: 1em; text-align: center; vertical-align: top\">0</td>\n",
       "        <td style=\"padding-left: 1em; padding-right: 1em; text-align: center; vertical-align: top\">0</td>\n",
       "    </tr>\n",
       "    <tr>\n",
       "        <td style=\"padding-left: 1em; padding-right: 1em; text-align: center; vertical-align: top\">0</td>\n",
       "        <td style=\"padding-left: 1em; padding-right: 1em; text-align: center; vertical-align: top\">0</td>\n",
       "        <td style=\"padding-left: 1em; padding-right: 1em; text-align: center; vertical-align: top\">0</td>\n",
       "        <td style=\"padding-left: 1em; padding-right: 1em; text-align: center; vertical-align: top\">0</td>\n",
       "        <td style=\"padding-left: 1em; padding-right: 1em; text-align: center; vertical-align: top\">0</td>\n",
       "        <td style=\"padding-left: 1em; padding-right: 1em; text-align: center; vertical-align: top\">0</td>\n",
       "        <td style=\"padding-left: 1em; padding-right: 1em; text-align: center; vertical-align: top\">0</td>\n",
       "        <td style=\"padding-left: 1em; padding-right: 1em; text-align: center; vertical-align: top\">0</td>\n",
       "        <td style=\"padding-left: 1em; padding-right: 1em; text-align: center; vertical-align: top\">0</td>\n",
       "        <td style=\"padding-left: 1em; padding-right: 1em; text-align: center; vertical-align: top\">0</td>\n",
       "        <td style=\"padding-left: 1em; padding-right: 1em; text-align: center; vertical-align: top\">0</td>\n",
       "        <td style=\"padding-left: 1em; padding-right: 1em; text-align: center; vertical-align: top\">0</td>\n",
       "    </tr>\n",
       "    <tr>\n",
       "        <td style=\"padding-left: 1em; padding-right: 1em; text-align: center; vertical-align: top\">0</td>\n",
       "        <td style=\"padding-left: 1em; padding-right: 1em; text-align: center; vertical-align: top\">0</td>\n",
       "        <td style=\"padding-left: 1em; padding-right: 1em; text-align: center; vertical-align: top\">0</td>\n",
       "        <td style=\"padding-left: 1em; padding-right: 1em; text-align: center; vertical-align: top\">0</td>\n",
       "        <td style=\"padding-left: 1em; padding-right: 1em; text-align: center; vertical-align: top\">0</td>\n",
       "        <td style=\"padding-left: 1em; padding-right: 1em; text-align: center; vertical-align: top\">0</td>\n",
       "        <td style=\"padding-left: 1em; padding-right: 1em; text-align: center; vertical-align: top\">0</td>\n",
       "        <td style=\"padding-left: 1em; padding-right: 1em; text-align: center; vertical-align: top\">0</td>\n",
       "        <td style=\"padding-left: 1em; padding-right: 1em; text-align: center; vertical-align: top\">0</td>\n",
       "        <td style=\"padding-left: 1em; padding-right: 1em; text-align: center; vertical-align: top\">0</td>\n",
       "        <td style=\"padding-left: 1em; padding-right: 1em; text-align: center; vertical-align: top\">0</td>\n",
       "        <td style=\"padding-left: 1em; padding-right: 1em; text-align: center; vertical-align: top\">0</td>\n",
       "    </tr>\n",
       "    <tr>\n",
       "        <td style=\"padding-left: 1em; padding-right: 1em; text-align: center; vertical-align: top\">0</td>\n",
       "        <td style=\"padding-left: 1em; padding-right: 1em; text-align: center; vertical-align: top\">0</td>\n",
       "        <td style=\"padding-left: 1em; padding-right: 1em; text-align: center; vertical-align: top\">0</td>\n",
       "        <td style=\"padding-left: 1em; padding-right: 1em; text-align: center; vertical-align: top\">0</td>\n",
       "        <td style=\"padding-left: 1em; padding-right: 1em; text-align: center; vertical-align: top\">0</td>\n",
       "        <td style=\"padding-left: 1em; padding-right: 1em; text-align: center; vertical-align: top\">0</td>\n",
       "        <td style=\"padding-left: 1em; padding-right: 1em; text-align: center; vertical-align: top\">0</td>\n",
       "        <td style=\"padding-left: 1em; padding-right: 1em; text-align: center; vertical-align: top\">0</td>\n",
       "        <td style=\"padding-left: 1em; padding-right: 1em; text-align: center; vertical-align: top\">0</td>\n",
       "        <td style=\"padding-left: 1em; padding-right: 1em; text-align: center; vertical-align: top\">0</td>\n",
       "        <td style=\"padding-left: 1em; padding-right: 1em; text-align: center; vertical-align: top\">0</td>\n",
       "        <td style=\"padding-left: 1em; padding-right: 1em; text-align: center; vertical-align: top\">0</td>\n",
       "    </tr>\n",
       "    <tr>\n",
       "        <td style=\"padding-left: 1em; padding-right: 1em; text-align: center; vertical-align: top\">1</td>\n",
       "        <td style=\"padding-left: 1em; padding-right: 1em; text-align: center; vertical-align: top\">0</td>\n",
       "        <td style=\"padding-left: 1em; padding-right: 1em; text-align: center; vertical-align: top\">0</td>\n",
       "        <td style=\"padding-left: 1em; padding-right: 1em; text-align: center; vertical-align: top\">0</td>\n",
       "        <td style=\"padding-left: 1em; padding-right: 1em; text-align: center; vertical-align: top\">0</td>\n",
       "        <td style=\"padding-left: 1em; padding-right: 1em; text-align: center; vertical-align: top\">0</td>\n",
       "        <td style=\"padding-left: 1em; padding-right: 1em; text-align: center; vertical-align: top\">0</td>\n",
       "        <td style=\"padding-left: 1em; padding-right: 1em; text-align: center; vertical-align: top\">0</td>\n",
       "        <td style=\"padding-left: 1em; padding-right: 1em; text-align: center; vertical-align: top\">0</td>\n",
       "        <td style=\"padding-left: 1em; padding-right: 1em; text-align: center; vertical-align: top\">0</td>\n",
       "        <td style=\"padding-left: 1em; padding-right: 1em; text-align: center; vertical-align: top\">0</td>\n",
       "        <td style=\"padding-left: 1em; padding-right: 1em; text-align: center; vertical-align: top\">0</td>\n",
       "    </tr>\n",
       "    <tr>\n",
       "        <td style=\"padding-left: 1em; padding-right: 1em; text-align: center; vertical-align: top\">1</td>\n",
       "        <td style=\"padding-left: 1em; padding-right: 1em; text-align: center; vertical-align: top\">0</td>\n",
       "        <td style=\"padding-left: 1em; padding-right: 1em; text-align: center; vertical-align: top\">0</td>\n",
       "        <td style=\"padding-left: 1em; padding-right: 1em; text-align: center; vertical-align: top\">0</td>\n",
       "        <td style=\"padding-left: 1em; padding-right: 1em; text-align: center; vertical-align: top\">0</td>\n",
       "        <td style=\"padding-left: 1em; padding-right: 1em; text-align: center; vertical-align: top\">0</td>\n",
       "        <td style=\"padding-left: 1em; padding-right: 1em; text-align: center; vertical-align: top\">0</td>\n",
       "        <td style=\"padding-left: 1em; padding-right: 1em; text-align: center; vertical-align: top\">0</td>\n",
       "        <td style=\"padding-left: 1em; padding-right: 1em; text-align: center; vertical-align: top\">0</td>\n",
       "        <td style=\"padding-left: 1em; padding-right: 1em; text-align: center; vertical-align: top\">0</td>\n",
       "        <td style=\"padding-left: 1em; padding-right: 1em; text-align: center; vertical-align: top\">0</td>\n",
       "        <td style=\"padding-left: 1em; padding-right: 1em; text-align: center; vertical-align: top\">0</td>\n",
       "    </tr>\n",
       "    <tr>\n",
       "        <td style=\"padding-left: 1em; padding-right: 1em; text-align: center; vertical-align: top\">0</td>\n",
       "        <td style=\"padding-left: 1em; padding-right: 1em; text-align: center; vertical-align: top\">0</td>\n",
       "        <td style=\"padding-left: 1em; padding-right: 1em; text-align: center; vertical-align: top\">0</td>\n",
       "        <td style=\"padding-left: 1em; padding-right: 1em; text-align: center; vertical-align: top\">0</td>\n",
       "        <td style=\"padding-left: 1em; padding-right: 1em; text-align: center; vertical-align: top\">0</td>\n",
       "        <td style=\"padding-left: 1em; padding-right: 1em; text-align: center; vertical-align: top\">0</td>\n",
       "        <td style=\"padding-left: 1em; padding-right: 1em; text-align: center; vertical-align: top\">0</td>\n",
       "        <td style=\"padding-left: 1em; padding-right: 1em; text-align: center; vertical-align: top\">0</td>\n",
       "        <td style=\"padding-left: 1em; padding-right: 1em; text-align: center; vertical-align: top\">0</td>\n",
       "        <td style=\"padding-left: 1em; padding-right: 1em; text-align: center; vertical-align: top\">0</td>\n",
       "        <td style=\"padding-left: 1em; padding-right: 1em; text-align: center; vertical-align: top\">0</td>\n",
       "        <td style=\"padding-left: 1em; padding-right: 1em; text-align: center; vertical-align: top\">0</td>\n",
       "    </tr>\n",
       "    <tr>\n",
       "        <td style=\"padding-left: 1em; padding-right: 1em; text-align: center; vertical-align: top\">1</td>\n",
       "        <td style=\"padding-left: 1em; padding-right: 1em; text-align: center; vertical-align: top\">0</td>\n",
       "        <td style=\"padding-left: 1em; padding-right: 1em; text-align: center; vertical-align: top\">0</td>\n",
       "        <td style=\"padding-left: 1em; padding-right: 1em; text-align: center; vertical-align: top\">0</td>\n",
       "        <td style=\"padding-left: 1em; padding-right: 1em; text-align: center; vertical-align: top\">0</td>\n",
       "        <td style=\"padding-left: 1em; padding-right: 1em; text-align: center; vertical-align: top\">0</td>\n",
       "        <td style=\"padding-left: 1em; padding-right: 1em; text-align: center; vertical-align: top\">0</td>\n",
       "        <td style=\"padding-left: 1em; padding-right: 1em; text-align: center; vertical-align: top\">0</td>\n",
       "        <td style=\"padding-left: 1em; padding-right: 1em; text-align: center; vertical-align: top\">0</td>\n",
       "        <td style=\"padding-left: 1em; padding-right: 1em; text-align: center; vertical-align: top\">0</td>\n",
       "        <td style=\"padding-left: 1em; padding-right: 1em; text-align: center; vertical-align: top\">0</td>\n",
       "        <td style=\"padding-left: 1em; padding-right: 1em; text-align: center; vertical-align: top\">0</td>\n",
       "    </tr>\n",
       "    <tr>\n",
       "        <td style=\"padding-left: 1em; padding-right: 1em; text-align: center; vertical-align: top\">0</td>\n",
       "        <td style=\"padding-left: 1em; padding-right: 1em; text-align: center; vertical-align: top\">0</td>\n",
       "        <td style=\"padding-left: 1em; padding-right: 1em; text-align: center; vertical-align: top\">0</td>\n",
       "        <td style=\"padding-left: 1em; padding-right: 1em; text-align: center; vertical-align: top\">0</td>\n",
       "        <td style=\"padding-left: 1em; padding-right: 1em; text-align: center; vertical-align: top\">0</td>\n",
       "        <td style=\"padding-left: 1em; padding-right: 1em; text-align: center; vertical-align: top\">0</td>\n",
       "        <td style=\"padding-left: 1em; padding-right: 1em; text-align: center; vertical-align: top\">0</td>\n",
       "        <td style=\"padding-left: 1em; padding-right: 1em; text-align: center; vertical-align: top\">0</td>\n",
       "        <td style=\"padding-left: 1em; padding-right: 1em; text-align: center; vertical-align: top\">0</td>\n",
       "        <td style=\"padding-left: 1em; padding-right: 1em; text-align: center; vertical-align: top\">0</td>\n",
       "        <td style=\"padding-left: 1em; padding-right: 1em; text-align: center; vertical-align: top\">0</td>\n",
       "        <td style=\"padding-left: 1em; padding-right: 1em; text-align: center; vertical-align: top\">0</td>\n",
       "    </tr>\n",
       "    <tr>\n",
       "        <td style=\"padding-left: 1em; padding-right: 1em; text-align: center; vertical-align: top\">1</td>\n",
       "        <td style=\"padding-left: 1em; padding-right: 1em; text-align: center; vertical-align: top\">0</td>\n",
       "        <td style=\"padding-left: 1em; padding-right: 1em; text-align: center; vertical-align: top\">0</td>\n",
       "        <td style=\"padding-left: 1em; padding-right: 1em; text-align: center; vertical-align: top\">0</td>\n",
       "        <td style=\"padding-left: 1em; padding-right: 1em; text-align: center; vertical-align: top\">0</td>\n",
       "        <td style=\"padding-left: 1em; padding-right: 1em; text-align: center; vertical-align: top\">1</td>\n",
       "        <td style=\"padding-left: 1em; padding-right: 1em; text-align: center; vertical-align: top\">0</td>\n",
       "        <td style=\"padding-left: 1em; padding-right: 1em; text-align: center; vertical-align: top\">0</td>\n",
       "        <td style=\"padding-left: 1em; padding-right: 1em; text-align: center; vertical-align: top\">0</td>\n",
       "        <td style=\"padding-left: 1em; padding-right: 1em; text-align: center; vertical-align: top\">0</td>\n",
       "        <td style=\"padding-left: 1em; padding-right: 1em; text-align: center; vertical-align: top\">0</td>\n",
       "        <td style=\"padding-left: 1em; padding-right: 1em; text-align: center; vertical-align: top\">0</td>\n",
       "    </tr>\n",
       "</table>\n",
       "[10 rows x 12 columns]<br/>\n",
       "</div>"
      ],
      "text/plain": [
       "Columns:\n",
       "\tsentiment\tint\n",
       "\tawesome\tint\n",
       "\tgreat\tint\n",
       "\tfantastic\tint\n",
       "\tamazing\tint\n",
       "\tlove\tint\n",
       "\thorrible\tint\n",
       "\tbad\tint\n",
       "\tterrible\tint\n",
       "\tawful\tint\n",
       "\twow\tint\n",
       "\thate\tint\n",
       "\n",
       "Rows: 10\n",
       "\n",
       "Data:\n",
       "+-----------+---------+-------+-----------+---------+------+----------+-----+----------+\n",
       "| sentiment | awesome | great | fantastic | amazing | love | horrible | bad | terrible |\n",
       "+-----------+---------+-------+-----------+---------+------+----------+-----+----------+\n",
       "|     1     |    0    |   0   |     0     |    0    |  1   |    0     |  0  |    0     |\n",
       "|     0     |    0    |   0   |     0     |    0    |  0   |    0     |  0  |    0     |\n",
       "|     0     |    0    |   0   |     0     |    0    |  0   |    0     |  0  |    0     |\n",
       "|     0     |    0    |   0   |     0     |    0    |  0   |    0     |  0  |    0     |\n",
       "|     1     |    0    |   0   |     0     |    0    |  0   |    0     |  0  |    0     |\n",
       "|     1     |    0    |   0   |     0     |    0    |  0   |    0     |  0  |    0     |\n",
       "|     0     |    0    |   0   |     0     |    0    |  0   |    0     |  0  |    0     |\n",
       "|     1     |    0    |   0   |     0     |    0    |  0   |    0     |  0  |    0     |\n",
       "|     0     |    0    |   0   |     0     |    0    |  0   |    0     |  0  |    0     |\n",
       "|     1     |    0    |   0   |     0     |    0    |  1   |    0     |  0  |    0     |\n",
       "+-----------+---------+-------+-----------+---------+------+----------+-----+----------+\n",
       "+-------+-----+------+\n",
       "| awful | wow | hate |\n",
       "+-------+-----+------+\n",
       "|   0   |  0  |  0   |\n",
       "|   0   |  0  |  0   |\n",
       "|   0   |  0  |  0   |\n",
       "|   0   |  0  |  0   |\n",
       "|   0   |  0  |  0   |\n",
       "|   0   |  0  |  0   |\n",
       "|   0   |  0  |  0   |\n",
       "|   0   |  0  |  0   |\n",
       "|   0   |  0  |  0   |\n",
       "|   0   |  0  |  0   |\n",
       "+-------+-----+------+\n",
       "[10 rows x 12 columns]"
      ]
     },
     "execution_count": 22,
     "metadata": {},
     "output_type": "execute_result"
    }
   ],
   "source": [
    "freq_table.head()"
   ]
  },
  {
   "cell_type": "markdown",
   "metadata": {},
   "source": [
    "## Words with highest count"
   ]
  },
  {
   "cell_type": "code",
   "execution_count": 23,
   "metadata": {
    "collapsed": false
   },
   "outputs": [],
   "source": [
    "freq_count = []\n",
    "for word in sentiment_words:\n",
    "    freq_count.append(freq_table[word].sum())"
   ]
  },
  {
   "cell_type": "code",
   "execution_count": 35,
   "metadata": {
    "collapsed": false,
    "scrolled": true
   },
   "outputs": [
    {
     "name": "stdout",
     "output_type": "stream",
     "text": [
      "'great' occurs 184131 times.\n",
      "'love' occurs 54885 times.\n",
      "'bad' occurs 34779 times.\n",
      "'awesome' occurs 13277 times.\n",
      "'terrible' occurs 8285 times.\n",
      "'amazing' occurs 7327 times.\n",
      "'horrible' occurs 6702 times.\n",
      "'fantastic' occurs 4648 times.\n",
      "'hate' occurs 4516 times.\n",
      "'awful' occurs 3119 times.\n",
      "'wow' occurs 2475 times.\n"
     ]
    }
   ],
   "source": [
    "word_freq = zip(sentiment_words, freq_count)\n",
    "word_freq.sort(key = lambda t: t[1], reverse=True)\n",
    "\n",
    "for w, f in word_freq:\n",
    "    print \"'{}' occurs {} times.\".format(w, f)"
   ]
  },
  {
   "cell_type": "markdown",
   "metadata": {},
   "source": [
    "# Logistic Classifier "
   ]
  },
  {
   "cell_type": "code",
   "execution_count": 36,
   "metadata": {
    "collapsed": true
   },
   "outputs": [],
   "source": [
    "freq_train, freq_test = freq_table.random_split(0.8, seed=0)"
   ]
  },
  {
   "cell_type": "code",
   "execution_count": 38,
   "metadata": {
    "collapsed": false
   },
   "outputs": [
    {
     "name": "stdout",
     "output_type": "stream",
     "text": [
      "PROGRESS: Logistic regression:\n",
      "PROGRESS: --------------------------------------------------------\n",
      "PROGRESS: Number of examples          : 614877\n",
      "PROGRESS: Number of classes           : 2\n",
      "PROGRESS: Number of feature columns   : 11\n",
      "PROGRESS: Number of unpacked features : 11\n",
      "PROGRESS: Number of coefficients    : 12\n",
      "PROGRESS: Starting Newton Method\n",
      "PROGRESS: --------------------------------------------------------\n",
      "PROGRESS: +-----------+----------+--------------+-------------------+---------------------+\n",
      "PROGRESS: | Iteration | Passes   | Elapsed Time | Training-accuracy | Validation-accuracy |\n",
      "PROGRESS: +-----------+----------+--------------+-------------------+---------------------+\n",
      "PROGRESS: | 1         | 2        | 1.940671     | 0.622944          | 0.623991            |\n",
      "PROGRESS: | 2         | 3        | 2.526519     | 0.622972          | 0.624062            |\n",
      "PROGRESS: | 3         | 4        | 3.123392     | 0.623043          | 0.624030            |\n",
      "PROGRESS: | 4         | 5        | 3.713929     | 0.623051          | 0.624030            |\n",
      "PROGRESS: | 5         | 6        | 4.304004     | 0.623051          | 0.624030            |\n",
      "PROGRESS: +-----------+----------+--------------+-------------------+---------------------+\n",
      "PROGRESS: SUCCESS: Optimal solution found.\n",
      "PROGRESS:\n"
     ]
    }
   ],
   "source": [
    "feature_words_model = gl.logistic_classifier.create(freq_train,\n",
    "                                                    target = 'sentiment',\n",
    "                                                    features= sentiment_words,\n",
    "                                                    validation_set = freq_test)"
   ]
  },
  {
   "cell_type": "markdown",
   "metadata": {},
   "source": [
    "## Feature Coefficients"
   ]
  },
  {
   "cell_type": "code",
   "execution_count": 39,
   "metadata": {
    "collapsed": false,
    "scrolled": true
   },
   "outputs": [
    {
     "data": {
      "text/html": [
       "<div style=\"max-height:1000px;max-width:1500px;overflow:auto;\"><table frame=\"box\" rules=\"cols\">\n",
       "    <tr>\n",
       "        <th style=\"padding-left: 1em; padding-right: 1em; text-align: center\">name</th>\n",
       "        <th style=\"padding-left: 1em; padding-right: 1em; text-align: center\">index</th>\n",
       "        <th style=\"padding-left: 1em; padding-right: 1em; text-align: center\">class</th>\n",
       "        <th style=\"padding-left: 1em; padding-right: 1em; text-align: center\">value</th>\n",
       "    </tr>\n",
       "    <tr>\n",
       "        <td style=\"padding-left: 1em; padding-right: 1em; text-align: center; vertical-align: top\">horrible</td>\n",
       "        <td style=\"padding-left: 1em; padding-right: 1em; text-align: center; vertical-align: top\">None</td>\n",
       "        <td style=\"padding-left: 1em; padding-right: 1em; text-align: center; vertical-align: top\">1</td>\n",
       "        <td style=\"padding-left: 1em; padding-right: 1em; text-align: center; vertical-align: top\">-2.25928644233</td>\n",
       "    </tr>\n",
       "    <tr>\n",
       "        <td style=\"padding-left: 1em; padding-right: 1em; text-align: center; vertical-align: top\">terrible</td>\n",
       "        <td style=\"padding-left: 1em; padding-right: 1em; text-align: center; vertical-align: top\">None</td>\n",
       "        <td style=\"padding-left: 1em; padding-right: 1em; text-align: center; vertical-align: top\">1</td>\n",
       "        <td style=\"padding-left: 1em; padding-right: 1em; text-align: center; vertical-align: top\">-2.20243828841</td>\n",
       "    </tr>\n",
       "    <tr>\n",
       "        <td style=\"padding-left: 1em; padding-right: 1em; text-align: center; vertical-align: top\">awful</td>\n",
       "        <td style=\"padding-left: 1em; padding-right: 1em; text-align: center; vertical-align: top\">None</td>\n",
       "        <td style=\"padding-left: 1em; padding-right: 1em; text-align: center; vertical-align: top\">1</td>\n",
       "        <td style=\"padding-left: 1em; padding-right: 1em; text-align: center; vertical-align: top\">-1.97612582374</td>\n",
       "    </tr>\n",
       "    <tr>\n",
       "        <td style=\"padding-left: 1em; padding-right: 1em; text-align: center; vertical-align: top\">hate</td>\n",
       "        <td style=\"padding-left: 1em; padding-right: 1em; text-align: center; vertical-align: top\">None</td>\n",
       "        <td style=\"padding-left: 1em; padding-right: 1em; text-align: center; vertical-align: top\">1</td>\n",
       "        <td style=\"padding-left: 1em; padding-right: 1em; text-align: center; vertical-align: top\">-0.79701408614</td>\n",
       "    </tr>\n",
       "    <tr>\n",
       "        <td style=\"padding-left: 1em; padding-right: 1em; text-align: center; vertical-align: top\">bad</td>\n",
       "        <td style=\"padding-left: 1em; padding-right: 1em; text-align: center; vertical-align: top\">None</td>\n",
       "        <td style=\"padding-left: 1em; padding-right: 1em; text-align: center; vertical-align: top\">1</td>\n",
       "        <td style=\"padding-left: 1em; padding-right: 1em; text-align: center; vertical-align: top\">-0.773396493599</td>\n",
       "    </tr>\n",
       "    <tr>\n",
       "        <td style=\"padding-left: 1em; padding-right: 1em; text-align: center; vertical-align: top\">(intercept)</td>\n",
       "        <td style=\"padding-left: 1em; padding-right: 1em; text-align: center; vertical-align: top\">None</td>\n",
       "        <td style=\"padding-left: 1em; padding-right: 1em; text-align: center; vertical-align: top\">1</td>\n",
       "        <td style=\"padding-left: 1em; padding-right: 1em; text-align: center; vertical-align: top\">-0.177002708824</td>\n",
       "    </tr>\n",
       "    <tr>\n",
       "        <td style=\"padding-left: 1em; padding-right: 1em; text-align: center; vertical-align: top\">wow</td>\n",
       "        <td style=\"padding-left: 1em; padding-right: 1em; text-align: center; vertical-align: top\">None</td>\n",
       "        <td style=\"padding-left: 1em; padding-right: 1em; text-align: center; vertical-align: top\">1</td>\n",
       "        <td style=\"padding-left: 1em; padding-right: 1em; text-align: center; vertical-align: top\">-0.0485853523986</td>\n",
       "    </tr>\n",
       "    <tr>\n",
       "        <td style=\"padding-left: 1em; padding-right: 1em; text-align: center; vertical-align: top\">great</td>\n",
       "        <td style=\"padding-left: 1em; padding-right: 1em; text-align: center; vertical-align: top\">None</td>\n",
       "        <td style=\"padding-left: 1em; padding-right: 1em; text-align: center; vertical-align: top\">1</td>\n",
       "        <td style=\"padding-left: 1em; padding-right: 1em; text-align: center; vertical-align: top\">1.11010078649</td>\n",
       "    </tr>\n",
       "    <tr>\n",
       "        <td style=\"padding-left: 1em; padding-right: 1em; text-align: center; vertical-align: top\">fantastic</td>\n",
       "        <td style=\"padding-left: 1em; padding-right: 1em; text-align: center; vertical-align: top\">None</td>\n",
       "        <td style=\"padding-left: 1em; padding-right: 1em; text-align: center; vertical-align: top\">1</td>\n",
       "        <td style=\"padding-left: 1em; padding-right: 1em; text-align: center; vertical-align: top\">1.1356489797</td>\n",
       "    </tr>\n",
       "    <tr>\n",
       "        <td style=\"padding-left: 1em; padding-right: 1em; text-align: center; vertical-align: top\">awesome</td>\n",
       "        <td style=\"padding-left: 1em; padding-right: 1em; text-align: center; vertical-align: top\">None</td>\n",
       "        <td style=\"padding-left: 1em; padding-right: 1em; text-align: center; vertical-align: top\">1</td>\n",
       "        <td style=\"padding-left: 1em; padding-right: 1em; text-align: center; vertical-align: top\">1.15027219252</td>\n",
       "    </tr>\n",
       "</table>\n",
       "[12 rows x 4 columns]<br/>Note: Only the head of the SFrame is printed.<br/>You can use print_rows(num_rows=m, num_columns=n) to print more rows and columns.\n",
       "</div>"
      ],
      "text/plain": [
       "Columns:\n",
       "\tname\tstr\n",
       "\tindex\tstr\n",
       "\tclass\tint\n",
       "\tvalue\tfloat\n",
       "\n",
       "Rows: 12\n",
       "\n",
       "Data:\n",
       "+-------------+-------+-------+------------------+\n",
       "|     name    | index | class |      value       |\n",
       "+-------------+-------+-------+------------------+\n",
       "|   horrible  |  None |   1   |  -2.25928644233  |\n",
       "|   terrible  |  None |   1   |  -2.20243828841  |\n",
       "|    awful    |  None |   1   |  -1.97612582374  |\n",
       "|     hate    |  None |   1   |  -0.79701408614  |\n",
       "|     bad     |  None |   1   | -0.773396493599  |\n",
       "| (intercept) |  None |   1   | -0.177002708824  |\n",
       "|     wow     |  None |   1   | -0.0485853523986 |\n",
       "|    great    |  None |   1   |  1.11010078649   |\n",
       "|  fantastic  |  None |   1   |   1.1356489797   |\n",
       "|   awesome   |  None |   1   |  1.15027219252   |\n",
       "+-------------+-------+-------+------------------+\n",
       "[12 rows x 4 columns]\n",
       "Note: Only the head of the SFrame is printed.\n",
       "You can use print_rows(num_rows=m, num_columns=n) to print more rows and columns."
      ]
     },
     "execution_count": 39,
     "metadata": {},
     "output_type": "execute_result"
    }
   ],
   "source": [
    "feature_words_model['coefficients'].sort('value')"
   ]
  },
  {
   "cell_type": "markdown",
   "metadata": {},
   "source": [
    "** what to note:**\n",
    "* Negative words have negative coefficents\n",
    "* Positive words have positive coefficients (except \"wow\")\n",
    "* Negative words like \"horrible\" and \"terrible\" have twice the magnitude of the most positive words (negative words seem to have stronger connotation)"
   ]
  },
  {
   "cell_type": "markdown",
   "metadata": {},
   "source": [
    "## Model Evaluation"
   ]
  },
  {
   "cell_type": "code",
   "execution_count": 24,
   "metadata": {
    "collapsed": true
   },
   "outputs": [],
   "source": [
    "def print_statistics(result):\n",
    "    print \"*\" * 30\n",
    "    print \"Accuracy        : \", result[\"accuracy\"]\n",
    "    print \"Precision       : \", result['precision']\n",
    "    print \"Recall          : \", result['recall']\n",
    "    print \"AUC             : \", result['auc']\n",
    "    print \"Confusion Matrix: \\n\", result[\"confusion_matrix\"]"
   ]
  },
  {
   "cell_type": "code",
   "execution_count": 43,
   "metadata": {
    "collapsed": false,
    "scrolled": true
   },
   "outputs": [
    {
     "name": "stdout",
     "output_type": "stream",
     "text": [
      "******************************\n",
      "Accuracy        :  0.624029719425\n",
      "Precision       :  0.788659527135\n",
      "Recall          :  0.381076182739\n",
      "AUC             :  0.656706547595\n",
      "Confusion Matrix: \n",
      "+--------------+-----------------+-------+\n",
      "| target_label | predicted_label | count |\n",
      "+--------------+-----------------+-------+\n",
      "|      0       |        1        |  8170 |\n",
      "|      0       |        0        | 65260 |\n",
      "|      1       |        1        | 30488 |\n",
      "|      1       |        0        | 49517 |\n",
      "+--------------+-----------------+-------+\n",
      "[4 rows x 3 columns]\n",
      "\n"
     ]
    }
   ],
   "source": [
    "feature_word_result = feature_words_model.evaluate(freq_test)\n",
    "print_statistics(feature_word_result)"
   ]
  },
  {
   "cell_type": "markdown",
   "metadata": {},
   "source": [
    "** what to note:**\n",
    "* Performance not very impressive\n",
    "* Specific word features are too bias to make the model useful\n",
    "* Review with zero count for all features has by default a negative predicted sentiment"
   ]
  },
  {
   "cell_type": "markdown",
   "metadata": {},
   "source": [
    "# Sentiment Anlaysis - Summary Unigram\n",
    "** Review summary are only a few word long, but may provide enough information for sentiment analysis**"
   ]
  },
  {
   "cell_type": "code",
   "execution_count": 51,
   "metadata": {
    "collapsed": false
   },
   "outputs": [
    {
     "data": {
      "text/html": [
       "<div style=\"max-height:1000px;max-width:1500px;overflow:auto;\"><table frame=\"box\" rules=\"cols\">\n",
       "    <tr>\n",
       "        <th style=\"padding-left: 1em; padding-right: 1em; text-align: center\">sentiment</th>\n",
       "        <th style=\"padding-left: 1em; padding-right: 1em; text-align: center\">summary</th>\n",
       "        <th style=\"padding-left: 1em; padding-right: 1em; text-align: center\">Unigram</th>\n",
       "    </tr>\n",
       "    <tr>\n",
       "        <td style=\"padding-left: 1em; padding-right: 1em; text-align: center; vertical-align: top\">1</td>\n",
       "        <td style=\"padding-left: 1em; padding-right: 1em; text-align: center; vertical-align: top\">Great chair</td>\n",
       "        <td style=\"padding-left: 1em; padding-right: 1em; text-align: center; vertical-align: top\">{'chair': 1, 'great': 1}</td>\n",
       "    </tr>\n",
       "    <tr>\n",
       "        <td style=\"padding-left: 1em; padding-right: 1em; text-align: center; vertical-align: top\">0</td>\n",
       "        <td style=\"padding-left: 1em; padding-right: 1em; text-align: center; vertical-align: top\">Falls apart and gets<br>stuck ...</td>\n",
       "        <td style=\"padding-left: 1em; padding-right: 1em; text-align: center; vertical-align: top\">{'and': 1, 'stuck': 1,<br>'gets': 1, 'falls': 1, ...</td>\n",
       "    </tr>\n",
       "    <tr>\n",
       "        <td style=\"padding-left: 1em; padding-right: 1em; text-align: center; vertical-align: top\">0</td>\n",
       "        <td style=\"padding-left: 1em; padding-right: 1em; text-align: center; vertical-align: top\">So slippery!</td>\n",
       "        <td style=\"padding-left: 1em; padding-right: 1em; text-align: center; vertical-align: top\">{'so': 1, 'slippery': 1}</td>\n",
       "    </tr>\n",
       "    <tr>\n",
       "        <td style=\"padding-left: 1em; padding-right: 1em; text-align: center; vertical-align: top\">0</td>\n",
       "        <td style=\"padding-left: 1em; padding-right: 1em; text-align: center; vertical-align: top\">Too Bad</td>\n",
       "        <td style=\"padding-left: 1em; padding-right: 1em; text-align: center; vertical-align: top\">{'bad': 1, 'too': 1}</td>\n",
       "    </tr>\n",
       "    <tr>\n",
       "        <td style=\"padding-left: 1em; padding-right: 1em; text-align: center; vertical-align: top\">1</td>\n",
       "        <td style=\"padding-left: 1em; padding-right: 1em; text-align: center; vertical-align: top\">Great Tool</td>\n",
       "        <td style=\"padding-left: 1em; padding-right: 1em; text-align: center; vertical-align: top\">{'tool': 1, 'great': 1}</td>\n",
       "    </tr>\n",
       "    <tr>\n",
       "        <td style=\"padding-left: 1em; padding-right: 1em; text-align: center; vertical-align: top\">1</td>\n",
       "        <td style=\"padding-left: 1em; padding-right: 1em; text-align: center; vertical-align: top\">Big Hit with my Daughter</td>\n",
       "        <td style=\"padding-left: 1em; padding-right: 1em; text-align: center; vertical-align: top\">{'hit': 1, 'with': 1,<br>'my': 1, 'daughter': 1, ...</td>\n",
       "    </tr>\n",
       "    <tr>\n",
       "        <td style=\"padding-left: 1em; padding-right: 1em; text-align: center; vertical-align: top\">0</td>\n",
       "        <td style=\"padding-left: 1em; padding-right: 1em; text-align: center; vertical-align: top\">Wasn't wat i wan't</td>\n",
       "        <td style=\"padding-left: 1em; padding-right: 1em; text-align: center; vertical-align: top\">{'i': 1, 'wan': 1, 'wat':<br>1, 't': 2, 'wasn': 1} ...</td>\n",
       "    </tr>\n",
       "    <tr>\n",
       "        <td style=\"padding-left: 1em; padding-right: 1em; text-align: center; vertical-align: top\">1</td>\n",
       "        <td style=\"padding-left: 1em; padding-right: 1em; text-align: center; vertical-align: top\">good enough</td>\n",
       "        <td style=\"padding-left: 1em; padding-right: 1em; text-align: center; vertical-align: top\">{'enough': 1, 'good': 1}</td>\n",
       "    </tr>\n",
       "    <tr>\n",
       "        <td style=\"padding-left: 1em; padding-right: 1em; text-align: center; vertical-align: top\">0</td>\n",
       "        <td style=\"padding-left: 1em; padding-right: 1em; text-align: center; vertical-align: top\">48\" waist?  I think not</td>\n",
       "        <td style=\"padding-left: 1em; padding-right: 1em; text-align: center; vertical-align: top\">{'not': 1, 'i': 1,<br>'think': 1, '48': 1, ...</td>\n",
       "    </tr>\n",
       "    <tr>\n",
       "        <td style=\"padding-left: 1em; padding-right: 1em; text-align: center; vertical-align: top\">1</td>\n",
       "        <td style=\"padding-left: 1em; padding-right: 1em; text-align: center; vertical-align: top\">Worth Every Penny in The<br>Gold Box ...</td>\n",
       "        <td style=\"padding-left: 1em; padding-right: 1em; text-align: center; vertical-align: top\">{'box': 1, 'gold': 1,<br>'penny': 1, 'every': 1, ...</td>\n",
       "    </tr>\n",
       "</table>\n",
       "[768312 rows x 3 columns]<br/>Note: Only the head of the SFrame is printed.<br/>You can use print_rows(num_rows=m, num_columns=n) to print more rows and columns.\n",
       "</div>"
      ],
      "text/plain": [
       "Columns:\n",
       "\tsentiment\tint\n",
       "\tsummary\tstr\n",
       "\tUnigram\tdict\n",
       "\n",
       "Rows: 768312\n",
       "\n",
       "Data:\n",
       "+-----------+-------------------------------+-------------------------------+\n",
       "| sentiment |            summary            |            Unigram            |\n",
       "+-----------+-------------------------------+-------------------------------+\n",
       "|     1     |          Great chair          |    {'chair': 1, 'great': 1}   |\n",
       "|     0     |   Falls apart and gets stuck  | {'and': 1, 'stuck': 1, 'ge... |\n",
       "|     0     |          So slippery!         |    {'so': 1, 'slippery': 1}   |\n",
       "|     0     |            Too Bad            |      {'bad': 1, 'too': 1}     |\n",
       "|     1     |           Great Tool          |    {'tool': 1, 'great': 1}    |\n",
       "|     1     |    Big Hit with my Daughter   | {'hit': 1, 'with': 1, 'my'... |\n",
       "|     0     |       Wasn't wat i wan't      | {'i': 1, 'wan': 1, 'wat': ... |\n",
       "|     1     |          good enough          |    {'enough': 1, 'good': 1}   |\n",
       "|     0     |    48\" waist?  I think not    | {'not': 1, 'i': 1, 'think'... |\n",
       "|     1     | Worth Every Penny in The G... | {'box': 1, 'gold': 1, 'pen... |\n",
       "+-----------+-------------------------------+-------------------------------+\n",
       "[768312 rows x 3 columns]\n",
       "Note: Only the head of the SFrame is printed.\n",
       "You can use print_rows(num_rows=m, num_columns=n) to print more rows and columns."
      ]
     },
     "execution_count": 51,
     "metadata": {},
     "output_type": "execute_result"
    }
   ],
   "source": [
    "Sport_summary = Sport_sf[['sentiment', 'summary']]\n",
    "Sport_summary.add_column(gl.text_analytics.count_ngrams(Sport_summary['summary'], n = 1),\n",
    "                        name = 'Unigram')"
   ]
  },
  {
   "cell_type": "markdown",
   "metadata": {},
   "source": [
    "# Train Logisictic Classifier"
   ]
  },
  {
   "cell_type": "code",
   "execution_count": 52,
   "metadata": {
    "collapsed": true
   },
   "outputs": [],
   "source": [
    "SportS_train, SportS_test = Sport_summary.random_split(0.8, seed=0)"
   ]
  },
  {
   "cell_type": "code",
   "execution_count": 53,
   "metadata": {
    "collapsed": false
   },
   "outputs": [
    {
     "name": "stdout",
     "output_type": "stream",
     "text": [
      "PROGRESS: Creating a validation set from 5 percent of training data. This may take a while.\n",
      "          You can set ``validation_set=None`` to disable validation tracking.\n",
      "\n",
      "PROGRESS: Logistic regression:\n",
      "PROGRESS: --------------------------------------------------------\n",
      "PROGRESS: Number of examples          : 584086\n",
      "PROGRESS: Number of classes           : 2\n",
      "PROGRESS: Number of feature columns   : 1\n",
      "PROGRESS: Number of unpacked features : 46250\n",
      "PROGRESS: Number of coefficients    : 46251\n",
      "PROGRESS: Starting L-BFGS\n",
      "PROGRESS: --------------------------------------------------------\n",
      "PROGRESS: +-----------+----------+-----------+--------------+-------------------+---------------------+\n",
      "PROGRESS: | Iteration | Passes   | Step size | Elapsed Time | Training-accuracy | Validation-accuracy |\n",
      "PROGRESS: +-----------+----------+-----------+--------------+-------------------+---------------------+\n",
      "PROGRESS: | 1         | 3        | 0.000002  | 0.793782     | 0.869880          | 0.849664            |\n",
      "PROGRESS: | 2         | 5        | 1.000000  | 1.490816     | 0.878556          | 0.856094            |\n",
      "PROGRESS: | 3         | 6        | 1.000000  | 1.916816     | 0.879715          | 0.854600            |\n",
      "PROGRESS: | 4         | 7        | 1.000000  | 2.372283     | 0.892934          | 0.868013            |\n",
      "PROGRESS: | 5         | 8        | 1.000000  | 2.824805     | 0.896856          | 0.871196            |\n",
      "PROGRESS: | 6         | 9        | 1.000000  | 3.273985     | 0.898376          | 0.871553            |\n",
      "PROGRESS: | 10        | 13       | 1.000000  | 5.063773     | 0.901782          | 0.874769            |\n",
      "PROGRESS: +-----------+----------+-----------+--------------+-------------------+---------------------+\n",
      "PROGRESS: TERMINATED: Iteration limit reached.\n",
      "PROGRESS: This model may not be optimal. To improve it, consider increasing `max_iterations`.\n"
     ]
    }
   ],
   "source": [
    "# Automatically take validation set for tuning\n",
    "SS_1gram_model = gl.logistic_classifier.create(SportS_train[['sentiment', 'Unigram']],\n",
    "                                              target = 'sentiment',\n",
    "                                              features=['Unigram'], \n",
    "                                              l2_penalty=0.01,\n",
    "                                              max_iterations = 10)"
   ]
  },
  {
   "cell_type": "markdown",
   "metadata": {},
   "source": [
    "## Model Evaluation"
   ]
  },
  {
   "cell_type": "code",
   "execution_count": 54,
   "metadata": {
    "collapsed": false,
    "scrolled": true
   },
   "outputs": [
    {
     "name": "stdout",
     "output_type": "stream",
     "text": [
      "******************************\n",
      "Accuracy        :  0.874233388731\n",
      "Precision       :  0.869359941592\n",
      "Recall          :  0.892994187863\n",
      "AUC             :  0.934993589661\n",
      "Confusion Matrix: \n",
      "+--------------+-----------------+-------+\n",
      "| target_label | predicted_label | count |\n",
      "+--------------+-----------------+-------+\n",
      "|      0       |        0        | 62694 |\n",
      "|      0       |        1        | 10736 |\n",
      "|      1       |        0        |  8561 |\n",
      "|      1       |        1        | 71444 |\n",
      "+--------------+-----------------+-------+\n",
      "[4 rows x 3 columns]\n",
      "\n"
     ]
    }
   ],
   "source": [
    "resultS_1gram = SS_1gram_model.evaluate(SportS_test)\n",
    "print_statistics(resultS_1gram)"
   ]
  },
  {
   "cell_type": "markdown",
   "metadata": {},
   "source": [
    "** What to note:**\n",
    "* Massive increase in performance across all metrics\n",
    "* Drastic increase in number of features to 46,250!"
   ]
  },
  {
   "cell_type": "markdown",
   "metadata": {},
   "source": [
    "# Sentiment Anlaysis - Review Unigram"
   ]
  },
  {
   "cell_type": "code",
   "execution_count": 21,
   "metadata": {
    "collapsed": true
   },
   "outputs": [],
   "source": [
    "Sport_train, Sport_test = Sport_review.random_split(0.8, seed=0)"
   ]
  },
  {
   "cell_type": "code",
   "execution_count": 55,
   "metadata": {
    "collapsed": false
   },
   "outputs": [
    {
     "name": "stdout",
     "output_type": "stream",
     "text": [
      "PROGRESS: Creating a validation set from 5 percent of training data. This may take a while.\n",
      "          You can set ``validation_set=None`` to disable validation tracking.\n",
      "\n",
      "PROGRESS: Logistic regression:\n",
      "PROGRESS: --------------------------------------------------------\n",
      "PROGRESS: Number of examples          : 584574\n",
      "PROGRESS: Number of classes           : 2\n",
      "PROGRESS: Number of feature columns   : 1\n",
      "PROGRESS: Number of unpacked features : 181828\n",
      "PROGRESS: Number of coefficients    : 181829\n",
      "PROGRESS: Starting L-BFGS\n",
      "PROGRESS: --------------------------------------------------------\n",
      "PROGRESS: +-----------+----------+-----------+--------------+-------------------+---------------------+\n",
      "PROGRESS: | Iteration | Passes   | Step size | Elapsed Time | Training-accuracy | Validation-accuracy |\n",
      "PROGRESS: +-----------+----------+-----------+--------------+-------------------+---------------------+\n",
      "PROGRESS: | 1         | 3        | 0.000002  | 3.209574     | 0.876604          | 0.859057            |\n",
      "PROGRESS: | 2         | 5        | 1.000000  | 6.084910     | 0.906275          | 0.878824            |\n",
      "PROGRESS: | 3         | 6        | 1.000000  | 7.842742     | 0.898707          | 0.862753            |\n",
      "PROGRESS: | 4         | 7        | 1.000000  | 9.605959     | 0.920708          | 0.883213            |\n",
      "PROGRESS: | 5         | 8        | 1.000000  | 11.373977    | 0.922378          | 0.883312            |\n",
      "PROGRESS: | 6         | 9        | 1.000000  | 13.151766    | 0.923626          | 0.880639            |\n",
      "PROGRESS: | 7         | 10       | 1.000000  | 14.975234    | 0.926206          | 0.880870            |\n",
      "PROGRESS: | 8         | 11       | 1.000000  | 16.682810    | 0.927025          | 0.882091            |\n",
      "PROGRESS: | 9         | 12       | 1.000000  | 18.520430    | 0.927487          | 0.881926            |\n",
      "PROGRESS: | 10        | 13       | 1.000000  | 20.476911    | 0.928483          | 0.882058            |\n",
      "PROGRESS: +-----------+----------+-----------+--------------+-------------------+---------------------+\n",
      "PROGRESS: TERMINATED: Iteration limit reached.\n",
      "PROGRESS: This model may not be optimal. To improve it, consider increasing `max_iterations`.\n"
     ]
    }
   ],
   "source": [
    "# Automatically take validation set for tuning\n",
    "S_1gram_model = gl.logistic_classifier.create(Sport_train[['sentiment', 'Unigram']],\n",
    "                                              target = 'sentiment',\n",
    "                                              features=['Unigram'], \n",
    "                                              l2_penalty=0.01,\n",
    "                                              max_iterations = 10)"
   ]
  },
  {
   "cell_type": "markdown",
   "metadata": {},
   "source": [
    "## Unigram Evaluation"
   ]
  },
  {
   "cell_type": "code",
   "execution_count": 56,
   "metadata": {
    "collapsed": false
   },
   "outputs": [],
   "source": [
    "result_1gram = S_1gram_model.evaluate(Sport_test)"
   ]
  },
  {
   "cell_type": "code",
   "execution_count": 57,
   "metadata": {
    "collapsed": false
   },
   "outputs": [
    {
     "name": "stdout",
     "output_type": "stream",
     "text": [
      "******************************\n",
      "Accuracy        :  0.881435135399\n",
      "Precision       :  0.876885555759\n",
      "Recall          :  0.898806324605\n",
      "AUC             :  0.941310291166\n",
      "Confusion Matrix: \n",
      "+--------------+-----------------+-------+\n",
      "| target_label | predicted_label | count |\n",
      "+--------------+-----------------+-------+\n",
      "|      0       |        1        | 10096 |\n",
      "|      0       |        0        | 63334 |\n",
      "|      1       |        1        | 71909 |\n",
      "|      1       |        0        |  8096 |\n",
      "+--------------+-----------------+-------+\n",
      "[4 rows x 3 columns]\n",
      "\n"
     ]
    }
   ],
   "source": [
    "print_statistics(result_1gram)"
   ]
  },
  {
   "cell_type": "markdown",
   "metadata": {},
   "source": [
    "** what to note:**\n",
    "* Small improvement in performance all metrics increased, but by no more than 1%\n",
    "* However number of features quadrupled to 181,828!\n",
    "* The review summary is more dense in signal, while the full review is more noisy (more wordy)."
   ]
  },
  {
   "cell_type": "markdown",
   "metadata": {},
   "source": [
    "# Sentiment Anlaysis - Review Unigram & Bigram\n",
    "** Just for fun let's add a bigram in the mix and watch the number of features blow up!**"
   ]
  },
  {
   "cell_type": "code",
   "execution_count": 22,
   "metadata": {
    "collapsed": false,
    "scrolled": false
   },
   "outputs": [
    {
     "name": "stdout",
     "output_type": "stream",
     "text": [
      "PROGRESS: Creating a validation set from 5 percent of training data. This may take a while.\n",
      "          You can set ``validation_set=None`` to disable validation tracking.\n",
      "\n",
      "PROGRESS: Logistic regression:\n",
      "PROGRESS: --------------------------------------------------------\n",
      "PROGRESS: Number of examples          : 584331\n",
      "PROGRESS: Number of classes           : 2\n",
      "PROGRESS: Number of feature columns   : 2\n",
      "PROGRESS: Number of unpacked features : 4089757\n",
      "PROGRESS: Number of coefficients    : 4089758\n",
      "PROGRESS: Starting L-BFGS\n",
      "PROGRESS: --------------------------------------------------------\n",
      "PROGRESS: +-----------+----------+-----------+--------------+-------------------+---------------------+\n",
      "PROGRESS: | Iteration | Passes   | Step size | Elapsed Time | Training-accuracy | Validation-accuracy |\n",
      "PROGRESS: +-----------+----------+-----------+--------------+-------------------+---------------------+\n",
      "PROGRESS: | 1         | 3        | 0.000002  | 10.923789    | 0.967097          | 0.898154            |\n",
      "PROGRESS: | 2         | 5        | 1.000000  | 18.694822    | 0.988431          | 0.906142            |\n",
      "PROGRESS: | 3         | 6        | 1.000000  | 23.462580    | 0.993892          | 0.909153            |\n",
      "PROGRESS: | 4         | 7        | 1.000000  | 28.415816    | 0.997116          | 0.912067            |\n",
      "PROGRESS: | 5         | 8        | 1.000000  | 33.398927    | 0.998297          | 0.913638            |\n",
      "PROGRESS: | 6         | 9        | 1.000000  | 38.403209    | 0.998734          | 0.912296            |\n",
      "PROGRESS: | 7         | 10       | 1.000000  | 43.277778    | 0.998965          | 0.911412            |\n",
      "PROGRESS: | 8         | 11       | 1.000000  | 49.191839    | 0.999062          | 0.909219            |\n",
      "PROGRESS: | 9         | 12       | 1.000000  | 56.414159    | 0.999149          | 0.905683            |\n",
      "PROGRESS: +-----------+----------+-----------+--------------+-------------------+---------------------+\n",
      "PROGRESS: TERMINATED: Terminated due to numerical difficulties.\n",
      "PROGRESS: This model may not be ideal. To improve it, consider doing one of the following:\n",
      "(a) Increasing the regularization.\n",
      "(b) Standardizing the input data.\n",
      "(c) Removing highly correlated features.\n",
      "(d) Removing `inf` and `NaN` values in the training data.\n"
     ]
    }
   ],
   "source": [
    "# Automatically take validation set for tuning\n",
    "S_1_2gram_model = gl.logistic_classifier.create(Sport_train[['sentiment', 'Unigram', 'Bigram']],\n",
    "                                              target = 'sentiment',\n",
    "                                              features=['Unigram', 'Bigram'], \n",
    "                                              l2_penalty=0.03,\n",
    "                                              max_iterations = 10)"
   ]
  },
  {
   "cell_type": "markdown",
   "metadata": {},
   "source": [
    "## Model Evaluation"
   ]
  },
  {
   "cell_type": "code",
   "execution_count": 25,
   "metadata": {
    "collapsed": false
   },
   "outputs": [
    {
     "name": "stdout",
     "output_type": "stream",
     "text": [
      "******************************\n",
      "Accuracy        :  0.901736891843\n",
      "Precision       :  0.899891601587\n",
      "Recall          :  0.913130429348\n",
      "AUC             :  0.956537188116\n",
      "Confusion Matrix: \n",
      "+--------------+-----------------+-------+\n",
      "| target_label | predicted_label | count |\n",
      "+--------------+-----------------+-------+\n",
      "|      0       |        1        |  8127 |\n",
      "|      0       |        0        | 65303 |\n",
      "|      1       |        1        | 73055 |\n",
      "|      1       |        0        |  6950 |\n",
      "+--------------+-----------------+-------+\n",
      "[4 rows x 3 columns]\n",
      "\n"
     ]
    }
   ],
   "source": [
    "result_1_2gram = S_1_2gram_model.evaluate(Sport_test)\n",
    "print_statistics(result_1_2gram)"
   ]
  },
  {
   "cell_type": "markdown",
   "metadata": {
    "collapsed": true
   },
   "source": [
    "** what to note:**\n",
    "* The increase in performance is pretty good (AUC: 0.959)\n",
    "* This is at the cost of keeping track of 4,085,548 features!"
   ]
  },
  {
   "cell_type": "markdown",
   "metadata": {},
   "source": [
    "# Plot ROC Curve"
   ]
  },
  {
   "cell_type": "code",
   "execution_count": 26,
   "metadata": {
    "collapsed": false
   },
   "outputs": [
    {
     "name": "stdout",
     "output_type": "stream",
     "text": [
      "Canvas is updated and available in a tab in the default browser.\n"
     ]
    }
   ],
   "source": [
    "S_1_2gram_model.show(view='Evaluation')"
   ]
  },
  {
   "cell_type": "markdown",
   "metadata": {},
   "source": [
    "![](images/AUC.png)"
   ]
  },
  {
   "cell_type": "markdown",
   "metadata": {},
   "source": [
    "** What to note:**\n",
    "* The ROC shows that our model is a great sentiment classifier\n",
    "* Since Flase Negatives aren't prefered over False Positive, the optimal threshold is about 0.5\n",
    "\n",
    "** BUT is there a way to obtain similar performance with a simpler model?**"
   ]
  },
  {
   "cell_type": "markdown",
   "metadata": {},
   "source": [
    "# PART2: Word2Vect"
   ]
  }
 ],
 "metadata": {
  "kernelspec": {
   "display_name": "Python 2",
   "language": "python",
   "name": "python2"
  },
  "language_info": {
   "codemirror_mode": {
    "name": "ipython",
    "version": 2
   },
   "file_extension": ".py",
   "mimetype": "text/x-python",
   "name": "python",
   "nbconvert_exporter": "python",
   "pygments_lexer": "ipython2",
   "version": "2.7.11"
  }
 },
 "nbformat": 4,
 "nbformat_minor": 0
}
